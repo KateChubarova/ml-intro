{
 "cells": [
  {
   "cell_type": "markdown",
   "id": "4e5b6df5",
   "metadata": {},
   "source": [
    "## Linear regression\n",
    "\n",
    "This assignment is dedicated to Linear regression. 12 task, 30 points max.\n",
    "\n",
    "By focusing on predicting different features of football players,\n",
    "you will:\n",
    "* gain understanding of mathematics behind Linear Regression model\n",
    "* and become familiar with using `sklearn` library for solving this kind of tasks\n",
    "\n",
    "In the assignment we will:\n",
    "* build Linear regression models with 1 and many variables\n",
    "* use both library methods and manual calculations using mathematical formulas\n",
    "* implement main regression metrics to evaluate performance of our models\n",
    "* explore limitations of classical linear regression\n",
    "\n",
    "### Notes:\n",
    "* do not modify `assert` blocks in code. They are used to check your results\n",
    "    \n",
    "\n",
    "### Data\n",
    "- In this notebook we will work with Football Player attributes per each match played.\n",
    "  \n",
    "  Data is taken from [European Soccer Database](https://www.kaggle.com/hugomathien/soccer) dataset. \n",
    "  \n",
    "  The table used is `Player_Attributes`.\n",
    "\n",
    "\n",
    "### Materias\n",
    "\n",
    "Start with the assignment first. Use materials below as references when needed.\n",
    "\n",
    "* NumPy:\n",
    "    - [quickstart](https://numpy.org/doc/stable/user/quickstart.html)\n",
    "    - [api reference](https://numpy.org/doc/stable/reference/index.html)\n",
    "    \n",
    "\n",
    "* Pandas:\n",
    "    - [10 minutes to pandas](https://pandas.pydata.org/docs/user_guide/10min.html)\n",
    "    - guide on [groupby.transform](https://pandas.pydata.org/docs/user_guide/groupby.html#transformation). \n",
    "      used in one of tasks on data preprocessing\n",
    "    - [cheat sheet](https://pandas.pydata.org/Pandas_Cheat_Sheet.pdf)\n",
    "    \n",
    "\n",
    "* sklearn:\n",
    "    - [LinearRegression](https://scikit-learn.org/stable/modules/generated/sklearn.linear_model.LinearRegression.html#sklearn.linear_model.LinearRegression) class documentation\n",
    "    - guide on [Linear models](https://scikit-learn.org/stable/modules/linear_model.html#ordinary-least-squares)\n",
    "\n",
    "\n",
    "* Matplotlib:\n",
    "    - [cheatsheet](https://matplotlib.org/cheatsheets/)\n",
    "    - examples of [main plot types](https://matplotlib.org/stable/plot_types/index.html)\n",
    "    - [scatter plot](https://matplotlib.org/stable/api/_as_gen/matplotlib.pyplot.scatter.html) documentation"
   ]
  },
  {
   "cell_type": "code",
   "execution_count": null,
   "id": "fdd83a4e",
   "metadata": {},
   "outputs": [],
   "source": []
  },
  {
   "cell_type": "code",
   "execution_count": 1,
   "id": "cccaa2d4",
   "metadata": {
    "ExecuteTime": {
     "end_time": "2022-02-05T15:50:28.686367Z",
     "start_time": "2022-02-05T15:50:27.581843Z"
    }
   },
   "outputs": [],
   "source": [
    "import os\n",
    "\n",
    "import numpy as np\n",
    "import pandas as pd\n",
    "pd.options.display.max_rows = 200\n",
    "pd.options.display.max_columns = 100\n",
    "pd.options.mode.chained_assignment = 'raise'  # forbid chained assignment to prevent implicit errors\n",
    "\n",
    "import matplotlib.pyplot as plt\n",
    "plt.rcParams[\"figure.figsize\"] = (7, 6)  # set default figure size\n",
    "\n",
    "import seaborn as sns\n",
    "sns.set(font_scale=1.1)  # increase default font scale and set seaborn's plot style\n",
    "\n",
    "from typing import List, Iterable"
   ]
  },
  {
   "cell_type": "code",
   "execution_count": null,
   "id": "cf6900e0",
   "metadata": {},
   "outputs": [],
   "source": []
  },
  {
   "cell_type": "markdown",
   "id": "6c59585c",
   "metadata": {},
   "source": [
    "## Data Processing"
   ]
  },
  {
   "cell_type": "code",
   "execution_count": 2,
   "id": "da412d8a",
   "metadata": {
    "ExecuteTime": {
     "end_time": "2022-02-05T15:50:28.701544Z",
     "start_time": "2022-02-05T15:50:28.688368Z"
    }
   },
   "outputs": [
    {
     "name": "stdout",
     "output_type": "stream",
     "text": [
      "data_root_dp: \"data/soccer\"\n"
     ]
    }
   ],
   "source": [
    "data_root_dp = os.path.join('data', 'soccer')  # change to yours path\n",
    "print(f'data_root_dp: \"{data_root_dp}\"')"
   ]
  },
  {
   "cell_type": "code",
   "execution_count": null,
   "id": "f466a4c8",
   "metadata": {},
   "outputs": [],
   "source": []
  },
  {
   "cell_type": "markdown",
   "id": "a8b58c0e",
   "metadata": {},
   "source": [
    "### read the raw SQL data\n",
    "* you can run this code only once.<br>\n",
    "  it will read `.sqlite` file and save extracted data to a more handy `.csv` format"
   ]
  },
  {
   "cell_type": "code",
   "execution_count": 3,
   "id": "2d5769d2",
   "metadata": {
    "ExecuteTime": {
     "end_time": "2022-02-05T15:50:28.762969Z",
     "start_time": "2022-02-05T15:50:28.704803Z"
    }
   },
   "outputs": [
    {
     "name": "stdout",
     "output_type": "stream",
     "text": [
      "will read from: \"data/soccer/database.sqlite\"\n",
      "shape: (183978, 42)\n",
      "will save to: \"data/soccer/tmp/player_attributes.csv\"\n"
     ]
    }
   ],
   "source": [
    "import sqlite3\n",
    "\n",
    "# open connection to .sqlite file\n",
    "data_sql_fp = os.path.join(data_root_dp, 'database.sqlite')\n",
    "print(f'will read from: \"{data_sql_fp}\"')\n",
    "con = sqlite3.connect(data_sql_fp)\n",
    "\n",
    "df = pd.read_sql('select * from Player_Attributes', con)  # run SQL-query\n",
    "print(f'shape: {df.shape}')\n",
    "con.close()  # close connection to .sqlite file\n",
    "\n",
    "# save to .csv\n",
    "out_fp = os.path.join(data_root_dp, 'tmp', 'player_attributes.csv')\n",
    "os.makedirs(os.path.dirname(out_fp), exist_ok=True)  # create directories if needed\n",
    "print(f'will save to: \"{out_fp}\"')\n",
    "df.to_csv(out_fp, index=False)"
   ]
  },
  {
   "cell_type": "code",
   "execution_count": null,
   "id": "5cd4df53",
   "metadata": {},
   "outputs": [],
   "source": []
  },
  {
   "cell_type": "markdown",
   "id": "a53024bd",
   "metadata": {},
   "source": [
    "### read the  data"
   ]
  },
  {
   "cell_type": "code",
   "execution_count": 4,
   "id": "cac90bbf",
   "metadata": {
    "ExecuteTime": {
     "end_time": "2022-02-05T15:50:29.329081Z",
     "start_time": "2022-02-05T15:50:28.764802Z"
    }
   },
   "outputs": [
    {
     "name": "stdout",
     "output_type": "stream",
     "text": [
      "reading from: \"data/soccer/tmp/player_attributes.csv\"\n",
      "(183978, 42)\n"
     ]
    }
   ],
   "source": [
    "data_player_attributes_fp = os.path.join(data_root_dp,'tmp', 'player_attributes.csv')\n",
    "print(f'reading from: \"{data_player_attributes_fp}\"')\n",
    "df = pd.read_csv(data_player_attributes_fp)\n",
    "print(df.shape)"
   ]
  },
  {
   "cell_type": "code",
   "execution_count": 5,
   "id": "e1dc91bc",
   "metadata": {
    "ExecuteTime": {
     "end_time": "2022-02-05T15:50:29.344600Z",
     "start_time": "2022-02-05T15:50:29.331278Z"
    }
   },
   "outputs": [
    {
     "data": {
      "text/plain": [
       "id                       int64\n",
       "player_fifa_api_id       int64\n",
       "player_api_id            int64\n",
       "date                    object\n",
       "overall_rating         float64\n",
       "potential              float64\n",
       "preferred_foot          object\n",
       "attacking_work_rate     object\n",
       "defensive_work_rate     object\n",
       "crossing               float64\n",
       "finishing              float64\n",
       "heading_accuracy       float64\n",
       "short_passing          float64\n",
       "volleys                float64\n",
       "dribbling              float64\n",
       "curve                  float64\n",
       "free_kick_accuracy     float64\n",
       "long_passing           float64\n",
       "ball_control           float64\n",
       "acceleration           float64\n",
       "sprint_speed           float64\n",
       "agility                float64\n",
       "reactions              float64\n",
       "balance                float64\n",
       "shot_power             float64\n",
       "jumping                float64\n",
       "stamina                float64\n",
       "strength               float64\n",
       "long_shots             float64\n",
       "aggression             float64\n",
       "interceptions          float64\n",
       "positioning            float64\n",
       "vision                 float64\n",
       "penalties              float64\n",
       "marking                float64\n",
       "standing_tackle        float64\n",
       "sliding_tackle         float64\n",
       "gk_diving              float64\n",
       "gk_handling            float64\n",
       "gk_kicking             float64\n",
       "gk_positioning         float64\n",
       "gk_reflexes            float64\n",
       "dtype: object"
      ]
     },
     "execution_count": 5,
     "metadata": {},
     "output_type": "execute_result"
    }
   ],
   "source": [
    "df.dtypes"
   ]
  },
  {
   "cell_type": "code",
   "execution_count": null,
   "id": "f1324cc4",
   "metadata": {},
   "outputs": [],
   "source": []
  },
  {
   "cell_type": "markdown",
   "id": "2dab3be6",
   "metadata": {},
   "source": [
    "### basic data processing"
   ]
  },
  {
   "cell_type": "code",
   "execution_count": 6,
   "id": "d7c07b98",
   "metadata": {
    "ExecuteTime": {
     "end_time": "2022-02-05T15:50:29.530177Z",
     "start_time": "2022-02-05T15:50:29.346142Z"
    }
   },
   "outputs": [
    {
     "name": "stdout",
     "output_type": "stream",
     "text": [
      "will drop following columns: ['id', 'player_fifa_api_id', 'preferred_foot', 'attacking_work_rate', 'defensive_work_rate']\n",
      "df.shape: (183142, 37)\n"
     ]
    }
   ],
   "source": [
    "# there are 3 'id' columns in data. \n",
    "# we will use 'player_api_id' only\n",
    "# and drop other 'id' columns.\n",
    "redundant_key_columns = ['id', 'player_fifa_api_id']\n",
    "\n",
    "# also we will drop categorical columns for this task.\n",
    "categorical_columns = ['preferred_foot', 'attacking_work_rate', 'defensive_work_rate']\n",
    "\n",
    "cols_to_drop = redundant_key_columns + categorical_columns\n",
    "print(f'will drop following columns: {cols_to_drop}')\n",
    "df.drop(columns=cols_to_drop, inplace=True)\n",
    "\n",
    "# rename 'player_api_id' column to shorter one: 'id'.\n",
    "df.rename(columns={'player_api_id': 'id'}, inplace=True)\n",
    "\n",
    "# cast string values to datetime\n",
    "df['date'] = pd.to_datetime(df['date'])\n",
    "\n",
    "# drop records that contain only NaNs in features\n",
    "all_features = set(df.columns).difference(['id', 'date'])  # all columns without key columns\n",
    "df.dropna(subset=all_features, how='all', inplace=True)\n",
    "\n",
    "print(f'df.shape: {df.shape}')"
   ]
  },
  {
   "cell_type": "code",
   "execution_count": 7,
   "id": "0255a6b5",
   "metadata": {
    "ExecuteTime": {
     "end_time": "2022-02-05T15:50:29.577558Z",
     "start_time": "2022-02-05T15:50:29.532174Z"
    }
   },
   "outputs": [
    {
     "name": "stdout",
     "output_type": "stream",
     "text": [
      "(183142, 37)\n"
     ]
    }
   ],
   "source": [
    "# the dataset we're working with migh get updated in future (new records might be added).\n",
    "# thus we remove any records with date larger than the current max date in data (2016-07-07)\n",
    "# for compatibility with current version of notebook.\n",
    "df.drop(index=df[df['date'] > '2016-07-07'].index, inplace=True)\n",
    "print(df.shape)"
   ]
  },
  {
   "cell_type": "code",
   "execution_count": null,
   "id": "49f4ab8d",
   "metadata": {},
   "outputs": [],
   "source": []
  },
  {
   "cell_type": "markdown",
   "id": "3ad265de",
   "metadata": {
    "ExecuteTime": {
     "end_time": "2022-01-28T12:35:41.941544Z",
     "start_time": "2022-01-28T12:35:41.883366Z"
    }
   },
   "source": [
    "### drop duplicates\n",
    "\n",
    "* we should **ALWAYS** understand what our data represents\n",
    "\n",
    "\n",
    "* here we are dealing with Football Player attributes per each match played.\n",
    "\n",
    "  so we expect the data to have `(id, date)` as a key\n",
    "  \n",
    "  \n",
    "* let's check whether our assumption holds"
   ]
  },
  {
   "cell_type": "code",
   "execution_count": 8,
   "id": "030381ee",
   "metadata": {
    "ExecuteTime": {
     "end_time": "2022-02-05T15:50:29.608747Z",
     "start_time": "2022-02-05T15:50:29.580864Z"
    }
   },
   "outputs": [
    {
     "data": {
      "text/plain": [
       "False    183142\n",
       "dtype: int64"
      ]
     },
     "execution_count": 8,
     "metadata": {},
     "output_type": "execute_result"
    }
   ],
   "source": [
    "df.duplicated(['id', 'date']).value_counts()"
   ]
  },
  {
   "cell_type": "markdown",
   "id": "fdf60a16",
   "metadata": {},
   "source": [
    "* there are no duplicates if considering `(id, date)` pair as a key"
   ]
  },
  {
   "cell_type": "code",
   "execution_count": 9,
   "id": "4086ef3f",
   "metadata": {
    "ExecuteTime": {
     "end_time": "2022-02-05T15:50:29.624155Z",
     "start_time": "2022-02-05T15:50:29.609731Z"
    }
   },
   "outputs": [
    {
     "data": {
      "text/plain": [
       "True     172082\n",
       "False     11060\n",
       "dtype: int64"
      ]
     },
     "execution_count": 9,
     "metadata": {},
     "output_type": "execute_result"
    }
   ],
   "source": [
    "df.duplicated('id').value_counts()"
   ]
  },
  {
   "cell_type": "markdown",
   "id": "45c10b6b",
   "metadata": {},
   "source": [
    "* and there are duplicates if considering only `id` column as a key"
   ]
  },
  {
   "cell_type": "markdown",
   "id": "da6c2c00",
   "metadata": {},
   "source": [
    "* so our assumption holds. but let's work only with latest stats for each player"
   ]
  },
  {
   "cell_type": "code",
   "execution_count": null,
   "id": "a9ec3b78",
   "metadata": {},
   "outputs": [],
   "source": []
  },
  {
   "cell_type": "markdown",
   "id": "b1de721c",
   "metadata": {},
   "source": [
    "#### Task 1. Keep only latest data for each player (1 point)\n",
    "\n",
    "* HINT: you can use \n",
    "\n",
    "  `df[<new_column>] = df.groupby(<key_to_aggregate>)[<column>].transform('max')` \n",
    "  \n",
    "  to get the `max` value of `<column>` for each group specified by `<key_to_aggregate>` columns.\n",
    "  \n",
    "  then you'll have to filter rows using `<column>` and `<new_column>` values\n",
    "  \n",
    "\n",
    "* don't forget to remove any additional columns you introduce here"
   ]
  },
  {
   "cell_type": "code",
   "execution_count": 10,
   "id": "cc87b057",
   "metadata": {
    "ExecuteTime": {
     "end_time": "2022-02-05T15:50:29.639771Z",
     "start_time": "2022-02-05T15:50:29.625866Z"
    }
   },
   "outputs": [
    {
     "name": "stdout",
     "output_type": "stream",
     "text": [
      "(11060, 37)\n"
     ]
    }
   ],
   "source": [
    "# # your code here\n",
    "\n",
    "df['fresh_date'] = df.groupby('id')['date'].transform('max')\n",
    "df = df.drop_duplicates('id', keep='first')\n",
    "df = df.drop('fresh_date', axis=1)\n",
    "\n",
    "print(df.shape)"
   ]
  },
  {
   "cell_type": "code",
   "execution_count": 11,
   "id": "f9c8ec16",
   "metadata": {
    "ExecuteTime": {
     "end_time": "2022-02-05T15:50:29.733313Z",
     "start_time": "2022-02-05T15:50:29.718598Z"
    }
   },
   "outputs": [],
   "source": [
    "assert df.duplicated(['id']).sum() == 0\n",
    "assert df.shape == (11060, 37)"
   ]
  },
  {
   "cell_type": "code",
   "execution_count": 12,
   "id": "ebc1701c",
   "metadata": {
    "ExecuteTime": {
     "end_time": "2022-02-05T15:50:29.748115Z",
     "start_time": "2022-02-05T15:50:29.735521Z"
    }
   },
   "outputs": [],
   "source": [
    "# no longer need 'id' and 'date' columns\n",
    "df.drop(columns=['id', 'date'], inplace=True)"
   ]
  },
  {
   "cell_type": "code",
   "execution_count": null,
   "id": "ccdcffa6",
   "metadata": {},
   "outputs": [],
   "source": []
  },
  {
   "cell_type": "markdown",
   "id": "944b90ee",
   "metadata": {},
   "source": [
    "### NaNs"
   ]
  },
  {
   "cell_type": "code",
   "execution_count": 13,
   "id": "6c25a7e1",
   "metadata": {
    "ExecuteTime": {
     "end_time": "2022-02-05T15:50:29.763295Z",
     "start_time": "2022-02-05T15:50:29.750116Z"
    }
   },
   "outputs": [
    {
     "data": {
      "text/plain": [
       "overall_rating          0\n",
       "potential               0\n",
       "crossing                0\n",
       "finishing               0\n",
       "heading_accuracy        0\n",
       "short_passing           0\n",
       "volleys               478\n",
       "dribbling               0\n",
       "curve                 478\n",
       "free_kick_accuracy      0\n",
       "long_passing            0\n",
       "ball_control            0\n",
       "acceleration            0\n",
       "sprint_speed            0\n",
       "agility               478\n",
       "reactions               0\n",
       "balance               478\n",
       "shot_power              0\n",
       "jumping               478\n",
       "stamina                 0\n",
       "strength                0\n",
       "long_shots              0\n",
       "aggression              0\n",
       "interceptions           0\n",
       "positioning             0\n",
       "vision                478\n",
       "penalties               0\n",
       "marking                 0\n",
       "standing_tackle         0\n",
       "sliding_tackle        478\n",
       "gk_diving               0\n",
       "gk_handling             0\n",
       "gk_kicking              0\n",
       "gk_positioning          0\n",
       "gk_reflexes             0\n",
       "dtype: int64"
      ]
     },
     "execution_count": 13,
     "metadata": {},
     "output_type": "execute_result"
    }
   ],
   "source": [
    "df.isna().sum()"
   ]
  },
  {
   "cell_type": "markdown",
   "id": "5d2ba710",
   "metadata": {},
   "source": [
    "* do you see any pattern in how NaNs are distributed?"
   ]
  },
  {
   "cell_type": "code",
   "execution_count": 14,
   "id": "4c056d52",
   "metadata": {
    "ExecuteTime": {
     "end_time": "2022-02-05T15:50:29.778650Z",
     "start_time": "2022-02-05T15:50:29.765289Z"
    }
   },
   "outputs": [
    {
     "data": {
      "text/plain": [
       "0    10582\n",
       "7      478\n",
       "dtype: int64"
      ]
     },
     "execution_count": 14,
     "metadata": {},
     "output_type": "execute_result"
    }
   ],
   "source": [
    "df.isna().sum(axis=1).value_counts()"
   ]
  },
  {
   "cell_type": "code",
   "execution_count": null,
   "id": "1c711b1b",
   "metadata": {},
   "outputs": [],
   "source": []
  },
  {
   "cell_type": "markdown",
   "id": "755f3f83",
   "metadata": {},
   "source": [
    "#### Task 2. Drop rows that contain NaNs (1 point)"
   ]
  },
  {
   "cell_type": "code",
   "execution_count": 15,
   "id": "d39076e9",
   "metadata": {
    "ExecuteTime": {
     "end_time": "2022-02-05T15:50:29.809854Z",
     "start_time": "2022-02-05T15:50:29.796711Z"
    }
   },
   "outputs": [],
   "source": [
    "df = df.dropna()"
   ]
  },
  {
   "cell_type": "code",
   "execution_count": 16,
   "id": "19ca7656",
   "metadata": {
    "ExecuteTime": {
     "end_time": "2022-02-05T15:50:29.840082Z",
     "start_time": "2022-02-05T15:50:29.825620Z"
    }
   },
   "outputs": [],
   "source": [
    "assert df.isna().sum().sum() == 0"
   ]
  },
  {
   "cell_type": "code",
   "execution_count": null,
   "id": "0f49facb",
   "metadata": {},
   "outputs": [],
   "source": []
  },
  {
   "cell_type": "markdown",
   "id": "ff5ee4e2",
   "metadata": {},
   "source": [
    "## Task 3. Implement main regression metrics yourself (up to 4 points):\n",
    "* Mean Squared Error (mse) - **(1 point)**\n",
    "* Mean Absolute Error (mae) - **(1 point)**\n",
    "* Mean Absolute Percentage Error (mape) - **(1 point)**\n",
    "* R-squared (r2) - **(1 point)**\n",
    "\n",
    "\n",
    "#### bonus point: MAPE is implemented in such way to take possible 0 in `y_true` into account\n",
    "Hints:\n",
    "\n",
    "* you should divide on \n",
    "  $ \\hat{y}_{true} = (\\hat{y}_{true}^{(0)}, \\hat{y}_{true}^{(1)}, ..., \\hat{y}_{true}^{(n)}) $,\n",
    "  \n",
    "  where $ \\ \\ \\hat{y}_{true}^{(i)} = max(\\ \\ | y_{true}^{(i)} |, \\ \\ \\epsilon), \\ \\ \\epsilon > 0, \\ \\ y_{true}^{(i)} \\in \\mathbb R $\n",
    "  \n",
    "\n",
    "* for compatibility with `sklearn` take \n",
    "\n",
    "  `eps = np.finfo(np.float64).eps`\n",
    "  \n",
    "  \n",
    "#### bonus point: $R^2$ is implemented in such way to take possible 0 in numerator and denominator into account\n",
    "Hints:\n",
    "\n",
    "* recall the formula: $ R^2 = 1 - \\dfrac{SS_{residuals}}{SS_{total}} $\n",
    "\n",
    "\n",
    "* you should return:\n",
    "\n",
    "    $\n",
    "    \\begin{cases}\n",
    "     R^2 & \\text{ if } SS_{residuals} \\ne 0 \\text{ and  } SS_{total} \\ne 0 \n",
    "     \\\\\n",
    "     0 & \\text{ if } SS_{residuals} \\ne 0 \\text{ and  } SS_{total} = 0 \n",
    "     \\\\\n",
    "     1 & \\text { otherwise }\n",
    "    \\end{cases}\n",
    "    $\n",
    "    \n",
    "\n",
    "* for a better understanding of $R^2$ coefficient \n",
    "  try to explain to yourself why we return those values in each of edge cases"
   ]
  },
  {
   "cell_type": "code",
   "execution_count": 17,
   "id": "7b33ae63",
   "metadata": {
    "ExecuteTime": {
     "end_time": "2022-02-05T15:50:29.855630Z",
     "start_time": "2022-02-05T15:50:29.842173Z"
    }
   },
   "outputs": [],
   "source": [
    "# we use '*' in the beggining of each function signature\n",
    "# to forbid positional arguments and enforce the use of kwargs.\n",
    "# this helps to avoid mistake when arguments are passed in wrong order.\n",
    "\n",
    "# write down code instead of raising NotImplementedError in each of functions below.\n",
    "\n",
    "def mse(*, y_true, y_pred):\n",
    "    return ((y_true - y_pred) ** 2).mean()\n",
    "    \n",
    "def mae(*, y_true, y_pred):\n",
    "    return np.mean(np.abs(y_true - y_pred))\n",
    "    \n",
    "def mape(*, y_true, y_pred):\n",
    "    y_true[y_true == 0] = np.finfo(np.float64).eps\n",
    "    return np.mean(np.abs((y_true - y_pred) / y_true)) \n",
    "    \n",
    "def r2(*, y_true, y_pred):\n",
    "    SS_residuals = np.sum(np.square(y_true - y_pred))\n",
    "    SS_total = np.sum(np.square(y_true - np.mean(y_true)))\n",
    "\n",
    "    if SS_residuals != 0 and SS_total == 0: return 0\n",
    "    elif SS_residuals != 0 and SS_total != 0: return 1 - (SS_residuals / SS_total)\n",
    "    else: return 1"
   ]
  },
  {
   "cell_type": "code",
   "execution_count": null,
   "id": "78ff1516",
   "metadata": {},
   "outputs": [],
   "source": []
  },
  {
   "cell_type": "markdown",
   "id": "86e4f617",
   "metadata": {},
   "source": [
    "### Validate your implementations are correct\n",
    "\n",
    "* we'll use synthetic data for this task\n"
   ]
  },
  {
   "cell_type": "code",
   "execution_count": 18,
   "id": "4bd6309b",
   "metadata": {
    "ExecuteTime": {
     "end_time": "2022-02-05T15:50:29.948530Z",
     "start_time": "2022-02-05T15:50:29.873343Z"
    }
   },
   "outputs": [],
   "source": [
    "from sklearn.metrics import (\n",
    "    mean_squared_error as mse_lib, \n",
    "    mean_absolute_error as mae_lib,\n",
    "    mean_absolute_percentage_error as mape_lib,\n",
    "    r2_score as r2_lib\n",
    ")"
   ]
  },
  {
   "cell_type": "code",
   "execution_count": 19,
   "id": "3470669f",
   "metadata": {
    "ExecuteTime": {
     "end_time": "2022-02-05T15:50:29.964603Z",
     "start_time": "2022-02-05T15:50:29.952530Z"
    }
   },
   "outputs": [],
   "source": [
    "def compare_metrics(fn, fn_lib, y_true, y_pred, n_digits=9):\n",
    "    \"\"\" Print and compare values of custom and library functions using given precision. \"\"\"\n",
    "    m_fn = fn(y_true=y_true, y_pred=y_pred)\n",
    "    m_fn_lib = fn_lib(y_true=y_true, y_pred=y_pred)\n",
    "    print(f'{fn.__name__} custom : {m_fn}')\n",
    "    print(f'{fn.__name__} library: {m_fn_lib}')\n",
    "    print()\n",
    "    assert round(m_fn, n_digits) == round(m_fn_lib, n_digits)"
   ]
  },
  {
   "cell_type": "code",
   "execution_count": null,
   "id": "e80303ab",
   "metadata": {},
   "outputs": [],
   "source": []
  },
  {
   "cell_type": "markdown",
   "id": "4c5432a3",
   "metadata": {},
   "source": [
    "#### a case with a good fit"
   ]
  },
  {
   "cell_type": "code",
   "execution_count": 20,
   "id": "4143760c",
   "metadata": {
    "ExecuteTime": {
     "end_time": "2022-02-05T15:50:30.136424Z",
     "start_time": "2022-02-05T15:50:29.965777Z"
    }
   },
   "outputs": [
    {
     "data": {
      "image/png": "[encoded data removed]",
      "text/plain": [
       "<Figure size 504x432 with 1 Axes>"
      ]
     },
     "metadata": {},
     "output_type": "display_data"
    }
   ],
   "source": [
    "n = 30\n",
    "x = np.arange(n)\n",
    "y_true = 2 * x + 3 + np.random.normal(loc=0, scale=2, size=n)\n",
    "y_pred = 2 * x + 3\n",
    "\n",
    "plt.plot(x, y_true, label='y_true')\n",
    "plt.plot(x, y_pred, label='y_pred')\n",
    "plt.legend();"
   ]
  },
  {
   "cell_type": "code",
   "execution_count": 21,
   "id": "7a6c0bdf",
   "metadata": {
    "ExecuteTime": {
     "end_time": "2022-02-05T15:50:30.152383Z",
     "start_time": "2022-02-05T15:50:30.138337Z"
    }
   },
   "outputs": [
    {
     "name": "stdout",
     "output_type": "stream",
     "text": [
      "mse custom : 6.48520088053642\n",
      "mse library: 6.48520088053642\n",
      "\n",
      "mae custom : 2.066119054709366\n",
      "mae library: 2.066119054709366\n",
      "\n",
      "mape custom : 0.24058126274269306\n",
      "mape library: 0.24058126274269306\n",
      "\n",
      "r2 custom : 0.9807402084251003\n",
      "r2 library: 0.9807402084251003\n",
      "\n",
      "all tests passed\n"
     ]
    }
   ],
   "source": [
    "compare_metrics(mse, mse_lib, y_true=y_true, y_pred=y_pred)\n",
    "compare_metrics(mae, mae_lib, y_true=y_true, y_pred=y_pred)\n",
    "compare_metrics(mape, mape_lib, y_true=y_true, y_pred=y_pred)\n",
    "compare_metrics(r2, r2_lib, y_true=y_true, y_pred=y_pred)\n",
    "print('all tests passed')"
   ]
  },
  {
   "cell_type": "code",
   "execution_count": null,
   "id": "8c599070",
   "metadata": {},
   "outputs": [],
   "source": []
  },
  {
   "cell_type": "markdown",
   "id": "71df28e2",
   "metadata": {},
   "source": [
    "#### 0s in target. MAPE should explode"
   ]
  },
  {
   "cell_type": "code",
   "execution_count": 22,
   "id": "9ee51a13",
   "metadata": {
    "ExecuteTime": {
     "end_time": "2022-02-05T15:50:30.341643Z",
     "start_time": "2022-02-05T15:50:30.154274Z"
    }
   },
   "outputs": [
    {
     "data": {
      "image/png": "[encoded data removed]",
      "text/plain": [
       "<Figure size 504x432 with 1 Axes>"
      ]
     },
     "metadata": {},
     "output_type": "display_data"
    }
   ],
   "source": [
    "n = 30\n",
    "x = np.arange(n)\n",
    "y_true = 2 * x + 3 + np.random.normal(loc=0, scale=2, size=n)\n",
    "y_true[:7] = 0\n",
    "y_pred = 2 * x + 3\n",
    "\n",
    "plt.plot(x, y_true, label='y_true')\n",
    "plt.plot(x, y_pred, label='y_pred')\n",
    "plt.legend();"
   ]
  },
  {
   "cell_type": "code",
   "execution_count": 23,
   "id": "5cc75a55",
   "metadata": {
    "ExecuteTime": {
     "end_time": "2022-02-05T15:50:30.357566Z",
     "start_time": "2022-02-05T15:50:30.343441Z"
    }
   },
   "outputs": [
    {
     "name": "stdout",
     "output_type": "stream",
     "text": [
      "mse custom : 26.304745450600596\n",
      "mse library: 26.304745450600596\n",
      "\n",
      "mae custom : 3.506617855035563\n",
      "mae library: 3.506617855035563\n",
      "\n",
      "mape custom : 9457559217478042.0\n",
      "mape library: 9457559217478042.0\n",
      "\n",
      "r2 custom : 0.9364345133540047\n",
      "r2 library: 0.9364345133540047\n",
      "\n",
      "all tests passed\n"
     ]
    }
   ],
   "source": [
    "compare_metrics(mse, mse_lib, y_true=y_true, y_pred=y_pred)\n",
    "compare_metrics(mae, mae_lib, y_true=y_true, y_pred=y_pred)\n",
    "compare_metrics(mape, mape_lib, y_true=y_true, y_pred=y_pred)\n",
    "compare_metrics(r2, r2_lib, y_true=y_true, y_pred=y_pred)\n",
    "print('all tests passed')"
   ]
  },
  {
   "cell_type": "code",
   "execution_count": null,
   "id": "b0175bee",
   "metadata": {},
   "outputs": [],
   "source": []
  },
  {
   "cell_type": "markdown",
   "id": "0e6b9bf9",
   "metadata": {},
   "source": [
    "#### edge cases for R2"
   ]
  },
  {
   "cell_type": "code",
   "execution_count": 24,
   "id": "71d367c2",
   "metadata": {
    "ExecuteTime": {
     "end_time": "2022-02-05T15:50:30.372953Z",
     "start_time": "2022-02-05T15:50:30.359888Z"
    }
   },
   "outputs": [
    {
     "name": "stdout",
     "output_type": "stream",
     "text": [
      "r2 custom : 0\n",
      "r2 library: 0.0\n",
      "\n",
      "success\n"
     ]
    }
   ],
   "source": [
    "# constant target value\n",
    "\n",
    "n = 30\n",
    "x = np.arange(n)\n",
    "y_true = np.repeat(15, n)\n",
    "y_pred = 2 * x + 3\n",
    "\n",
    "compare_metrics(r2, r2_lib, y_true=y_true, y_pred=y_pred)\n",
    "print('success')"
   ]
  },
  {
   "cell_type": "code",
   "execution_count": 25,
   "id": "de67f715",
   "metadata": {
    "ExecuteTime": {
     "end_time": "2022-02-05T15:50:30.388956Z",
     "start_time": "2022-02-05T15:50:30.374956Z"
    }
   },
   "outputs": [
    {
     "name": "stdout",
     "output_type": "stream",
     "text": [
      "r2 custom : 1\n",
      "r2 library: 1.0\n",
      "\n",
      "success\n"
     ]
    }
   ],
   "source": [
    "# perfect fit\n",
    "\n",
    "n = 30\n",
    "x = np.arange(n)\n",
    "y_true = 2 * x + 3 + np.random.normal(loc=0, scale=2, size=n)\n",
    "y_pred = y_true\n",
    "\n",
    "compare_metrics(r2, r2_lib, y_true=y_true, y_pred=y_pred)\n",
    "print('success')"
   ]
  },
  {
   "cell_type": "code",
   "execution_count": null,
   "id": "344214b1",
   "metadata": {},
   "outputs": [],
   "source": [
    "# SSresiduals = 0 and SStotal = 0\n",
    "\n",
    "y_true = np.ones(30)\n",
    "y_pred = np.ones(30)\n",
    "\n",
    "compare_metrics(r2, r2_lib, y_true=y_true, y_pred=y_pred)\n",
    "print('success')"
   ]
  },
  {
   "cell_type": "code",
   "execution_count": null,
   "id": "b8ac78c4",
   "metadata": {},
   "outputs": [],
   "source": []
  },
  {
   "cell_type": "markdown",
   "id": "b3a027b5",
   "metadata": {},
   "source": [
    "### Define helper functions"
   ]
  },
  {
   "cell_type": "code",
   "execution_count": 26,
   "id": "7950b67c",
   "metadata": {
    "ExecuteTime": {
     "end_time": "2022-02-05T15:50:30.404958Z",
     "start_time": "2022-02-05T15:50:30.389956Z"
    }
   },
   "outputs": [],
   "source": [
    "def get_metrics(*, y_true, y_pred) -> pd.Series:\n",
    "    \"\"\" A helper function to return all metrics for given labels and predictions. \"\"\"\n",
    "    \n",
    "    # if you didn't implement some metrics, comment them out for this function to work.\n",
    "    return pd.Series({\n",
    "        'mse': mse(y_true=y_true, y_pred=y_pred),\n",
    "        'mae': mae(y_true=y_true, y_pred=y_pred),\n",
    "        'mape': mape(y_true=y_true, y_pred=y_pred),\n",
    "        'r2': r2(y_true=y_true, y_pred=y_pred),\n",
    "    })"
   ]
  },
  {
   "cell_type": "code",
   "execution_count": 27,
   "id": "15991501",
   "metadata": {
    "ExecuteTime": {
     "end_time": "2022-02-05T15:50:30.420955Z",
     "start_time": "2022-02-05T15:50:30.406959Z"
    }
   },
   "outputs": [],
   "source": [
    "def fit_and_evaluate(model, x_train, y_train, x_test, y_test) -> pd.DataFrame:\n",
    "    \"\"\" \n",
    "    A helper function to: \n",
    "    * fit a passed model\n",
    "    * and return metrics on train and test sets.\n",
    "    \"\"\"\n",
    "    # fit the model\n",
    "    model.fit(x_train, y_train)\n",
    "    \n",
    "    # return metrics as pd.DataFrame\n",
    "    m = pd.DataFrame([\n",
    "        get_metrics(y_true=y_train, y_pred=model.predict(x_train)),  # metrics for train set\n",
    "        get_metrics(y_true=y_test, y_pred=model.predict(x_test))     # metrics for test set\n",
    "    ], index=['train', 'test']\n",
    "    )\n",
    "    \n",
    "    return m"
   ]
  },
  {
   "cell_type": "code",
   "execution_count": null,
   "id": "ac20b65c",
   "metadata": {},
   "outputs": [],
   "source": []
  },
  {
   "cell_type": "code",
   "execution_count": null,
   "id": "de31e0d2",
   "metadata": {},
   "outputs": [],
   "source": []
  },
  {
   "cell_type": "markdown",
   "id": "e1a9496f",
   "metadata": {},
   "source": [
    "## train/test split\n",
    "\n",
    "* Split the data we have into Train and Test splits with 80%/20% proportion"
   ]
  },
  {
   "cell_type": "code",
   "execution_count": 28,
   "id": "0cbdf81b",
   "metadata": {
    "ExecuteTime": {
     "end_time": "2022-02-05T15:50:30.436855Z",
     "start_time": "2022-02-05T15:50:30.422956Z"
    }
   },
   "outputs": [
    {
     "name": "stdout",
     "output_type": "stream",
     "text": [
      "(10582, 35)\n",
      "(8465, 35) (2117, 35)\n"
     ]
    }
   ],
   "source": [
    "print(df.shape)\n",
    "ix_split = int(0.8 * df.shape[0])\n",
    "DF_TRAIN = df.iloc[:ix_split].copy()\n",
    "DF_TEST = df.iloc[ix_split:].copy()\n",
    "print(DF_TRAIN.shape, DF_TEST.shape)"
   ]
  },
  {
   "cell_type": "code",
   "execution_count": 29,
   "id": "4c36f2fe",
   "metadata": {
    "ExecuteTime": {
     "end_time": "2022-02-05T15:50:30.452547Z",
     "start_time": "2022-02-05T15:50:30.438523Z"
    }
   },
   "outputs": [],
   "source": [
    "def get_train_test_data(features: List[str], target: str) -> tuple:\n",
    "    \"\"\"\n",
    "    Return x_train, y_train, x_test, y_test using \n",
    "    * global train/test split \n",
    "    * features and target provided.\n",
    "    \"\"\"\n",
    "    # in general, it's a bad practice to use global variables. \n",
    "    # however, we use it here with caution for simplicity.\n",
    "    return (\n",
    "        DF_TRAIN[features].copy(), DF_TRAIN[target].copy(), \n",
    "        DF_TEST[features].copy(), DF_TEST[target].copy()\n",
    "    )"
   ]
  },
  {
   "cell_type": "code",
   "execution_count": null,
   "id": "b61b9afd",
   "metadata": {},
   "outputs": [],
   "source": []
  },
  {
   "cell_type": "code",
   "execution_count": null,
   "id": "12f81654",
   "metadata": {},
   "outputs": [],
   "source": []
  },
  {
   "cell_type": "markdown",
   "id": "7683d845",
   "metadata": {},
   "source": [
    "## Linear regression with 1 variable\n",
    "\n",
    "* Let's start with Linear Regression that predicts target variable \n",
    "  using only 1 predictor (independent variable)  \n",
    "\n",
    "* We will try to predict `dribbling` variable using `short_passing` as a predictor"
   ]
  },
  {
   "cell_type": "code",
   "execution_count": 30,
   "id": "5a994986",
   "metadata": {
    "ExecuteTime": {
     "end_time": "2022-02-05T15:50:30.468403Z",
     "start_time": "2022-02-05T15:50:30.454412Z"
    }
   },
   "outputs": [],
   "source": [
    "target = 'dribbling'\n",
    "features = ['short_passing']\n",
    "x_train, y_train, x_test, y_test = get_train_test_data(features, target)"
   ]
  },
  {
   "cell_type": "code",
   "execution_count": null,
   "id": "c41d6aa2",
   "metadata": {},
   "outputs": [],
   "source": []
  },
  {
   "cell_type": "markdown",
   "id": "48e18ded",
   "metadata": {},
   "source": [
    "### Let's visualize our data first"
   ]
  },
  {
   "cell_type": "code",
   "execution_count": 31,
   "id": "0b93c143",
   "metadata": {
    "ExecuteTime": {
     "end_time": "2022-02-05T15:50:30.625760Z",
     "start_time": "2022-02-05T15:50:30.472404Z"
    }
   },
   "outputs": [
    {
     "data": {
      "image/png": "[encoded data removed]",
      "text/plain": [
       "<Figure size 504x432 with 1 Axes>"
      ]
     },
     "metadata": {},
     "output_type": "display_data"
    }
   ],
   "source": [
    "plt.scatter(x=x_train, y=y_train, alpha=0.3, s=10);\n",
    "plt.xlabel('short_passing');\n",
    "plt.ylabel('dribbling');"
   ]
  },
  {
   "cell_type": "markdown",
   "id": "c8370e35",
   "metadata": {},
   "source": [
    "* do you notice anything interesting on this plot?\n",
    "* if so, how can we use it later to generate more accurate predictions?"
   ]
  },
  {
   "cell_type": "code",
   "execution_count": null,
   "id": "0bcd9167",
   "metadata": {},
   "outputs": [],
   "source": []
  },
  {
   "cell_type": "markdown",
   "id": "3a54c9f1",
   "metadata": {},
   "source": [
    "### Task 4. Compute Pearson correlation coefficient between feature and target (1 pont)\n",
    "Hint: you can use either `pd.Series.corr` method or `np.corrcoef` function"
   ]
  },
  {
   "cell_type": "code",
   "execution_count": 32,
   "id": "2c8dbbf9",
   "metadata": {
    "ExecuteTime": {
     "end_time": "2022-02-05T15:50:30.641483Z",
     "start_time": "2022-02-05T15:50:30.627267Z"
    }
   },
   "outputs": [
    {
     "data": {
      "text/plain": [
       "0.809328474294714"
      ]
     },
     "execution_count": 32,
     "metadata": {},
     "output_type": "execute_result"
    }
   ],
   "source": [
    "x_train.squeeze().corr(y_train)"
   ]
  },
  {
   "cell_type": "code",
   "execution_count": null,
   "id": "9f8901a8",
   "metadata": {},
   "outputs": [],
   "source": []
  },
  {
   "cell_type": "markdown",
   "id": "5bfc53e7",
   "metadata": {},
   "source": [
    "### Solve using `sklearn`\n",
    "\n",
    "* we will use `LinearRegression` class from `sklearn` library \n",
    "  to fit a linear regression model and use it to generate prediction"
   ]
  },
  {
   "cell_type": "code",
   "execution_count": 33,
   "id": "2fbf12ca",
   "metadata": {
    "ExecuteTime": {
     "end_time": "2022-02-05T15:50:30.750756Z",
     "start_time": "2022-02-05T15:50:30.704711Z"
    }
   },
   "outputs": [],
   "source": [
    "from sklearn.linear_model import LinearRegression"
   ]
  },
  {
   "cell_type": "code",
   "execution_count": 34,
   "id": "1c2b5644",
   "metadata": {
    "ExecuteTime": {
     "end_time": "2022-02-05T15:50:30.765995Z",
     "start_time": "2022-02-05T15:50:30.752757Z"
    }
   },
   "outputs": [],
   "source": [
    "model = LinearRegression(fit_intercept=True)\n",
    "model.fit(x_train, y_train);"
   ]
  },
  {
   "cell_type": "markdown",
   "id": "9b17b843",
   "metadata": {},
   "source": [
    "* explore fitted model parameters"
   ]
  },
  {
   "cell_type": "code",
   "execution_count": 35,
   "id": "787afdfd",
   "metadata": {
    "ExecuteTime": {
     "end_time": "2022-02-05T15:50:30.781716Z",
     "start_time": "2022-02-05T15:50:30.768504Z"
    }
   },
   "outputs": [
    {
     "name": "stdout",
     "output_type": "stream",
     "text": [
      "model_intercept: -6.2007434342787775\n",
      "model_slope: 1.0364596683562382\n"
     ]
    }
   ],
   "source": [
    "model_intercept = model.intercept_\n",
    "model_slope = model.coef_[0]\n",
    "print(f'model_intercept: {model_intercept}')\n",
    "print(f'model_slope: {model_slope}')"
   ]
  },
  {
   "cell_type": "markdown",
   "id": "0d9f36d4",
   "metadata": {},
   "source": [
    "* use fitted model to get predictions for test set"
   ]
  },
  {
   "cell_type": "code",
   "execution_count": 36,
   "id": "6e7f42c8",
   "metadata": {
    "ExecuteTime": {
     "end_time": "2022-02-05T15:50:30.796860Z",
     "start_time": "2022-02-05T15:50:30.783228Z"
    }
   },
   "outputs": [
    {
     "data": {
      "text/plain": [
       "array([55.98683667, 65.31497368, 44.58578032, ..., 62.20559468,\n",
       "       54.950377  , 76.71603003])"
      ]
     },
     "execution_count": 36,
     "metadata": {},
     "output_type": "execute_result"
    }
   ],
   "source": [
    "model_preds = model.predict(x_test)\n",
    "model_preds"
   ]
  },
  {
   "cell_type": "markdown",
   "id": "b7be936e",
   "metadata": {},
   "source": [
    "* explore model quality on test set."
   ]
  },
  {
   "cell_type": "code",
   "execution_count": 37,
   "id": "0d7918e8",
   "metadata": {
    "ExecuteTime": {
     "end_time": "2022-02-05T15:50:30.859941Z",
     "start_time": "2022-02-05T15:50:30.849075Z"
    }
   },
   "outputs": [
    {
     "name": "stdout",
     "output_type": "stream",
     "text": [
      "model metrics on test set\n"
     ]
    },
    {
     "data": {
      "text/plain": [
       "mse     108.351800\n",
       "mae       8.174227\n",
       "mape      0.205438\n",
       "r2        0.680622\n",
       "dtype: float64"
      ]
     },
     "execution_count": 37,
     "metadata": {},
     "output_type": "execute_result"
    }
   ],
   "source": [
    "print('model metrics on test set')\n",
    "metrics_test_1 = get_metrics(y_true=y_test, y_pred=model_preds)\n",
    "metrics_test_1"
   ]
  },
  {
   "cell_type": "markdown",
   "id": "00e37652",
   "metadata": {},
   "source": [
    "* can you explain what those metic values mean?"
   ]
  },
  {
   "cell_type": "code",
   "execution_count": null,
   "id": "35ae5f55",
   "metadata": {},
   "outputs": [],
   "source": []
  },
  {
   "cell_type": "markdown",
   "id": "02c4c46f",
   "metadata": {},
   "source": [
    "#### Task 5. Calculate predictions for test set manually (1 point)\n",
    "\n",
    "Above we used `LinearRegression.predict()` method to obtain predictions. \n",
    "Now let's do it manually!\n",
    "\n",
    "Recall Linear Regression formula:\n",
    "\n",
    "* $ \\hat{y} = w_0 + w_1 \\cdot x, $ \n",
    "\n",
    "    where:\n",
    "    * $w_0$ is an intercept\n",
    "    * $w_1$ is a slope\n",
    "    * $x$ is a predictor\n",
    "    * $\\hat{y}$ is a predicted variable\n",
    "  \n",
    "\n",
    "* use intercept and slope values from fitted LinearRegression model"
   ]
  },
  {
   "cell_type": "code",
   "execution_count": 38,
   "id": "318b9e5a",
   "metadata": {
    "ExecuteTime": {
     "end_time": "2022-02-05T15:50:31.109063Z",
     "start_time": "2022-02-05T15:50:31.097327Z"
    }
   },
   "outputs": [],
   "source": [
    "# use `x_test` for calculations as is (it's a DataFrame with 1 column).\n",
    "# do not convert it to Series or numpy array.\n",
    "model_manual_preds = model_intercept + model_slope*x_test"
   ]
  },
  {
   "cell_type": "code",
   "execution_count": 39,
   "id": "a8a85aa2",
   "metadata": {
    "ExecuteTime": {
     "end_time": "2022-02-05T15:50:31.169787Z",
     "start_time": "2022-02-05T15:50:31.156073Z"
    }
   },
   "outputs": [],
   "source": [
    "assert isinstance(model_manual_preds, pd.DataFrame)"
   ]
  },
  {
   "cell_type": "code",
   "execution_count": 40,
   "id": "33e827e8",
   "metadata": {
    "ExecuteTime": {
     "end_time": "2022-02-05T15:50:31.185196Z",
     "start_time": "2022-02-05T15:50:31.171743Z"
    }
   },
   "outputs": [
    {
     "name": "stdout",
     "output_type": "stream",
     "text": [
      "success\n"
     ]
    }
   ],
   "source": [
    "# ensure our manual predictions are the same as model generated\n",
    "assert np.allclose(model_preds, model_manual_preds.iloc[:, 0].to_numpy())\n",
    "print('success')"
   ]
  },
  {
   "cell_type": "code",
   "execution_count": null,
   "id": "e6688081",
   "metadata": {},
   "outputs": [],
   "source": []
  },
  {
   "cell_type": "markdown",
   "id": "fdbca547",
   "metadata": {},
   "source": [
    "#### Task 6. Plot test data and predicted values (1 point)\n",
    "\n",
    "* use `plt.scatter` function as in example above.\n",
    "* first build scatter plot for test data\n",
    "* then build scatter plot with model predictions\n",
    "* add plot title, axis names and legend\n",
    "\n",
    "Hints:\n",
    "* use `alpha` parameter to control opacity and `s` parameter to control size of points.\n",
    "  this will make plot more readable\n",
    "* use `label` parameter to add label to each set of points added to scatter plot\n",
    "* use different color for model predictions. control with parameter `color`"
   ]
  },
  {
   "cell_type": "code",
   "execution_count": 41,
   "id": "55948801",
   "metadata": {
    "ExecuteTime": {
     "end_time": "2022-02-05T15:50:31.248662Z",
     "start_time": "2022-02-05T15:50:31.242488Z"
    }
   },
   "outputs": [
    {
     "data": {
      "image/png": "[encoded data removed]",
      "text/plain": [
       "<Figure size 504x432 with 1 Axes>"
      ]
     },
     "metadata": {},
     "output_type": "display_data"
    }
   ],
   "source": [
    "# your code here\n",
    "plt.scatter(x_test, y_test, alpha=0.5, s=10, color='green')\n",
    "plt.scatter(x_test, model_preds, alpha=0.5, s=10, color='orange')\n",
    "plt.title('Plot test data and predicted values')\n",
    "plt.xlabel('short_passing')\n",
    "plt.ylabel('dribbling')\n",
    "plt.legend([\"Test data\", \"Predicted values\"]);  # adds legend to a plot"
   ]
  },
  {
   "cell_type": "code",
   "execution_count": null,
   "id": "86e69689",
   "metadata": {},
   "outputs": [],
   "source": []
  },
  {
   "cell_type": "code",
   "execution_count": null,
   "id": "d5086aa8",
   "metadata": {},
   "outputs": [],
   "source": []
  },
  {
   "cell_type": "markdown",
   "id": "2073b4aa",
   "metadata": {
    "ExecuteTime": {
     "end_time": "2022-02-02T18:04:08.699161Z",
     "start_time": "2022-02-02T18:04:08.686331Z"
    }
   },
   "source": [
    "### Task 7.  Fit regression model manually (3 points)"
   ]
  },
  {
   "cell_type": "markdown",
   "id": "f3e0a350",
   "metadata": {
    "ExecuteTime": {
     "end_time": "2022-02-02T18:04:08.699161Z",
     "start_time": "2022-02-02T18:04:08.686331Z"
    }
   },
   "source": [
    "So far we have used `sklearn` library to fit linear regression model and obtain predictions. Good job!\n",
    "\n",
    "Recall the formula of Linear regression for 1 variable:\n",
    "\n",
    "* $ \\hat{y} = w_0 + w_1 \\cdot x $\n",
    "\n",
    "Now let's try to fit the model **ourselves**."
   ]
  },
  {
   "cell_type": "markdown",
   "id": "e16e3b73",
   "metadata": {
    "ExecuteTime": {
     "end_time": "2022-02-02T18:04:08.699161Z",
     "start_time": "2022-02-02T18:04:08.686331Z"
    }
   },
   "source": [
    "### Theory\n",
    "\n",
    "Assume our dataset consists of _n_ samples.\n",
    "\n",
    "To fit a Linear regression model means to find the best set of parameters - \n",
    "$(w_0, w_1)$ that minimizes a **Loss function**.<br>\n",
    "In case of Linear regression we choose **Residual sum of squares (RSS)** as a Loss function:\n",
    "\n",
    "* $ L(w, x, y) = RSS(w, x, y) = \\sum_{i=0}^{n-1} (y_i - \\hat{y}_i ) ^ 2 \\rightarrow min $\n",
    "\n",
    "That is conceptually the same as minimizing Mean squared error (MSE):\n",
    "\n",
    "* $ MSE(w, x, y) = \\dfrac{1}{n} \\sum_{i=0}^{n-1} (y_i - \\hat{y}_i ) ^ 2 \\rightarrow min $\n",
    "\n",
    "Here:\n",
    "* $y = (y_0, y_2, ..., y_{n-1}) $ - is a vector of target values we want to predict.\n",
    "  1 value per each sample in our dataset that consists of _n_ samples\n",
    "* $\\hat{y} = (\\hat{y}_0, \\hat{y}_2, ..., \\hat{y}_{n-1}) $ - is a vector of predictions \n",
    "* $\\hat{y}_i = w_0 + w_1 \\cdot x_i$ - is an individual prediction for _i_-th sample in a dataset\n",
    "\n",
    "---\n",
    "\n",
    "Best parameters $w_0$ and $w_1$ can be found using **following formulas**:\n",
    "\n",
    "* $w_0 = \\bar{y} - w_1 \\cdot \\bar{x}$\n",
    "\n",
    "\n",
    "* $w_1 = \\dfrac{\\sum_{i=0}^{n-1}(x_i - \\bar{x}) y_i}{\\sum_{i=0}^{n-1}(x_i - \\bar{x})^2}$\n",
    "\n",
    "\n",
    "* where:\n",
    " * $\\bar{x} = \\dfrac{1}{n} \\sum_{i=0}^{n-1}x_i$ - is the mean of vector $x$\n",
    " \n",
    " * $\\bar{y} = \\dfrac{1}{n} \\sum_{i=0}^{n-1}y_i$ - is the mean of vector $y$\n",
    " \n",
    "You should use these formulas to find the best model parameters in this task.\n",
    " \n",
    "---\n",
    "\n",
    "If you want to learn more you can refer to \n",
    "[Simple linear regression](https://en.wikipedia.org/wiki/Simple_linear_regression) wiki-page.\n",
    "\n",
    "It contains analagous formula for $w_1$ coefficient that is conceptually the same \n",
    "(so it's not a bug in our formula provided above)."
   ]
  },
  {
   "cell_type": "code",
   "execution_count": null,
   "id": "53890a5b",
   "metadata": {},
   "outputs": [],
   "source": []
  },
  {
   "cell_type": "markdown",
   "id": "ed336e62",
   "metadata": {},
   "source": [
    "### Implementation"
   ]
  },
  {
   "cell_type": "markdown",
   "id": "f05805c7",
   "metadata": {},
   "source": [
    "* convert pd.DataFrame and pd.Series (`x_train` and `y_train` respecitvely) to numpy-arrays"
   ]
  },
  {
   "cell_type": "code",
   "execution_count": 42,
   "id": "356ab8ef",
   "metadata": {
    "ExecuteTime": {
     "end_time": "2022-02-05T15:50:31.870582Z",
     "start_time": "2022-02-05T15:50:31.860585Z"
    }
   },
   "outputs": [],
   "source": [
    "x = x_train.iloc[:, 0].to_numpy()\n",
    "y = y_train.to_numpy()"
   ]
  },
  {
   "cell_type": "markdown",
   "id": "cb318274",
   "metadata": {},
   "source": [
    "* calculate model parameters ($w_1$ - slope and $w_0$ - intercept) using formulas given above"
   ]
  },
  {
   "cell_type": "code",
   "execution_count": 43,
   "id": "a788aeb3",
   "metadata": {
    "ExecuteTime": {
     "end_time": "2022-02-05T15:50:31.980524Z",
     "start_time": "2022-02-05T15:50:31.972377Z"
    }
   },
   "outputs": [],
   "source": [
    "# # your code here:\n",
    "X = x - x.mean()\n",
    "Y = y - y.mean()\n",
    "manual_slope = (X.dot(Y)) / (X.dot(X))\n",
    "manual_intercept = np.mean(y) - manual_slope*np.mean(x)"
   ]
  },
  {
   "cell_type": "code",
   "execution_count": 44,
   "id": "5490c970",
   "metadata": {
    "ExecuteTime": {
     "end_time": "2022-02-05T15:50:32.011182Z",
     "start_time": "2022-02-05T15:50:31.997992Z"
    }
   },
   "outputs": [
    {
     "name": "stdout",
     "output_type": "stream",
     "text": [
      "manual_intercept: -6.200743434278678\n",
      "manual_slope: 1.0364596683562366\n"
     ]
    }
   ],
   "source": [
    "print(f'manual_intercept: {manual_intercept}')\n",
    "print(f'manual_slope: {manual_slope}')"
   ]
  },
  {
   "cell_type": "code",
   "execution_count": 45,
   "id": "52c37ad6",
   "metadata": {
    "ExecuteTime": {
     "end_time": "2022-02-05T15:50:32.026832Z",
     "start_time": "2022-02-05T15:50:32.015585Z"
    }
   },
   "outputs": [
    {
     "name": "stdout",
     "output_type": "stream",
     "text": [
      "success\n"
     ]
    }
   ],
   "source": [
    "assert round(model_intercept, 9) == round(manual_intercept, 9)\n",
    "assert round(model_slope, 9) == round(manual_slope, 9)\n",
    "print('success')"
   ]
  },
  {
   "cell_type": "code",
   "execution_count": null,
   "id": "5f8a3f8d",
   "metadata": {},
   "outputs": [],
   "source": []
  },
  {
   "cell_type": "code",
   "execution_count": null,
   "id": "611bbdf2",
   "metadata": {},
   "outputs": [],
   "source": []
  },
  {
   "cell_type": "markdown",
   "id": "0833765e",
   "metadata": {},
   "source": [
    "## Linear regression with multiple variables\n",
    "\n",
    "* Now let's use Linear Regression model that uses multiple variables\n",
    "\n",
    "* We will try to predict `dribbling` variable using \n",
    "  `['ball_control', 'short_passing', 'strength', 'sprint_speed']` features"
   ]
  },
  {
   "cell_type": "code",
   "execution_count": 46,
   "id": "d5d3f4c5",
   "metadata": {
    "ExecuteTime": {
     "end_time": "2022-02-05T15:50:32.152631Z",
     "start_time": "2022-02-05T15:50:32.128476Z"
    }
   },
   "outputs": [],
   "source": [
    "target = 'dribbling'\n",
    "features = ['ball_control', 'short_passing', 'strength', 'sprint_speed']\n",
    "x_train, y_train, x_test, y_test = get_train_test_data(features, target)"
   ]
  },
  {
   "cell_type": "code",
   "execution_count": null,
   "id": "6da26a4d",
   "metadata": {},
   "outputs": [],
   "source": []
  },
  {
   "cell_type": "markdown",
   "id": "a3844f4d",
   "metadata": {},
   "source": [
    "### Let's explore the data first"
   ]
  },
  {
   "cell_type": "code",
   "execution_count": 47,
   "id": "98f0d68a",
   "metadata": {
    "ExecuteTime": {
     "end_time": "2022-02-05T15:50:32.261634Z",
     "start_time": "2022-02-05T15:50:32.255334Z"
    }
   },
   "outputs": [
    {
     "name": "stdout",
     "output_type": "stream",
     "text": [
      "['ball_control', 'short_passing', 'strength', 'sprint_speed', 'dribbling']\n"
     ]
    }
   ],
   "source": [
    "cols = features + [target]\n",
    "print(cols)"
   ]
  },
  {
   "cell_type": "code",
   "execution_count": null,
   "id": "3467845a",
   "metadata": {},
   "outputs": [],
   "source": []
  },
  {
   "cell_type": "markdown",
   "id": "718f438f",
   "metadata": {},
   "source": [
    "#### Task 8 (1 point)\n",
    "\n",
    "Build pairwise correlation matrix for selected features and target. Visualize it with heatmap.\n",
    "\n",
    "Hints:\n",
    "* use `DF_TRAIN` to build statistics (`x_train` contains only features. target is in `y_train`)\n",
    "* use `pd.DataFrame.corr()` to build correlation matrix\n",
    "* use `sns.heatmap` to build heatmap from correlation matrix. \n",
    "  * use `center` parameter to center your heatmap's colormap at 0\n",
    "  * use diverging colormap (`cmap` parameter)<br>\n",
    "    you can find the list of diverging colormaps\n",
    "    [here](https://matplotlib.org/stable/tutorials/colors/colormaps.html#diverging)<br>\n",
    "    the reason is that we need to easily find both negative and positive correlations.\n",
    "  * use `annot` parameters to add numbers to the plot.\n",
    "* you can print `pd.DataFrame` and build plot in the same cell.<br> \n",
    "  use `display(...)` function that accets `pd.DataFrame` before building the plot\n",
    "  \n",
    "You can refer to [seaborn.heatmap](https://seaborn.pydata.org/generated/seaborn.heatmap.html) documentation"
   ]
  },
  {
   "cell_type": "code",
   "execution_count": 49,
   "id": "7154fafc",
   "metadata": {
    "ExecuteTime": {
     "end_time": "2022-02-05T15:50:32.387597Z",
     "start_time": "2022-02-05T15:50:32.373491Z"
    }
   },
   "outputs": [
    {
     "data": {
      "text/html": [
       "<div>\n",
       "<style scoped>\n",
       "    .dataframe tbody tr th:only-of-type {\n",
       "        vertical-align: middle;\n",
       "    }\n",
       "\n",
       "    .dataframe tbody tr th {\n",
       "        vertical-align: top;\n",
       "    }\n",
       "\n",
       "    .dataframe thead th {\n",
       "        text-align: right;\n",
       "    }\n",
       "</style>\n",
       "<table border=\"1\" class=\"dataframe\">\n",
       "  <thead>\n",
       "    <tr style=\"text-align: right;\">\n",
       "      <th></th>\n",
       "      <th>overall_rating</th>\n",
       "      <th>potential</th>\n",
       "      <th>crossing</th>\n",
       "      <th>finishing</th>\n",
       "      <th>heading_accuracy</th>\n",
       "      <th>short_passing</th>\n",
       "      <th>volleys</th>\n",
       "      <th>dribbling</th>\n",
       "      <th>curve</th>\n",
       "      <th>free_kick_accuracy</th>\n",
       "      <th>long_passing</th>\n",
       "      <th>ball_control</th>\n",
       "      <th>acceleration</th>\n",
       "      <th>sprint_speed</th>\n",
       "      <th>agility</th>\n",
       "      <th>reactions</th>\n",
       "      <th>balance</th>\n",
       "      <th>shot_power</th>\n",
       "      <th>jumping</th>\n",
       "      <th>stamina</th>\n",
       "      <th>strength</th>\n",
       "      <th>long_shots</th>\n",
       "      <th>aggression</th>\n",
       "      <th>interceptions</th>\n",
       "      <th>positioning</th>\n",
       "      <th>vision</th>\n",
       "      <th>penalties</th>\n",
       "      <th>marking</th>\n",
       "      <th>standing_tackle</th>\n",
       "      <th>sliding_tackle</th>\n",
       "      <th>gk_diving</th>\n",
       "      <th>gk_handling</th>\n",
       "      <th>gk_kicking</th>\n",
       "      <th>gk_positioning</th>\n",
       "      <th>gk_reflexes</th>\n",
       "    </tr>\n",
       "  </thead>\n",
       "  <tbody>\n",
       "    <tr>\n",
       "      <th>overall_rating</th>\n",
       "      <td>1.000000</td>\n",
       "      <td>0.815169</td>\n",
       "      <td>0.303223</td>\n",
       "      <td>0.274908</td>\n",
       "      <td>0.252176</td>\n",
       "      <td>0.419772</td>\n",
       "      <td>0.313860</td>\n",
       "      <td>0.307596</td>\n",
       "      <td>0.336166</td>\n",
       "      <td>0.287206</td>\n",
       "      <td>0.397417</td>\n",
       "      <td>0.392634</td>\n",
       "      <td>0.180721</td>\n",
       "      <td>0.197240</td>\n",
       "      <td>0.221595</td>\n",
       "      <td>0.784943</td>\n",
       "      <td>0.105834</td>\n",
       "      <td>0.355663</td>\n",
       "      <td>0.239657</td>\n",
       "      <td>0.256736</td>\n",
       "      <td>0.221295</td>\n",
       "      <td>0.334483</td>\n",
       "      <td>0.278791</td>\n",
       "      <td>0.210287</td>\n",
       "      <td>0.294129</td>\n",
       "      <td>0.416211</td>\n",
       "      <td>0.283888</td>\n",
       "      <td>0.128515</td>\n",
       "      <td>0.156498</td>\n",
       "      <td>0.138401</td>\n",
       "      <td>0.020850</td>\n",
       "      <td>0.022104</td>\n",
       "      <td>0.020087</td>\n",
       "      <td>0.022434</td>\n",
       "      <td>0.022737</td>\n",
       "    </tr>\n",
       "    <tr>\n",
       "      <th>potential</th>\n",
       "      <td>0.815169</td>\n",
       "      <td>1.000000</td>\n",
       "      <td>0.247830</td>\n",
       "      <td>0.248974</td>\n",
       "      <td>0.177035</td>\n",
       "      <td>0.371640</td>\n",
       "      <td>0.255159</td>\n",
       "      <td>0.324853</td>\n",
       "      <td>0.275483</td>\n",
       "      <td>0.204942</td>\n",
       "      <td>0.323804</td>\n",
       "      <td>0.373120</td>\n",
       "      <td>0.303472</td>\n",
       "      <td>0.314716</td>\n",
       "      <td>0.270799</td>\n",
       "      <td>0.602209</td>\n",
       "      <td>0.162061</td>\n",
       "      <td>0.277428</td>\n",
       "      <td>0.179468</td>\n",
       "      <td>0.247563</td>\n",
       "      <td>0.070642</td>\n",
       "      <td>0.269833</td>\n",
       "      <td>0.151848</td>\n",
       "      <td>0.126158</td>\n",
       "      <td>0.261627</td>\n",
       "      <td>0.355896</td>\n",
       "      <td>0.215010</td>\n",
       "      <td>0.071975</td>\n",
       "      <td>0.100240</td>\n",
       "      <td>0.091379</td>\n",
       "      <td>-0.014880</td>\n",
       "      <td>-0.015739</td>\n",
       "      <td>-0.017193</td>\n",
       "      <td>-0.018489</td>\n",
       "      <td>-0.014663</td>\n",
       "    </tr>\n",
       "    <tr>\n",
       "      <th>crossing</th>\n",
       "      <td>0.303223</td>\n",
       "      <td>0.247830</td>\n",
       "      <td>1.000000</td>\n",
       "      <td>0.593963</td>\n",
       "      <td>0.402127</td>\n",
       "      <td>0.800335</td>\n",
       "      <td>0.649425</td>\n",
       "      <td>0.824943</td>\n",
       "      <td>0.817445</td>\n",
       "      <td>0.725098</td>\n",
       "      <td>0.739922</td>\n",
       "      <td>0.824011</td>\n",
       "      <td>0.573663</td>\n",
       "      <td>0.555242</td>\n",
       "      <td>0.616565</td>\n",
       "      <td>0.318881</td>\n",
       "      <td>0.578599</td>\n",
       "      <td>0.679563</td>\n",
       "      <td>0.058013</td>\n",
       "      <td>0.583253</td>\n",
       "      <td>-0.131562</td>\n",
       "      <td>0.723657</td>\n",
       "      <td>0.380537</td>\n",
       "      <td>0.333269</td>\n",
       "      <td>0.724795</td>\n",
       "      <td>0.689237</td>\n",
       "      <td>0.613708</td>\n",
       "      <td>0.277638</td>\n",
       "      <td>0.325882</td>\n",
       "      <td>0.314068</td>\n",
       "      <td>-0.649749</td>\n",
       "      <td>-0.648544</td>\n",
       "      <td>-0.642366</td>\n",
       "      <td>-0.652124</td>\n",
       "      <td>-0.652271</td>\n",
       "    </tr>\n",
       "    <tr>\n",
       "      <th>finishing</th>\n",
       "      <td>0.274908</td>\n",
       "      <td>0.248974</td>\n",
       "      <td>0.593963</td>\n",
       "      <td>1.000000</td>\n",
       "      <td>0.395154</td>\n",
       "      <td>0.601295</td>\n",
       "      <td>0.867544</td>\n",
       "      <td>0.785753</td>\n",
       "      <td>0.703781</td>\n",
       "      <td>0.650717</td>\n",
       "      <td>0.411534</td>\n",
       "      <td>0.734261</td>\n",
       "      <td>0.498779</td>\n",
       "      <td>0.479870</td>\n",
       "      <td>0.551796</td>\n",
       "      <td>0.298940</td>\n",
       "      <td>0.420551</td>\n",
       "      <td>0.744669</td>\n",
       "      <td>0.019729</td>\n",
       "      <td>0.370697</td>\n",
       "      <td>-0.079322</td>\n",
       "      <td>0.821133</td>\n",
       "      <td>0.102705</td>\n",
       "      <td>-0.183599</td>\n",
       "      <td>0.867648</td>\n",
       "      <td>0.674311</td>\n",
       "      <td>0.791285</td>\n",
       "      <td>-0.256576</td>\n",
       "      <td>-0.195563</td>\n",
       "      <td>-0.234034</td>\n",
       "      <td>-0.512344</td>\n",
       "      <td>-0.506354</td>\n",
       "      <td>-0.508883</td>\n",
       "      <td>-0.511252</td>\n",
       "      <td>-0.512516</td>\n",
       "    </tr>\n",
       "    <tr>\n",
       "      <th>heading_accuracy</th>\n",
       "      <td>0.252176</td>\n",
       "      <td>0.177035</td>\n",
       "      <td>0.402127</td>\n",
       "      <td>0.395154</td>\n",
       "      <td>1.000000</td>\n",
       "      <td>0.582752</td>\n",
       "      <td>0.406554</td>\n",
       "      <td>0.449685</td>\n",
       "      <td>0.356584</td>\n",
       "      <td>0.336954</td>\n",
       "      <td>0.459417</td>\n",
       "      <td>0.590197</td>\n",
       "      <td>0.154465</td>\n",
       "      <td>0.224164</td>\n",
       "      <td>0.094363</td>\n",
       "      <td>0.213979</td>\n",
       "      <td>0.057070</td>\n",
       "      <td>0.579286</td>\n",
       "      <td>0.246014</td>\n",
       "      <td>0.486420</td>\n",
       "      <td>0.456908</td>\n",
       "      <td>0.427902</td>\n",
       "      <td>0.633510</td>\n",
       "      <td>0.469979</td>\n",
       "      <td>0.420869</td>\n",
       "      <td>0.289755</td>\n",
       "      <td>0.475088</td>\n",
       "      <td>0.476038</td>\n",
       "      <td>0.499815</td>\n",
       "      <td>0.460758</td>\n",
       "      <td>-0.732331</td>\n",
       "      <td>-0.730078</td>\n",
       "      <td>-0.724482</td>\n",
       "      <td>-0.728177</td>\n",
       "      <td>-0.730107</td>\n",
       "    </tr>\n",
       "    <tr>\n",
       "      <th>short_passing</th>\n",
       "      <td>0.419772</td>\n",
       "      <td>0.371640</td>\n",
       "      <td>0.800335</td>\n",
       "      <td>0.601295</td>\n",
       "      <td>0.582752</td>\n",
       "      <td>1.000000</td>\n",
       "      <td>0.646988</td>\n",
       "      <td>0.809328</td>\n",
       "      <td>0.750298</td>\n",
       "      <td>0.707405</td>\n",
       "      <td>0.878844</td>\n",
       "      <td>0.904834</td>\n",
       "      <td>0.461401</td>\n",
       "      <td>0.450669</td>\n",
       "      <td>0.519516</td>\n",
       "      <td>0.401707</td>\n",
       "      <td>0.489665</td>\n",
       "      <td>0.742217</td>\n",
       "      <td>0.081841</td>\n",
       "      <td>0.616686</td>\n",
       "      <td>0.039360</td>\n",
       "      <td>0.739207</td>\n",
       "      <td>0.514586</td>\n",
       "      <td>0.459534</td>\n",
       "      <td>0.702256</td>\n",
       "      <td>0.754800</td>\n",
       "      <td>0.653669</td>\n",
       "      <td>0.385402</td>\n",
       "      <td>0.450602</td>\n",
       "      <td>0.410710</td>\n",
       "      <td>-0.734776</td>\n",
       "      <td>-0.731538</td>\n",
       "      <td>-0.725775</td>\n",
       "      <td>-0.733395</td>\n",
       "      <td>-0.732207</td>\n",
       "    </tr>\n",
       "    <tr>\n",
       "      <th>volleys</th>\n",
       "      <td>0.313860</td>\n",
       "      <td>0.255159</td>\n",
       "      <td>0.649425</td>\n",
       "      <td>0.867544</td>\n",
       "      <td>0.406554</td>\n",
       "      <td>0.646988</td>\n",
       "      <td>1.000000</td>\n",
       "      <td>0.783433</td>\n",
       "      <td>0.755219</td>\n",
       "      <td>0.701934</td>\n",
       "      <td>0.487501</td>\n",
       "      <td>0.754191</td>\n",
       "      <td>0.468974</td>\n",
       "      <td>0.448811</td>\n",
       "      <td>0.546800</td>\n",
       "      <td>0.344218</td>\n",
       "      <td>0.439796</td>\n",
       "      <td>0.764329</td>\n",
       "      <td>0.024822</td>\n",
       "      <td>0.387624</td>\n",
       "      <td>-0.067564</td>\n",
       "      <td>0.833142</td>\n",
       "      <td>0.175303</td>\n",
       "      <td>-0.072904</td>\n",
       "      <td>0.833902</td>\n",
       "      <td>0.699945</td>\n",
       "      <td>0.782083</td>\n",
       "      <td>-0.154786</td>\n",
       "      <td>-0.090536</td>\n",
       "      <td>-0.124350</td>\n",
       "      <td>-0.526012</td>\n",
       "      <td>-0.522330</td>\n",
       "      <td>-0.522018</td>\n",
       "      <td>-0.525601</td>\n",
       "      <td>-0.526204</td>\n",
       "    </tr>\n",
       "    <tr>\n",
       "      <th>dribbling</th>\n",
       "      <td>0.307596</td>\n",
       "      <td>0.324853</td>\n",
       "      <td>0.824943</td>\n",
       "      <td>0.785753</td>\n",
       "      <td>0.449685</td>\n",
       "      <td>0.809328</td>\n",
       "      <td>0.783433</td>\n",
       "      <td>1.000000</td>\n",
       "      <td>0.819477</td>\n",
       "      <td>0.717246</td>\n",
       "      <td>0.661587</td>\n",
       "      <td>0.919231</td>\n",
       "      <td>0.684154</td>\n",
       "      <td>0.656378</td>\n",
       "      <td>0.714073</td>\n",
       "      <td>0.315114</td>\n",
       "      <td>0.606803</td>\n",
       "      <td>0.760702</td>\n",
       "      <td>0.061893</td>\n",
       "      <td>0.583860</td>\n",
       "      <td>-0.149976</td>\n",
       "      <td>0.810139</td>\n",
       "      <td>0.287576</td>\n",
       "      <td>0.137958</td>\n",
       "      <td>0.855514</td>\n",
       "      <td>0.734897</td>\n",
       "      <td>0.720060</td>\n",
       "      <td>0.076048</td>\n",
       "      <td>0.138615</td>\n",
       "      <td>0.114041</td>\n",
       "      <td>-0.702771</td>\n",
       "      <td>-0.698667</td>\n",
       "      <td>-0.695255</td>\n",
       "      <td>-0.701347</td>\n",
       "      <td>-0.700998</td>\n",
       "    </tr>\n",
       "    <tr>\n",
       "      <th>curve</th>\n",
       "      <td>0.336166</td>\n",
       "      <td>0.275483</td>\n",
       "      <td>0.817445</td>\n",
       "      <td>0.703781</td>\n",
       "      <td>0.356584</td>\n",
       "      <td>0.750298</td>\n",
       "      <td>0.755219</td>\n",
       "      <td>0.819477</td>\n",
       "      <td>1.000000</td>\n",
       "      <td>0.822288</td>\n",
       "      <td>0.669724</td>\n",
       "      <td>0.810221</td>\n",
       "      <td>0.518911</td>\n",
       "      <td>0.484615</td>\n",
       "      <td>0.612280</td>\n",
       "      <td>0.353354</td>\n",
       "      <td>0.542439</td>\n",
       "      <td>0.724824</td>\n",
       "      <td>0.018005</td>\n",
       "      <td>0.480116</td>\n",
       "      <td>-0.150273</td>\n",
       "      <td>0.800624</td>\n",
       "      <td>0.268382</td>\n",
       "      <td>0.163271</td>\n",
       "      <td>0.770854</td>\n",
       "      <td>0.730376</td>\n",
       "      <td>0.710626</td>\n",
       "      <td>0.083822</td>\n",
       "      <td>0.144056</td>\n",
       "      <td>0.117202</td>\n",
       "      <td>-0.580544</td>\n",
       "      <td>-0.577502</td>\n",
       "      <td>-0.573558</td>\n",
       "      <td>-0.582075</td>\n",
       "      <td>-0.581895</td>\n",
       "    </tr>\n",
       "    <tr>\n",
       "      <th>free_kick_accuracy</th>\n",
       "      <td>0.287206</td>\n",
       "      <td>0.204942</td>\n",
       "      <td>0.725098</td>\n",
       "      <td>0.650717</td>\n",
       "      <td>0.336954</td>\n",
       "      <td>0.707405</td>\n",
       "      <td>0.701934</td>\n",
       "      <td>0.717246</td>\n",
       "      <td>0.822288</td>\n",
       "      <td>1.000000</td>\n",
       "      <td>0.662726</td>\n",
       "      <td>0.730712</td>\n",
       "      <td>0.385514</td>\n",
       "      <td>0.349604</td>\n",
       "      <td>0.497994</td>\n",
       "      <td>0.314320</td>\n",
       "      <td>0.462758</td>\n",
       "      <td>0.718555</td>\n",
       "      <td>-0.024139</td>\n",
       "      <td>0.416637</td>\n",
       "      <td>-0.095527</td>\n",
       "      <td>0.795308</td>\n",
       "      <td>0.284769</td>\n",
       "      <td>0.186058</td>\n",
       "      <td>0.684736</td>\n",
       "      <td>0.708268</td>\n",
       "      <td>0.710457</td>\n",
       "      <td>0.102783</td>\n",
       "      <td>0.165065</td>\n",
       "      <td>0.127881</td>\n",
       "      <td>-0.540419</td>\n",
       "      <td>-0.537060</td>\n",
       "      <td>-0.532840</td>\n",
       "      <td>-0.539472</td>\n",
       "      <td>-0.538664</td>\n",
       "    </tr>\n",
       "    <tr>\n",
       "      <th>long_passing</th>\n",
       "      <td>0.397417</td>\n",
       "      <td>0.323804</td>\n",
       "      <td>0.739922</td>\n",
       "      <td>0.411534</td>\n",
       "      <td>0.459417</td>\n",
       "      <td>0.878844</td>\n",
       "      <td>0.487501</td>\n",
       "      <td>0.661587</td>\n",
       "      <td>0.669724</td>\n",
       "      <td>0.662726</td>\n",
       "      <td>1.000000</td>\n",
       "      <td>0.764825</td>\n",
       "      <td>0.341875</td>\n",
       "      <td>0.326035</td>\n",
       "      <td>0.423549</td>\n",
       "      <td>0.372199</td>\n",
       "      <td>0.432983</td>\n",
       "      <td>0.625236</td>\n",
       "      <td>0.065884</td>\n",
       "      <td>0.553852</td>\n",
       "      <td>0.028461</td>\n",
       "      <td>0.636999</td>\n",
       "      <td>0.521826</td>\n",
       "      <td>0.570017</td>\n",
       "      <td>0.524958</td>\n",
       "      <td>0.685575</td>\n",
       "      <td>0.506890</td>\n",
       "      <td>0.493528</td>\n",
       "      <td>0.547912</td>\n",
       "      <td>0.517581</td>\n",
       "      <td>-0.608427</td>\n",
       "      <td>-0.606428</td>\n",
       "      <td>-0.599684</td>\n",
       "      <td>-0.607539</td>\n",
       "      <td>-0.606497</td>\n",
       "    </tr>\n",
       "    <tr>\n",
       "      <th>ball_control</th>\n",
       "      <td>0.392634</td>\n",
       "      <td>0.373120</td>\n",
       "      <td>0.824011</td>\n",
       "      <td>0.734261</td>\n",
       "      <td>0.590197</td>\n",
       "      <td>0.904834</td>\n",
       "      <td>0.754191</td>\n",
       "      <td>0.919231</td>\n",
       "      <td>0.810221</td>\n",
       "      <td>0.730712</td>\n",
       "      <td>0.764825</td>\n",
       "      <td>1.000000</td>\n",
       "      <td>0.587022</td>\n",
       "      <td>0.572565</td>\n",
       "      <td>0.628373</td>\n",
       "      <td>0.379055</td>\n",
       "      <td>0.555352</td>\n",
       "      <td>0.799306</td>\n",
       "      <td>0.095343</td>\n",
       "      <td>0.624656</td>\n",
       "      <td>-0.024198</td>\n",
       "      <td>0.804701</td>\n",
       "      <td>0.435533</td>\n",
       "      <td>0.301904</td>\n",
       "      <td>0.813920</td>\n",
       "      <td>0.760643</td>\n",
       "      <td>0.734673</td>\n",
       "      <td>0.235448</td>\n",
       "      <td>0.299392</td>\n",
       "      <td>0.263353</td>\n",
       "      <td>-0.779011</td>\n",
       "      <td>-0.774794</td>\n",
       "      <td>-0.769724</td>\n",
       "      <td>-0.776356</td>\n",
       "      <td>-0.776648</td>\n",
       "    </tr>\n",
       "    <tr>\n",
       "      <th>acceleration</th>\n",
       "      <td>0.180721</td>\n",
       "      <td>0.303472</td>\n",
       "      <td>0.573663</td>\n",
       "      <td>0.498779</td>\n",
       "      <td>0.154465</td>\n",
       "      <td>0.461401</td>\n",
       "      <td>0.468974</td>\n",
       "      <td>0.684154</td>\n",
       "      <td>0.518911</td>\n",
       "      <td>0.385514</td>\n",
       "      <td>0.341875</td>\n",
       "      <td>0.587022</td>\n",
       "      <td>1.000000</td>\n",
       "      <td>0.911198</td>\n",
       "      <td>0.801307</td>\n",
       "      <td>0.179563</td>\n",
       "      <td>0.653062</td>\n",
       "      <td>0.428288</td>\n",
       "      <td>0.215653</td>\n",
       "      <td>0.557126</td>\n",
       "      <td>-0.305252</td>\n",
       "      <td>0.474596</td>\n",
       "      <td>0.091144</td>\n",
       "      <td>-0.008026</td>\n",
       "      <td>0.570570</td>\n",
       "      <td>0.416968</td>\n",
       "      <td>0.389022</td>\n",
       "      <td>-0.031738</td>\n",
       "      <td>-0.002844</td>\n",
       "      <td>0.011167</td>\n",
       "      <td>-0.446897</td>\n",
       "      <td>-0.444345</td>\n",
       "      <td>-0.441293</td>\n",
       "      <td>-0.450237</td>\n",
       "      <td>-0.447977</td>\n",
       "    </tr>\n",
       "    <tr>\n",
       "      <th>sprint_speed</th>\n",
       "      <td>0.197240</td>\n",
       "      <td>0.314716</td>\n",
       "      <td>0.555242</td>\n",
       "      <td>0.479870</td>\n",
       "      <td>0.224164</td>\n",
       "      <td>0.450669</td>\n",
       "      <td>0.448811</td>\n",
       "      <td>0.656378</td>\n",
       "      <td>0.484615</td>\n",
       "      <td>0.349604</td>\n",
       "      <td>0.326035</td>\n",
       "      <td>0.572565</td>\n",
       "      <td>0.911198</td>\n",
       "      <td>1.000000</td>\n",
       "      <td>0.734878</td>\n",
       "      <td>0.175979</td>\n",
       "      <td>0.570574</td>\n",
       "      <td>0.440590</td>\n",
       "      <td>0.233538</td>\n",
       "      <td>0.576260</td>\n",
       "      <td>-0.203371</td>\n",
       "      <td>0.449783</td>\n",
       "      <td>0.137807</td>\n",
       "      <td>0.021963</td>\n",
       "      <td>0.550142</td>\n",
       "      <td>0.376485</td>\n",
       "      <td>0.374100</td>\n",
       "      <td>0.008488</td>\n",
       "      <td>0.037034</td>\n",
       "      <td>0.048570</td>\n",
       "      <td>-0.465232</td>\n",
       "      <td>-0.460871</td>\n",
       "      <td>-0.459523</td>\n",
       "      <td>-0.469275</td>\n",
       "      <td>-0.466791</td>\n",
       "    </tr>\n",
       "    <tr>\n",
       "      <th>agility</th>\n",
       "      <td>0.221595</td>\n",
       "      <td>0.270799</td>\n",
       "      <td>0.616565</td>\n",
       "      <td>0.551796</td>\n",
       "      <td>0.094363</td>\n",
       "      <td>0.519516</td>\n",
       "      <td>0.546800</td>\n",
       "      <td>0.714073</td>\n",
       "      <td>0.612280</td>\n",
       "      <td>0.497994</td>\n",
       "      <td>0.423549</td>\n",
       "      <td>0.628373</td>\n",
       "      <td>0.801307</td>\n",
       "      <td>0.734878</td>\n",
       "      <td>1.000000</td>\n",
       "      <td>0.261411</td>\n",
       "      <td>0.741786</td>\n",
       "      <td>0.463988</td>\n",
       "      <td>0.196211</td>\n",
       "      <td>0.492068</td>\n",
       "      <td>-0.405526</td>\n",
       "      <td>0.553266</td>\n",
       "      <td>0.059210</td>\n",
       "      <td>-0.026982</td>\n",
       "      <td>0.622173</td>\n",
       "      <td>0.549239</td>\n",
       "      <td>0.456380</td>\n",
       "      <td>-0.081575</td>\n",
       "      <td>-0.045770</td>\n",
       "      <td>-0.038726</td>\n",
       "      <td>-0.402240</td>\n",
       "      <td>-0.399089</td>\n",
       "      <td>-0.397772</td>\n",
       "      <td>-0.404363</td>\n",
       "      <td>-0.403420</td>\n",
       "    </tr>\n",
       "    <tr>\n",
       "      <th>reactions</th>\n",
       "      <td>0.784943</td>\n",
       "      <td>0.602209</td>\n",
       "      <td>0.318881</td>\n",
       "      <td>0.298940</td>\n",
       "      <td>0.213979</td>\n",
       "      <td>0.401707</td>\n",
       "      <td>0.344218</td>\n",
       "      <td>0.315114</td>\n",
       "      <td>0.353354</td>\n",
       "      <td>0.314320</td>\n",
       "      <td>0.372199</td>\n",
       "      <td>0.379055</td>\n",
       "      <td>0.179563</td>\n",
       "      <td>0.175979</td>\n",
       "      <td>0.261411</td>\n",
       "      <td>1.000000</td>\n",
       "      <td>0.160906</td>\n",
       "      <td>0.344868</td>\n",
       "      <td>0.222361</td>\n",
       "      <td>0.255520</td>\n",
       "      <td>0.134767</td>\n",
       "      <td>0.357340</td>\n",
       "      <td>0.267582</td>\n",
       "      <td>0.187480</td>\n",
       "      <td>0.348042</td>\n",
       "      <td>0.440673</td>\n",
       "      <td>0.303204</td>\n",
       "      <td>0.089915</td>\n",
       "      <td>0.123045</td>\n",
       "      <td>0.106548</td>\n",
       "      <td>-0.015912</td>\n",
       "      <td>-0.015374</td>\n",
       "      <td>-0.015532</td>\n",
       "      <td>-0.015802</td>\n",
       "      <td>-0.013316</td>\n",
       "    </tr>\n",
       "    <tr>\n",
       "      <th>balance</th>\n",
       "      <td>0.105834</td>\n",
       "      <td>0.162061</td>\n",
       "      <td>0.578599</td>\n",
       "      <td>0.420551</td>\n",
       "      <td>0.057070</td>\n",
       "      <td>0.489665</td>\n",
       "      <td>0.439796</td>\n",
       "      <td>0.606803</td>\n",
       "      <td>0.542439</td>\n",
       "      <td>0.462758</td>\n",
       "      <td>0.432983</td>\n",
       "      <td>0.555352</td>\n",
       "      <td>0.653062</td>\n",
       "      <td>0.570574</td>\n",
       "      <td>0.741786</td>\n",
       "      <td>0.160906</td>\n",
       "      <td>1.000000</td>\n",
       "      <td>0.381808</td>\n",
       "      <td>0.188755</td>\n",
       "      <td>0.412735</td>\n",
       "      <td>-0.472144</td>\n",
       "      <td>0.470224</td>\n",
       "      <td>0.111435</td>\n",
       "      <td>0.087416</td>\n",
       "      <td>0.504139</td>\n",
       "      <td>0.497040</td>\n",
       "      <td>0.392201</td>\n",
       "      <td>0.042390</td>\n",
       "      <td>0.072994</td>\n",
       "      <td>0.082836</td>\n",
       "      <td>-0.416954</td>\n",
       "      <td>-0.412729</td>\n",
       "      <td>-0.410698</td>\n",
       "      <td>-0.417903</td>\n",
       "      <td>-0.417249</td>\n",
       "    </tr>\n",
       "    <tr>\n",
       "      <th>shot_power</th>\n",
       "      <td>0.355663</td>\n",
       "      <td>0.277428</td>\n",
       "      <td>0.679563</td>\n",
       "      <td>0.744669</td>\n",
       "      <td>0.579286</td>\n",
       "      <td>0.742217</td>\n",
       "      <td>0.764329</td>\n",
       "      <td>0.760702</td>\n",
       "      <td>0.724824</td>\n",
       "      <td>0.718555</td>\n",
       "      <td>0.625236</td>\n",
       "      <td>0.799306</td>\n",
       "      <td>0.428288</td>\n",
       "      <td>0.440590</td>\n",
       "      <td>0.463988</td>\n",
       "      <td>0.344868</td>\n",
       "      <td>0.381808</td>\n",
       "      <td>1.000000</td>\n",
       "      <td>0.086413</td>\n",
       "      <td>0.523501</td>\n",
       "      <td>0.134472</td>\n",
       "      <td>0.855292</td>\n",
       "      <td>0.431683</td>\n",
       "      <td>0.207793</td>\n",
       "      <td>0.756679</td>\n",
       "      <td>0.656937</td>\n",
       "      <td>0.749041</td>\n",
       "      <td>0.139685</td>\n",
       "      <td>0.200067</td>\n",
       "      <td>0.159942</td>\n",
       "      <td>-0.653969</td>\n",
       "      <td>-0.653000</td>\n",
       "      <td>-0.649339</td>\n",
       "      <td>-0.654391</td>\n",
       "      <td>-0.654263</td>\n",
       "    </tr>\n",
       "    <tr>\n",
       "      <th>jumping</th>\n",
       "      <td>0.239657</td>\n",
       "      <td>0.179468</td>\n",
       "      <td>0.058013</td>\n",
       "      <td>0.019729</td>\n",
       "      <td>0.246014</td>\n",
       "      <td>0.081841</td>\n",
       "      <td>0.024822</td>\n",
       "      <td>0.061893</td>\n",
       "      <td>0.018005</td>\n",
       "      <td>-0.024139</td>\n",
       "      <td>0.065884</td>\n",
       "      <td>0.095343</td>\n",
       "      <td>0.215653</td>\n",
       "      <td>0.233538</td>\n",
       "      <td>0.196211</td>\n",
       "      <td>0.222361</td>\n",
       "      <td>0.188755</td>\n",
       "      <td>0.086413</td>\n",
       "      <td>1.000000</td>\n",
       "      <td>0.261558</td>\n",
       "      <td>0.163655</td>\n",
       "      <td>0.027682</td>\n",
       "      <td>0.248820</td>\n",
       "      <td>0.177122</td>\n",
       "      <td>0.054410</td>\n",
       "      <td>0.005792</td>\n",
       "      <td>0.031409</td>\n",
       "      <td>0.180803</td>\n",
       "      <td>0.172294</td>\n",
       "      <td>0.191044</td>\n",
       "      <td>-0.077603</td>\n",
       "      <td>-0.075319</td>\n",
       "      <td>-0.075883</td>\n",
       "      <td>-0.074550</td>\n",
       "      <td>-0.072175</td>\n",
       "    </tr>\n",
       "    <tr>\n",
       "      <th>stamina</th>\n",
       "      <td>0.256736</td>\n",
       "      <td>0.247563</td>\n",
       "      <td>0.583253</td>\n",
       "      <td>0.370697</td>\n",
       "      <td>0.486420</td>\n",
       "      <td>0.616686</td>\n",
       "      <td>0.387624</td>\n",
       "      <td>0.583860</td>\n",
       "      <td>0.480116</td>\n",
       "      <td>0.416637</td>\n",
       "      <td>0.553852</td>\n",
       "      <td>0.624656</td>\n",
       "      <td>0.557126</td>\n",
       "      <td>0.576260</td>\n",
       "      <td>0.492068</td>\n",
       "      <td>0.255520</td>\n",
       "      <td>0.412735</td>\n",
       "      <td>0.523501</td>\n",
       "      <td>0.261558</td>\n",
       "      <td>1.000000</td>\n",
       "      <td>0.124360</td>\n",
       "      <td>0.482390</td>\n",
       "      <td>0.531349</td>\n",
       "      <td>0.454561</td>\n",
       "      <td>0.496272</td>\n",
       "      <td>0.436585</td>\n",
       "      <td>0.378730</td>\n",
       "      <td>0.421455</td>\n",
       "      <td>0.461714</td>\n",
       "      <td>0.448043</td>\n",
       "      <td>-0.606716</td>\n",
       "      <td>-0.604721</td>\n",
       "      <td>-0.598558</td>\n",
       "      <td>-0.605662</td>\n",
       "      <td>-0.608744</td>\n",
       "    </tr>\n",
       "    <tr>\n",
       "      <th>strength</th>\n",
       "      <td>0.221295</td>\n",
       "      <td>0.070642</td>\n",
       "      <td>-0.131562</td>\n",
       "      <td>-0.079322</td>\n",
       "      <td>0.456908</td>\n",
       "      <td>0.039360</td>\n",
       "      <td>-0.067564</td>\n",
       "      <td>-0.149976</td>\n",
       "      <td>-0.150273</td>\n",
       "      <td>-0.095527</td>\n",
       "      <td>0.028461</td>\n",
       "      <td>-0.024198</td>\n",
       "      <td>-0.305252</td>\n",
       "      <td>-0.203371</td>\n",
       "      <td>-0.405526</td>\n",
       "      <td>0.134767</td>\n",
       "      <td>-0.472144</td>\n",
       "      <td>0.134472</td>\n",
       "      <td>0.163655</td>\n",
       "      <td>0.124360</td>\n",
       "      <td>1.000000</td>\n",
       "      <td>-0.041583</td>\n",
       "      <td>0.446077</td>\n",
       "      <td>0.299175</td>\n",
       "      <td>-0.099260</td>\n",
       "      <td>-0.111851</td>\n",
       "      <td>-0.003654</td>\n",
       "      <td>0.310705</td>\n",
       "      <td>0.315137</td>\n",
       "      <td>0.281664</td>\n",
       "      <td>-0.084117</td>\n",
       "      <td>-0.081526</td>\n",
       "      <td>-0.084424</td>\n",
       "      <td>-0.083588</td>\n",
       "      <td>-0.083444</td>\n",
       "    </tr>\n",
       "    <tr>\n",
       "      <th>long_shots</th>\n",
       "      <td>0.334483</td>\n",
       "      <td>0.269833</td>\n",
       "      <td>0.723657</td>\n",
       "      <td>0.821133</td>\n",
       "      <td>0.427902</td>\n",
       "      <td>0.739207</td>\n",
       "      <td>0.833142</td>\n",
       "      <td>0.810139</td>\n",
       "      <td>0.800624</td>\n",
       "      <td>0.795308</td>\n",
       "      <td>0.636999</td>\n",
       "      <td>0.804701</td>\n",
       "      <td>0.474596</td>\n",
       "      <td>0.449783</td>\n",
       "      <td>0.553266</td>\n",
       "      <td>0.357340</td>\n",
       "      <td>0.470224</td>\n",
       "      <td>0.855292</td>\n",
       "      <td>0.027682</td>\n",
       "      <td>0.482390</td>\n",
       "      <td>-0.041583</td>\n",
       "      <td>1.000000</td>\n",
       "      <td>0.284968</td>\n",
       "      <td>0.099085</td>\n",
       "      <td>0.815924</td>\n",
       "      <td>0.743655</td>\n",
       "      <td>0.771143</td>\n",
       "      <td>0.010564</td>\n",
       "      <td>0.078255</td>\n",
       "      <td>0.040826</td>\n",
       "      <td>-0.581690</td>\n",
       "      <td>-0.577355</td>\n",
       "      <td>-0.575984</td>\n",
       "      <td>-0.581034</td>\n",
       "      <td>-0.580799</td>\n",
       "    </tr>\n",
       "    <tr>\n",
       "      <th>aggression</th>\n",
       "      <td>0.278791</td>\n",
       "      <td>0.151848</td>\n",
       "      <td>0.380537</td>\n",
       "      <td>0.102705</td>\n",
       "      <td>0.633510</td>\n",
       "      <td>0.514586</td>\n",
       "      <td>0.175303</td>\n",
       "      <td>0.287576</td>\n",
       "      <td>0.268382</td>\n",
       "      <td>0.284769</td>\n",
       "      <td>0.521826</td>\n",
       "      <td>0.435533</td>\n",
       "      <td>0.091144</td>\n",
       "      <td>0.137807</td>\n",
       "      <td>0.059210</td>\n",
       "      <td>0.267582</td>\n",
       "      <td>0.111435</td>\n",
       "      <td>0.431683</td>\n",
       "      <td>0.248820</td>\n",
       "      <td>0.531349</td>\n",
       "      <td>0.446077</td>\n",
       "      <td>0.284968</td>\n",
       "      <td>1.000000</td>\n",
       "      <td>0.698937</td>\n",
       "      <td>0.216158</td>\n",
       "      <td>0.251376</td>\n",
       "      <td>0.241574</td>\n",
       "      <td>0.679982</td>\n",
       "      <td>0.705624</td>\n",
       "      <td>0.682285</td>\n",
       "      <td>-0.539937</td>\n",
       "      <td>-0.539042</td>\n",
       "      <td>-0.532592</td>\n",
       "      <td>-0.537364</td>\n",
       "      <td>-0.540148</td>\n",
       "    </tr>\n",
       "    <tr>\n",
       "      <th>interceptions</th>\n",
       "      <td>0.210287</td>\n",
       "      <td>0.126158</td>\n",
       "      <td>0.333269</td>\n",
       "      <td>-0.183599</td>\n",
       "      <td>0.469979</td>\n",
       "      <td>0.459534</td>\n",
       "      <td>-0.072904</td>\n",
       "      <td>0.137958</td>\n",
       "      <td>0.163271</td>\n",
       "      <td>0.186058</td>\n",
       "      <td>0.570017</td>\n",
       "      <td>0.301904</td>\n",
       "      <td>-0.008026</td>\n",
       "      <td>0.021963</td>\n",
       "      <td>-0.026982</td>\n",
       "      <td>0.187480</td>\n",
       "      <td>0.087416</td>\n",
       "      <td>0.207793</td>\n",
       "      <td>0.177122</td>\n",
       "      <td>0.454561</td>\n",
       "      <td>0.299175</td>\n",
       "      <td>0.099085</td>\n",
       "      <td>0.698937</td>\n",
       "      <td>1.000000</td>\n",
       "      <td>-0.016123</td>\n",
       "      <td>0.143660</td>\n",
       "      <td>0.013943</td>\n",
       "      <td>0.914538</td>\n",
       "      <td>0.927161</td>\n",
       "      <td>0.912976</td>\n",
       "      <td>-0.441491</td>\n",
       "      <td>-0.444525</td>\n",
       "      <td>-0.433229</td>\n",
       "      <td>-0.440536</td>\n",
       "      <td>-0.440931</td>\n",
       "    </tr>\n",
       "    <tr>\n",
       "      <th>positioning</th>\n",
       "      <td>0.294129</td>\n",
       "      <td>0.261627</td>\n",
       "      <td>0.724795</td>\n",
       "      <td>0.867648</td>\n",
       "      <td>0.420869</td>\n",
       "      <td>0.702256</td>\n",
       "      <td>0.833902</td>\n",
       "      <td>0.855514</td>\n",
       "      <td>0.770854</td>\n",
       "      <td>0.684736</td>\n",
       "      <td>0.524958</td>\n",
       "      <td>0.813920</td>\n",
       "      <td>0.570570</td>\n",
       "      <td>0.550142</td>\n",
       "      <td>0.622173</td>\n",
       "      <td>0.348042</td>\n",
       "      <td>0.504139</td>\n",
       "      <td>0.756679</td>\n",
       "      <td>0.054410</td>\n",
       "      <td>0.496272</td>\n",
       "      <td>-0.099260</td>\n",
       "      <td>0.815924</td>\n",
       "      <td>0.216158</td>\n",
       "      <td>-0.016123</td>\n",
       "      <td>1.000000</td>\n",
       "      <td>0.731357</td>\n",
       "      <td>0.761614</td>\n",
       "      <td>-0.099038</td>\n",
       "      <td>-0.031532</td>\n",
       "      <td>-0.063061</td>\n",
       "      <td>-0.591481</td>\n",
       "      <td>-0.587316</td>\n",
       "      <td>-0.584964</td>\n",
       "      <td>-0.590681</td>\n",
       "      <td>-0.591447</td>\n",
       "    </tr>\n",
       "    <tr>\n",
       "      <th>vision</th>\n",
       "      <td>0.416211</td>\n",
       "      <td>0.355896</td>\n",
       "      <td>0.689237</td>\n",
       "      <td>0.674311</td>\n",
       "      <td>0.289755</td>\n",
       "      <td>0.754800</td>\n",
       "      <td>0.699945</td>\n",
       "      <td>0.734897</td>\n",
       "      <td>0.730376</td>\n",
       "      <td>0.708268</td>\n",
       "      <td>0.685575</td>\n",
       "      <td>0.760643</td>\n",
       "      <td>0.416968</td>\n",
       "      <td>0.376485</td>\n",
       "      <td>0.549239</td>\n",
       "      <td>0.440673</td>\n",
       "      <td>0.497040</td>\n",
       "      <td>0.656937</td>\n",
       "      <td>0.005792</td>\n",
       "      <td>0.436585</td>\n",
       "      <td>-0.111851</td>\n",
       "      <td>0.743655</td>\n",
       "      <td>0.251376</td>\n",
       "      <td>0.143660</td>\n",
       "      <td>0.731357</td>\n",
       "      <td>1.000000</td>\n",
       "      <td>0.658233</td>\n",
       "      <td>0.032774</td>\n",
       "      <td>0.103163</td>\n",
       "      <td>0.063741</td>\n",
       "      <td>-0.456806</td>\n",
       "      <td>-0.453619</td>\n",
       "      <td>-0.449991</td>\n",
       "      <td>-0.454133</td>\n",
       "      <td>-0.453550</td>\n",
       "    </tr>\n",
       "    <tr>\n",
       "      <th>penalties</th>\n",
       "      <td>0.283888</td>\n",
       "      <td>0.215010</td>\n",
       "      <td>0.613708</td>\n",
       "      <td>0.791285</td>\n",
       "      <td>0.475088</td>\n",
       "      <td>0.653669</td>\n",
       "      <td>0.782083</td>\n",
       "      <td>0.720060</td>\n",
       "      <td>0.710626</td>\n",
       "      <td>0.710457</td>\n",
       "      <td>0.506890</td>\n",
       "      <td>0.734673</td>\n",
       "      <td>0.389022</td>\n",
       "      <td>0.374100</td>\n",
       "      <td>0.456380</td>\n",
       "      <td>0.303204</td>\n",
       "      <td>0.392201</td>\n",
       "      <td>0.749041</td>\n",
       "      <td>0.031409</td>\n",
       "      <td>0.378730</td>\n",
       "      <td>-0.003654</td>\n",
       "      <td>0.771143</td>\n",
       "      <td>0.241574</td>\n",
       "      <td>0.013943</td>\n",
       "      <td>0.761614</td>\n",
       "      <td>0.658233</td>\n",
       "      <td>1.000000</td>\n",
       "      <td>-0.052145</td>\n",
       "      <td>0.005483</td>\n",
       "      <td>-0.036815</td>\n",
       "      <td>-0.567873</td>\n",
       "      <td>-0.562690</td>\n",
       "      <td>-0.561713</td>\n",
       "      <td>-0.566765</td>\n",
       "      <td>-0.567115</td>\n",
       "    </tr>\n",
       "    <tr>\n",
       "      <th>marking</th>\n",
       "      <td>0.128515</td>\n",
       "      <td>0.071975</td>\n",
       "      <td>0.277638</td>\n",
       "      <td>-0.256576</td>\n",
       "      <td>0.476038</td>\n",
       "      <td>0.385402</td>\n",
       "      <td>-0.154786</td>\n",
       "      <td>0.076048</td>\n",
       "      <td>0.083822</td>\n",
       "      <td>0.102783</td>\n",
       "      <td>0.493528</td>\n",
       "      <td>0.235448</td>\n",
       "      <td>-0.031738</td>\n",
       "      <td>0.008488</td>\n",
       "      <td>-0.081575</td>\n",
       "      <td>0.089915</td>\n",
       "      <td>0.042390</td>\n",
       "      <td>0.139685</td>\n",
       "      <td>0.180803</td>\n",
       "      <td>0.421455</td>\n",
       "      <td>0.310705</td>\n",
       "      <td>0.010564</td>\n",
       "      <td>0.679982</td>\n",
       "      <td>0.914538</td>\n",
       "      <td>-0.099038</td>\n",
       "      <td>0.032774</td>\n",
       "      <td>-0.052145</td>\n",
       "      <td>1.000000</td>\n",
       "      <td>0.959618</td>\n",
       "      <td>0.959676</td>\n",
       "      <td>-0.435248</td>\n",
       "      <td>-0.439269</td>\n",
       "      <td>-0.428461</td>\n",
       "      <td>-0.434064</td>\n",
       "      <td>-0.434612</td>\n",
       "    </tr>\n",
       "    <tr>\n",
       "      <th>standing_tackle</th>\n",
       "      <td>0.156498</td>\n",
       "      <td>0.100240</td>\n",
       "      <td>0.325882</td>\n",
       "      <td>-0.195563</td>\n",
       "      <td>0.499815</td>\n",
       "      <td>0.450602</td>\n",
       "      <td>-0.090536</td>\n",
       "      <td>0.138615</td>\n",
       "      <td>0.144056</td>\n",
       "      <td>0.165065</td>\n",
       "      <td>0.547912</td>\n",
       "      <td>0.299392</td>\n",
       "      <td>-0.002844</td>\n",
       "      <td>0.037034</td>\n",
       "      <td>-0.045770</td>\n",
       "      <td>0.123045</td>\n",
       "      <td>0.072994</td>\n",
       "      <td>0.200067</td>\n",
       "      <td>0.172294</td>\n",
       "      <td>0.461714</td>\n",
       "      <td>0.315137</td>\n",
       "      <td>0.078255</td>\n",
       "      <td>0.705624</td>\n",
       "      <td>0.927161</td>\n",
       "      <td>-0.031532</td>\n",
       "      <td>0.103163</td>\n",
       "      <td>0.005483</td>\n",
       "      <td>0.959618</td>\n",
       "      <td>1.000000</td>\n",
       "      <td>0.969387</td>\n",
       "      <td>-0.477286</td>\n",
       "      <td>-0.480941</td>\n",
       "      <td>-0.470543</td>\n",
       "      <td>-0.476492</td>\n",
       "      <td>-0.477222</td>\n",
       "    </tr>\n",
       "    <tr>\n",
       "      <th>sliding_tackle</th>\n",
       "      <td>0.138401</td>\n",
       "      <td>0.091379</td>\n",
       "      <td>0.314068</td>\n",
       "      <td>-0.234034</td>\n",
       "      <td>0.460758</td>\n",
       "      <td>0.410710</td>\n",
       "      <td>-0.124350</td>\n",
       "      <td>0.114041</td>\n",
       "      <td>0.117202</td>\n",
       "      <td>0.127881</td>\n",
       "      <td>0.517581</td>\n",
       "      <td>0.263353</td>\n",
       "      <td>0.011167</td>\n",
       "      <td>0.048570</td>\n",
       "      <td>-0.038726</td>\n",
       "      <td>0.106548</td>\n",
       "      <td>0.082836</td>\n",
       "      <td>0.159942</td>\n",
       "      <td>0.191044</td>\n",
       "      <td>0.448043</td>\n",
       "      <td>0.281664</td>\n",
       "      <td>0.040826</td>\n",
       "      <td>0.682285</td>\n",
       "      <td>0.912976</td>\n",
       "      <td>-0.063061</td>\n",
       "      <td>0.063741</td>\n",
       "      <td>-0.036815</td>\n",
       "      <td>0.959676</td>\n",
       "      <td>0.969387</td>\n",
       "      <td>1.000000</td>\n",
       "      <td>-0.444623</td>\n",
       "      <td>-0.447680</td>\n",
       "      <td>-0.437172</td>\n",
       "      <td>-0.443554</td>\n",
       "      <td>-0.444578</td>\n",
       "    </tr>\n",
       "    <tr>\n",
       "      <th>gk_diving</th>\n",
       "      <td>0.020850</td>\n",
       "      <td>-0.014880</td>\n",
       "      <td>-0.649749</td>\n",
       "      <td>-0.512344</td>\n",
       "      <td>-0.732331</td>\n",
       "      <td>-0.734776</td>\n",
       "      <td>-0.526012</td>\n",
       "      <td>-0.702771</td>\n",
       "      <td>-0.580544</td>\n",
       "      <td>-0.540419</td>\n",
       "      <td>-0.608427</td>\n",
       "      <td>-0.779011</td>\n",
       "      <td>-0.446897</td>\n",
       "      <td>-0.465232</td>\n",
       "      <td>-0.402240</td>\n",
       "      <td>-0.015912</td>\n",
       "      <td>-0.416954</td>\n",
       "      <td>-0.653969</td>\n",
       "      <td>-0.077603</td>\n",
       "      <td>-0.606716</td>\n",
       "      <td>-0.084117</td>\n",
       "      <td>-0.581690</td>\n",
       "      <td>-0.539937</td>\n",
       "      <td>-0.441491</td>\n",
       "      <td>-0.591481</td>\n",
       "      <td>-0.456806</td>\n",
       "      <td>-0.567873</td>\n",
       "      <td>-0.435248</td>\n",
       "      <td>-0.477286</td>\n",
       "      <td>-0.444623</td>\n",
       "      <td>1.000000</td>\n",
       "      <td>0.963532</td>\n",
       "      <td>0.958303</td>\n",
       "      <td>0.964219</td>\n",
       "      <td>0.968934</td>\n",
       "    </tr>\n",
       "    <tr>\n",
       "      <th>gk_handling</th>\n",
       "      <td>0.022104</td>\n",
       "      <td>-0.015739</td>\n",
       "      <td>-0.648544</td>\n",
       "      <td>-0.506354</td>\n",
       "      <td>-0.730078</td>\n",
       "      <td>-0.731538</td>\n",
       "      <td>-0.522330</td>\n",
       "      <td>-0.698667</td>\n",
       "      <td>-0.577502</td>\n",
       "      <td>-0.537060</td>\n",
       "      <td>-0.606428</td>\n",
       "      <td>-0.774794</td>\n",
       "      <td>-0.444345</td>\n",
       "      <td>-0.460871</td>\n",
       "      <td>-0.399089</td>\n",
       "      <td>-0.015374</td>\n",
       "      <td>-0.412729</td>\n",
       "      <td>-0.653000</td>\n",
       "      <td>-0.075319</td>\n",
       "      <td>-0.604721</td>\n",
       "      <td>-0.081526</td>\n",
       "      <td>-0.577355</td>\n",
       "      <td>-0.539042</td>\n",
       "      <td>-0.444525</td>\n",
       "      <td>-0.587316</td>\n",
       "      <td>-0.453619</td>\n",
       "      <td>-0.562690</td>\n",
       "      <td>-0.439269</td>\n",
       "      <td>-0.480941</td>\n",
       "      <td>-0.447680</td>\n",
       "      <td>0.963532</td>\n",
       "      <td>1.000000</td>\n",
       "      <td>0.956238</td>\n",
       "      <td>0.963265</td>\n",
       "      <td>0.962537</td>\n",
       "    </tr>\n",
       "    <tr>\n",
       "      <th>gk_kicking</th>\n",
       "      <td>0.020087</td>\n",
       "      <td>-0.017193</td>\n",
       "      <td>-0.642366</td>\n",
       "      <td>-0.508883</td>\n",
       "      <td>-0.724482</td>\n",
       "      <td>-0.725775</td>\n",
       "      <td>-0.522018</td>\n",
       "      <td>-0.695255</td>\n",
       "      <td>-0.573558</td>\n",
       "      <td>-0.532840</td>\n",
       "      <td>-0.599684</td>\n",
       "      <td>-0.769724</td>\n",
       "      <td>-0.441293</td>\n",
       "      <td>-0.459523</td>\n",
       "      <td>-0.397772</td>\n",
       "      <td>-0.015532</td>\n",
       "      <td>-0.410698</td>\n",
       "      <td>-0.649339</td>\n",
       "      <td>-0.075883</td>\n",
       "      <td>-0.598558</td>\n",
       "      <td>-0.084424</td>\n",
       "      <td>-0.575984</td>\n",
       "      <td>-0.532592</td>\n",
       "      <td>-0.433229</td>\n",
       "      <td>-0.584964</td>\n",
       "      <td>-0.449991</td>\n",
       "      <td>-0.561713</td>\n",
       "      <td>-0.428461</td>\n",
       "      <td>-0.470543</td>\n",
       "      <td>-0.437172</td>\n",
       "      <td>0.958303</td>\n",
       "      <td>0.956238</td>\n",
       "      <td>1.000000</td>\n",
       "      <td>0.957184</td>\n",
       "      <td>0.958016</td>\n",
       "    </tr>\n",
       "    <tr>\n",
       "      <th>gk_positioning</th>\n",
       "      <td>0.022434</td>\n",
       "      <td>-0.018489</td>\n",
       "      <td>-0.652124</td>\n",
       "      <td>-0.511252</td>\n",
       "      <td>-0.728177</td>\n",
       "      <td>-0.733395</td>\n",
       "      <td>-0.525601</td>\n",
       "      <td>-0.701347</td>\n",
       "      <td>-0.582075</td>\n",
       "      <td>-0.539472</td>\n",
       "      <td>-0.607539</td>\n",
       "      <td>-0.776356</td>\n",
       "      <td>-0.450237</td>\n",
       "      <td>-0.469275</td>\n",
       "      <td>-0.404363</td>\n",
       "      <td>-0.015802</td>\n",
       "      <td>-0.417903</td>\n",
       "      <td>-0.654391</td>\n",
       "      <td>-0.074550</td>\n",
       "      <td>-0.605662</td>\n",
       "      <td>-0.083588</td>\n",
       "      <td>-0.581034</td>\n",
       "      <td>-0.537364</td>\n",
       "      <td>-0.440536</td>\n",
       "      <td>-0.590681</td>\n",
       "      <td>-0.454133</td>\n",
       "      <td>-0.566765</td>\n",
       "      <td>-0.434064</td>\n",
       "      <td>-0.476492</td>\n",
       "      <td>-0.443554</td>\n",
       "      <td>0.964219</td>\n",
       "      <td>0.963265</td>\n",
       "      <td>0.957184</td>\n",
       "      <td>1.000000</td>\n",
       "      <td>0.964064</td>\n",
       "    </tr>\n",
       "    <tr>\n",
       "      <th>gk_reflexes</th>\n",
       "      <td>0.022737</td>\n",
       "      <td>-0.014663</td>\n",
       "      <td>-0.652271</td>\n",
       "      <td>-0.512516</td>\n",
       "      <td>-0.730107</td>\n",
       "      <td>-0.732207</td>\n",
       "      <td>-0.526204</td>\n",
       "      <td>-0.700998</td>\n",
       "      <td>-0.581895</td>\n",
       "      <td>-0.538664</td>\n",
       "      <td>-0.606497</td>\n",
       "      <td>-0.776648</td>\n",
       "      <td>-0.447977</td>\n",
       "      <td>-0.466791</td>\n",
       "      <td>-0.403420</td>\n",
       "      <td>-0.013316</td>\n",
       "      <td>-0.417249</td>\n",
       "      <td>-0.654263</td>\n",
       "      <td>-0.072175</td>\n",
       "      <td>-0.608744</td>\n",
       "      <td>-0.083444</td>\n",
       "      <td>-0.580799</td>\n",
       "      <td>-0.540148</td>\n",
       "      <td>-0.440931</td>\n",
       "      <td>-0.591447</td>\n",
       "      <td>-0.453550</td>\n",
       "      <td>-0.567115</td>\n",
       "      <td>-0.434612</td>\n",
       "      <td>-0.477222</td>\n",
       "      <td>-0.444578</td>\n",
       "      <td>0.968934</td>\n",
       "      <td>0.962537</td>\n",
       "      <td>0.958016</td>\n",
       "      <td>0.964064</td>\n",
       "      <td>1.000000</td>\n",
       "    </tr>\n",
       "  </tbody>\n",
       "</table>\n",
       "</div>"
      ],
      "text/plain": [
       "                    overall_rating  potential  crossing  finishing  \\\n",
       "overall_rating            1.000000   0.815169  0.303223   0.274908   \n",
       "potential                 0.815169   1.000000  0.247830   0.248974   \n",
       "crossing                  0.303223   0.247830  1.000000   0.593963   \n",
       "finishing                 0.274908   0.248974  0.593963   1.000000   \n",
       "heading_accuracy          0.252176   0.177035  0.402127   0.395154   \n",
       "short_passing             0.419772   0.371640  0.800335   0.601295   \n",
       "volleys                   0.313860   0.255159  0.649425   0.867544   \n",
       "dribbling                 0.307596   0.324853  0.824943   0.785753   \n",
       "curve                     0.336166   0.275483  0.817445   0.703781   \n",
       "free_kick_accuracy        0.287206   0.204942  0.725098   0.650717   \n",
       "long_passing              0.397417   0.323804  0.739922   0.411534   \n",
       "ball_control              0.392634   0.373120  0.824011   0.734261   \n",
       "acceleration              0.180721   0.303472  0.573663   0.498779   \n",
       "sprint_speed              0.197240   0.314716  0.555242   0.479870   \n",
       "agility                   0.221595   0.270799  0.616565   0.551796   \n",
       "reactions                 0.784943   0.602209  0.318881   0.298940   \n",
       "balance                   0.105834   0.162061  0.578599   0.420551   \n",
       "shot_power                0.355663   0.277428  0.679563   0.744669   \n",
       "jumping                   0.239657   0.179468  0.058013   0.019729   \n",
       "stamina                   0.256736   0.247563  0.583253   0.370697   \n",
       "strength                  0.221295   0.070642 -0.131562  -0.079322   \n",
       "long_shots                0.334483   0.269833  0.723657   0.821133   \n",
       "aggression                0.278791   0.151848  0.380537   0.102705   \n",
       "interceptions             0.210287   0.126158  0.333269  -0.183599   \n",
       "positioning               0.294129   0.261627  0.724795   0.867648   \n",
       "vision                    0.416211   0.355896  0.689237   0.674311   \n",
       "penalties                 0.283888   0.215010  0.613708   0.791285   \n",
       "marking                   0.128515   0.071975  0.277638  -0.256576   \n",
       "standing_tackle           0.156498   0.100240  0.325882  -0.195563   \n",
       "sliding_tackle            0.138401   0.091379  0.314068  -0.234034   \n",
       "gk_diving                 0.020850  -0.014880 -0.649749  -0.512344   \n",
       "gk_handling               0.022104  -0.015739 -0.648544  -0.506354   \n",
       "gk_kicking                0.020087  -0.017193 -0.642366  -0.508883   \n",
       "gk_positioning            0.022434  -0.018489 -0.652124  -0.511252   \n",
       "gk_reflexes               0.022737  -0.014663 -0.652271  -0.512516   \n",
       "\n",
       "                    heading_accuracy  short_passing   volleys  dribbling  \\\n",
       "overall_rating              0.252176       0.419772  0.313860   0.307596   \n",
       "potential                   0.177035       0.371640  0.255159   0.324853   \n",
       "crossing                    0.402127       0.800335  0.649425   0.824943   \n",
       "finishing                   0.395154       0.601295  0.867544   0.785753   \n",
       "heading_accuracy            1.000000       0.582752  0.406554   0.449685   \n",
       "short_passing               0.582752       1.000000  0.646988   0.809328   \n",
       "volleys                     0.406554       0.646988  1.000000   0.783433   \n",
       "dribbling                   0.449685       0.809328  0.783433   1.000000   \n",
       "curve                       0.356584       0.750298  0.755219   0.819477   \n",
       "free_kick_accuracy          0.336954       0.707405  0.701934   0.717246   \n",
       "long_passing                0.459417       0.878844  0.487501   0.661587   \n",
       "ball_control                0.590197       0.904834  0.754191   0.919231   \n",
       "acceleration                0.154465       0.461401  0.468974   0.684154   \n",
       "sprint_speed                0.224164       0.450669  0.448811   0.656378   \n",
       "agility                     0.094363       0.519516  0.546800   0.714073   \n",
       "reactions                   0.213979       0.401707  0.344218   0.315114   \n",
       "balance                     0.057070       0.489665  0.439796   0.606803   \n",
       "shot_power                  0.579286       0.742217  0.764329   0.760702   \n",
       "jumping                     0.246014       0.081841  0.024822   0.061893   \n",
       "stamina                     0.486420       0.616686  0.387624   0.583860   \n",
       "strength                    0.456908       0.039360 -0.067564  -0.149976   \n",
       "long_shots                  0.427902       0.739207  0.833142   0.810139   \n",
       "aggression                  0.633510       0.514586  0.175303   0.287576   \n",
       "interceptions               0.469979       0.459534 -0.072904   0.137958   \n",
       "positioning                 0.420869       0.702256  0.833902   0.855514   \n",
       "vision                      0.289755       0.754800  0.699945   0.734897   \n",
       "penalties                   0.475088       0.653669  0.782083   0.720060   \n",
       "marking                     0.476038       0.385402 -0.154786   0.076048   \n",
       "standing_tackle             0.499815       0.450602 -0.090536   0.138615   \n",
       "sliding_tackle              0.460758       0.410710 -0.124350   0.114041   \n",
       "gk_diving                  -0.732331      -0.734776 -0.526012  -0.702771   \n",
       "gk_handling                -0.730078      -0.731538 -0.522330  -0.698667   \n",
       "gk_kicking                 -0.724482      -0.725775 -0.522018  -0.695255   \n",
       "gk_positioning             -0.728177      -0.733395 -0.525601  -0.701347   \n",
       "gk_reflexes                -0.730107      -0.732207 -0.526204  -0.700998   \n",
       "\n",
       "                       curve  free_kick_accuracy  long_passing  ball_control  \\\n",
       "overall_rating      0.336166            0.287206      0.397417      0.392634   \n",
       "potential           0.275483            0.204942      0.323804      0.373120   \n",
       "crossing            0.817445            0.725098      0.739922      0.824011   \n",
       "finishing           0.703781            0.650717      0.411534      0.734261   \n",
       "heading_accuracy    0.356584            0.336954      0.459417      0.590197   \n",
       "short_passing       0.750298            0.707405      0.878844      0.904834   \n",
       "volleys             0.755219            0.701934      0.487501      0.754191   \n",
       "dribbling           0.819477            0.717246      0.661587      0.919231   \n",
       "curve               1.000000            0.822288      0.669724      0.810221   \n",
       "free_kick_accuracy  0.822288            1.000000      0.662726      0.730712   \n",
       "long_passing        0.669724            0.662726      1.000000      0.764825   \n",
       "ball_control        0.810221            0.730712      0.764825      1.000000   \n",
       "acceleration        0.518911            0.385514      0.341875      0.587022   \n",
       "sprint_speed        0.484615            0.349604      0.326035      0.572565   \n",
       "agility             0.612280            0.497994      0.423549      0.628373   \n",
       "reactions           0.353354            0.314320      0.372199      0.379055   \n",
       "balance             0.542439            0.462758      0.432983      0.555352   \n",
       "shot_power          0.724824            0.718555      0.625236      0.799306   \n",
       "jumping             0.018005           -0.024139      0.065884      0.095343   \n",
       "stamina             0.480116            0.416637      0.553852      0.624656   \n",
       "strength           -0.150273           -0.095527      0.028461     -0.024198   \n",
       "long_shots          0.800624            0.795308      0.636999      0.804701   \n",
       "aggression          0.268382            0.284769      0.521826      0.435533   \n",
       "interceptions       0.163271            0.186058      0.570017      0.301904   \n",
       "positioning         0.770854            0.684736      0.524958      0.813920   \n",
       "vision              0.730376            0.708268      0.685575      0.760643   \n",
       "penalties           0.710626            0.710457      0.506890      0.734673   \n",
       "marking             0.083822            0.102783      0.493528      0.235448   \n",
       "standing_tackle     0.144056            0.165065      0.547912      0.299392   \n",
       "sliding_tackle      0.117202            0.127881      0.517581      0.263353   \n",
       "gk_diving          -0.580544           -0.540419     -0.608427     -0.779011   \n",
       "gk_handling        -0.577502           -0.537060     -0.606428     -0.774794   \n",
       "gk_kicking         -0.573558           -0.532840     -0.599684     -0.769724   \n",
       "gk_positioning     -0.582075           -0.539472     -0.607539     -0.776356   \n",
       "gk_reflexes        -0.581895           -0.538664     -0.606497     -0.776648   \n",
       "\n",
       "                    acceleration  sprint_speed   agility  reactions   balance  \\\n",
       "overall_rating          0.180721      0.197240  0.221595   0.784943  0.105834   \n",
       "potential               0.303472      0.314716  0.270799   0.602209  0.162061   \n",
       "crossing                0.573663      0.555242  0.616565   0.318881  0.578599   \n",
       "finishing               0.498779      0.479870  0.551796   0.298940  0.420551   \n",
       "heading_accuracy        0.154465      0.224164  0.094363   0.213979  0.057070   \n",
       "short_passing           0.461401      0.450669  0.519516   0.401707  0.489665   \n",
       "volleys                 0.468974      0.448811  0.546800   0.344218  0.439796   \n",
       "dribbling               0.684154      0.656378  0.714073   0.315114  0.606803   \n",
       "curve                   0.518911      0.484615  0.612280   0.353354  0.542439   \n",
       "free_kick_accuracy      0.385514      0.349604  0.497994   0.314320  0.462758   \n",
       "long_passing            0.341875      0.326035  0.423549   0.372199  0.432983   \n",
       "ball_control            0.587022      0.572565  0.628373   0.379055  0.555352   \n",
       "acceleration            1.000000      0.911198  0.801307   0.179563  0.653062   \n",
       "sprint_speed            0.911198      1.000000  0.734878   0.175979  0.570574   \n",
       "agility                 0.801307      0.734878  1.000000   0.261411  0.741786   \n",
       "reactions               0.179563      0.175979  0.261411   1.000000  0.160906   \n",
       "balance                 0.653062      0.570574  0.741786   0.160906  1.000000   \n",
       "shot_power              0.428288      0.440590  0.463988   0.344868  0.381808   \n",
       "jumping                 0.215653      0.233538  0.196211   0.222361  0.188755   \n",
       "stamina                 0.557126      0.576260  0.492068   0.255520  0.412735   \n",
       "strength               -0.305252     -0.203371 -0.405526   0.134767 -0.472144   \n",
       "long_shots              0.474596      0.449783  0.553266   0.357340  0.470224   \n",
       "aggression              0.091144      0.137807  0.059210   0.267582  0.111435   \n",
       "interceptions          -0.008026      0.021963 -0.026982   0.187480  0.087416   \n",
       "positioning             0.570570      0.550142  0.622173   0.348042  0.504139   \n",
       "vision                  0.416968      0.376485  0.549239   0.440673  0.497040   \n",
       "penalties               0.389022      0.374100  0.456380   0.303204  0.392201   \n",
       "marking                -0.031738      0.008488 -0.081575   0.089915  0.042390   \n",
       "standing_tackle        -0.002844      0.037034 -0.045770   0.123045  0.072994   \n",
       "sliding_tackle          0.011167      0.048570 -0.038726   0.106548  0.082836   \n",
       "gk_diving              -0.446897     -0.465232 -0.402240  -0.015912 -0.416954   \n",
       "gk_handling            -0.444345     -0.460871 -0.399089  -0.015374 -0.412729   \n",
       "gk_kicking             -0.441293     -0.459523 -0.397772  -0.015532 -0.410698   \n",
       "gk_positioning         -0.450237     -0.469275 -0.404363  -0.015802 -0.417903   \n",
       "gk_reflexes            -0.447977     -0.466791 -0.403420  -0.013316 -0.417249   \n",
       "\n",
       "                    shot_power   jumping   stamina  strength  long_shots  \\\n",
       "overall_rating        0.355663  0.239657  0.256736  0.221295    0.334483   \n",
       "potential             0.277428  0.179468  0.247563  0.070642    0.269833   \n",
       "crossing              0.679563  0.058013  0.583253 -0.131562    0.723657   \n",
       "finishing             0.744669  0.019729  0.370697 -0.079322    0.821133   \n",
       "heading_accuracy      0.579286  0.246014  0.486420  0.456908    0.427902   \n",
       "short_passing         0.742217  0.081841  0.616686  0.039360    0.739207   \n",
       "volleys               0.764329  0.024822  0.387624 -0.067564    0.833142   \n",
       "dribbling             0.760702  0.061893  0.583860 -0.149976    0.810139   \n",
       "curve                 0.724824  0.018005  0.480116 -0.150273    0.800624   \n",
       "free_kick_accuracy    0.718555 -0.024139  0.416637 -0.095527    0.795308   \n",
       "long_passing          0.625236  0.065884  0.553852  0.028461    0.636999   \n",
       "ball_control          0.799306  0.095343  0.624656 -0.024198    0.804701   \n",
       "acceleration          0.428288  0.215653  0.557126 -0.305252    0.474596   \n",
       "sprint_speed          0.440590  0.233538  0.576260 -0.203371    0.449783   \n",
       "agility               0.463988  0.196211  0.492068 -0.405526    0.553266   \n",
       "reactions             0.344868  0.222361  0.255520  0.134767    0.357340   \n",
       "balance               0.381808  0.188755  0.412735 -0.472144    0.470224   \n",
       "shot_power            1.000000  0.086413  0.523501  0.134472    0.855292   \n",
       "jumping               0.086413  1.000000  0.261558  0.163655    0.027682   \n",
       "stamina               0.523501  0.261558  1.000000  0.124360    0.482390   \n",
       "strength              0.134472  0.163655  0.124360  1.000000   -0.041583   \n",
       "long_shots            0.855292  0.027682  0.482390 -0.041583    1.000000   \n",
       "aggression            0.431683  0.248820  0.531349  0.446077    0.284968   \n",
       "interceptions         0.207793  0.177122  0.454561  0.299175    0.099085   \n",
       "positioning           0.756679  0.054410  0.496272 -0.099260    0.815924   \n",
       "vision                0.656937  0.005792  0.436585 -0.111851    0.743655   \n",
       "penalties             0.749041  0.031409  0.378730 -0.003654    0.771143   \n",
       "marking               0.139685  0.180803  0.421455  0.310705    0.010564   \n",
       "standing_tackle       0.200067  0.172294  0.461714  0.315137    0.078255   \n",
       "sliding_tackle        0.159942  0.191044  0.448043  0.281664    0.040826   \n",
       "gk_diving            -0.653969 -0.077603 -0.606716 -0.084117   -0.581690   \n",
       "gk_handling          -0.653000 -0.075319 -0.604721 -0.081526   -0.577355   \n",
       "gk_kicking           -0.649339 -0.075883 -0.598558 -0.084424   -0.575984   \n",
       "gk_positioning       -0.654391 -0.074550 -0.605662 -0.083588   -0.581034   \n",
       "gk_reflexes          -0.654263 -0.072175 -0.608744 -0.083444   -0.580799   \n",
       "\n",
       "                    aggression  interceptions  positioning    vision  \\\n",
       "overall_rating        0.278791       0.210287     0.294129  0.416211   \n",
       "potential             0.151848       0.126158     0.261627  0.355896   \n",
       "crossing              0.380537       0.333269     0.724795  0.689237   \n",
       "finishing             0.102705      -0.183599     0.867648  0.674311   \n",
       "heading_accuracy      0.633510       0.469979     0.420869  0.289755   \n",
       "short_passing         0.514586       0.459534     0.702256  0.754800   \n",
       "volleys               0.175303      -0.072904     0.833902  0.699945   \n",
       "dribbling             0.287576       0.137958     0.855514  0.734897   \n",
       "curve                 0.268382       0.163271     0.770854  0.730376   \n",
       "free_kick_accuracy    0.284769       0.186058     0.684736  0.708268   \n",
       "long_passing          0.521826       0.570017     0.524958  0.685575   \n",
       "ball_control          0.435533       0.301904     0.813920  0.760643   \n",
       "acceleration          0.091144      -0.008026     0.570570  0.416968   \n",
       "sprint_speed          0.137807       0.021963     0.550142  0.376485   \n",
       "agility               0.059210      -0.026982     0.622173  0.549239   \n",
       "reactions             0.267582       0.187480     0.348042  0.440673   \n",
       "balance               0.111435       0.087416     0.504139  0.497040   \n",
       "shot_power            0.431683       0.207793     0.756679  0.656937   \n",
       "jumping               0.248820       0.177122     0.054410  0.005792   \n",
       "stamina               0.531349       0.454561     0.496272  0.436585   \n",
       "strength              0.446077       0.299175    -0.099260 -0.111851   \n",
       "long_shots            0.284968       0.099085     0.815924  0.743655   \n",
       "aggression            1.000000       0.698937     0.216158  0.251376   \n",
       "interceptions         0.698937       1.000000    -0.016123  0.143660   \n",
       "positioning           0.216158      -0.016123     1.000000  0.731357   \n",
       "vision                0.251376       0.143660     0.731357  1.000000   \n",
       "penalties             0.241574       0.013943     0.761614  0.658233   \n",
       "marking               0.679982       0.914538    -0.099038  0.032774   \n",
       "standing_tackle       0.705624       0.927161    -0.031532  0.103163   \n",
       "sliding_tackle        0.682285       0.912976    -0.063061  0.063741   \n",
       "gk_diving            -0.539937      -0.441491    -0.591481 -0.456806   \n",
       "gk_handling          -0.539042      -0.444525    -0.587316 -0.453619   \n",
       "gk_kicking           -0.532592      -0.433229    -0.584964 -0.449991   \n",
       "gk_positioning       -0.537364      -0.440536    -0.590681 -0.454133   \n",
       "gk_reflexes          -0.540148      -0.440931    -0.591447 -0.453550   \n",
       "\n",
       "                    penalties   marking  standing_tackle  sliding_tackle  \\\n",
       "overall_rating       0.283888  0.128515         0.156498        0.138401   \n",
       "potential            0.215010  0.071975         0.100240        0.091379   \n",
       "crossing             0.613708  0.277638         0.325882        0.314068   \n",
       "finishing            0.791285 -0.256576        -0.195563       -0.234034   \n",
       "heading_accuracy     0.475088  0.476038         0.499815        0.460758   \n",
       "short_passing        0.653669  0.385402         0.450602        0.410710   \n",
       "volleys              0.782083 -0.154786        -0.090536       -0.124350   \n",
       "dribbling            0.720060  0.076048         0.138615        0.114041   \n",
       "curve                0.710626  0.083822         0.144056        0.117202   \n",
       "free_kick_accuracy   0.710457  0.102783         0.165065        0.127881   \n",
       "long_passing         0.506890  0.493528         0.547912        0.517581   \n",
       "ball_control         0.734673  0.235448         0.299392        0.263353   \n",
       "acceleration         0.389022 -0.031738        -0.002844        0.011167   \n",
       "sprint_speed         0.374100  0.008488         0.037034        0.048570   \n",
       "agility              0.456380 -0.081575        -0.045770       -0.038726   \n",
       "reactions            0.303204  0.089915         0.123045        0.106548   \n",
       "balance              0.392201  0.042390         0.072994        0.082836   \n",
       "shot_power           0.749041  0.139685         0.200067        0.159942   \n",
       "jumping              0.031409  0.180803         0.172294        0.191044   \n",
       "stamina              0.378730  0.421455         0.461714        0.448043   \n",
       "strength            -0.003654  0.310705         0.315137        0.281664   \n",
       "long_shots           0.771143  0.010564         0.078255        0.040826   \n",
       "aggression           0.241574  0.679982         0.705624        0.682285   \n",
       "interceptions        0.013943  0.914538         0.927161        0.912976   \n",
       "positioning          0.761614 -0.099038        -0.031532       -0.063061   \n",
       "vision               0.658233  0.032774         0.103163        0.063741   \n",
       "penalties            1.000000 -0.052145         0.005483       -0.036815   \n",
       "marking             -0.052145  1.000000         0.959618        0.959676   \n",
       "standing_tackle      0.005483  0.959618         1.000000        0.969387   \n",
       "sliding_tackle      -0.036815  0.959676         0.969387        1.000000   \n",
       "gk_diving           -0.567873 -0.435248        -0.477286       -0.444623   \n",
       "gk_handling         -0.562690 -0.439269        -0.480941       -0.447680   \n",
       "gk_kicking          -0.561713 -0.428461        -0.470543       -0.437172   \n",
       "gk_positioning      -0.566765 -0.434064        -0.476492       -0.443554   \n",
       "gk_reflexes         -0.567115 -0.434612        -0.477222       -0.444578   \n",
       "\n",
       "                    gk_diving  gk_handling  gk_kicking  gk_positioning  \\\n",
       "overall_rating       0.020850     0.022104    0.020087        0.022434   \n",
       "potential           -0.014880    -0.015739   -0.017193       -0.018489   \n",
       "crossing            -0.649749    -0.648544   -0.642366       -0.652124   \n",
       "finishing           -0.512344    -0.506354   -0.508883       -0.511252   \n",
       "heading_accuracy    -0.732331    -0.730078   -0.724482       -0.728177   \n",
       "short_passing       -0.734776    -0.731538   -0.725775       -0.733395   \n",
       "volleys             -0.526012    -0.522330   -0.522018       -0.525601   \n",
       "dribbling           -0.702771    -0.698667   -0.695255       -0.701347   \n",
       "curve               -0.580544    -0.577502   -0.573558       -0.582075   \n",
       "free_kick_accuracy  -0.540419    -0.537060   -0.532840       -0.539472   \n",
       "long_passing        -0.608427    -0.606428   -0.599684       -0.607539   \n",
       "ball_control        -0.779011    -0.774794   -0.769724       -0.776356   \n",
       "acceleration        -0.446897    -0.444345   -0.441293       -0.450237   \n",
       "sprint_speed        -0.465232    -0.460871   -0.459523       -0.469275   \n",
       "agility             -0.402240    -0.399089   -0.397772       -0.404363   \n",
       "reactions           -0.015912    -0.015374   -0.015532       -0.015802   \n",
       "balance             -0.416954    -0.412729   -0.410698       -0.417903   \n",
       "shot_power          -0.653969    -0.653000   -0.649339       -0.654391   \n",
       "jumping             -0.077603    -0.075319   -0.075883       -0.074550   \n",
       "stamina             -0.606716    -0.604721   -0.598558       -0.605662   \n",
       "strength            -0.084117    -0.081526   -0.084424       -0.083588   \n",
       "long_shots          -0.581690    -0.577355   -0.575984       -0.581034   \n",
       "aggression          -0.539937    -0.539042   -0.532592       -0.537364   \n",
       "interceptions       -0.441491    -0.444525   -0.433229       -0.440536   \n",
       "positioning         -0.591481    -0.587316   -0.584964       -0.590681   \n",
       "vision              -0.456806    -0.453619   -0.449991       -0.454133   \n",
       "penalties           -0.567873    -0.562690   -0.561713       -0.566765   \n",
       "marking             -0.435248    -0.439269   -0.428461       -0.434064   \n",
       "standing_tackle     -0.477286    -0.480941   -0.470543       -0.476492   \n",
       "sliding_tackle      -0.444623    -0.447680   -0.437172       -0.443554   \n",
       "gk_diving            1.000000     0.963532    0.958303        0.964219   \n",
       "gk_handling          0.963532     1.000000    0.956238        0.963265   \n",
       "gk_kicking           0.958303     0.956238    1.000000        0.957184   \n",
       "gk_positioning       0.964219     0.963265    0.957184        1.000000   \n",
       "gk_reflexes          0.968934     0.962537    0.958016        0.964064   \n",
       "\n",
       "                    gk_reflexes  \n",
       "overall_rating         0.022737  \n",
       "potential             -0.014663  \n",
       "crossing              -0.652271  \n",
       "finishing             -0.512516  \n",
       "heading_accuracy      -0.730107  \n",
       "short_passing         -0.732207  \n",
       "volleys               -0.526204  \n",
       "dribbling             -0.700998  \n",
       "curve                 -0.581895  \n",
       "free_kick_accuracy    -0.538664  \n",
       "long_passing          -0.606497  \n",
       "ball_control          -0.776648  \n",
       "acceleration          -0.447977  \n",
       "sprint_speed          -0.466791  \n",
       "agility               -0.403420  \n",
       "reactions             -0.013316  \n",
       "balance               -0.417249  \n",
       "shot_power            -0.654263  \n",
       "jumping               -0.072175  \n",
       "stamina               -0.608744  \n",
       "strength              -0.083444  \n",
       "long_shots            -0.580799  \n",
       "aggression            -0.540148  \n",
       "interceptions         -0.440931  \n",
       "positioning           -0.591447  \n",
       "vision                -0.453550  \n",
       "penalties             -0.567115  \n",
       "marking               -0.434612  \n",
       "standing_tackle       -0.477222  \n",
       "sliding_tackle        -0.444578  \n",
       "gk_diving              0.968934  \n",
       "gk_handling            0.962537  \n",
       "gk_kicking             0.958016  \n",
       "gk_positioning         0.964064  \n",
       "gk_reflexes            1.000000  "
      ]
     },
     "metadata": {},
     "output_type": "display_data"
    },
    {
     "data": {
      "text/plain": [
       "<AxesSubplot:>"
      ]
     },
     "execution_count": 49,
     "metadata": {},
     "output_type": "execute_result"
    },
    {
     "data": {
      "image/png": "[encoded data removed]",
      "text/plain": [
       "<Figure size 504x432 with 2 Axes>"
      ]
     },
     "metadata": {},
     "output_type": "display_data"
    }
   ],
   "source": [
    "# your code here\n",
    "correlation_matrix = pd.DataFrame.corr(DF_TRAIN)\n",
    "display(correlation_matrix)\n",
    "sns.heatmap(center=0, data=correlation_matrix, cmap='PiYG')"
   ]
  },
  {
   "cell_type": "markdown",
   "id": "344d51bf",
   "metadata": {},
   "source": [
    "* what can you say about selected feature set using this correlation matrix?"
   ]
  },
  {
   "cell_type": "code",
   "execution_count": null,
   "id": "60df1074",
   "metadata": {},
   "outputs": [],
   "source": []
  },
  {
   "cell_type": "markdown",
   "id": "2888588a",
   "metadata": {},
   "source": [
    "#### Let's build pairplots for features and target\n",
    "\n",
    "* `plot_kws` parameter accepts dictionary of keyword arguments \n",
    "  that are passed to bivariate plotting function (`sns.scatterplot` in this case)\n",
    "\n",
    "\n",
    "* we set size to 7 (using `s` parameter) to make points smaller and see patterns clearly.<br>\n",
    "  you can compare this to running with not `plot_kws` passed.\n",
    "  \n",
    "\n",
    "* `alpha` parameter also helps to see data distribution clearly\n",
    "\n",
    "\n",
    "* you can also experiment with `kind` parameter - refer to\n",
    "  [seaborn.pairplot](https://seaborn.pydata.org/generated/seaborn.pairplot.html)\n",
    "  documentation for possible values."
   ]
  },
  {
   "cell_type": "code",
   "execution_count": null,
   "id": "2105e05d",
   "metadata": {
    "ExecuteTime": {
     "end_time": "2022-02-05T15:50:41.364056Z",
     "start_time": "2022-02-05T15:50:32.950842Z"
    }
   },
   "outputs": [],
   "source": [
    "sns.pairplot(DF_TRAIN[cols], plot_kws={'s': 7, 'alpha': 0.5});"
   ]
  },
  {
   "cell_type": "markdown",
   "id": "47dd6b58",
   "metadata": {},
   "source": [
    "* what can you say about these scatterplots? is there anything we can use later?"
   ]
  },
  {
   "cell_type": "code",
   "execution_count": null,
   "id": "2fc3c18c",
   "metadata": {},
   "outputs": [],
   "source": []
  },
  {
   "cell_type": "code",
   "execution_count": null,
   "id": "aaf83720",
   "metadata": {},
   "outputs": [],
   "source": []
  },
  {
   "cell_type": "markdown",
   "id": "5685be15",
   "metadata": {},
   "source": [
    " ### Solve using `sklearn`"
   ]
  },
  {
   "cell_type": "code",
   "execution_count": null,
   "id": "656b9de6",
   "metadata": {
    "ExecuteTime": {
     "end_time": "2022-02-05T15:50:41.394842Z",
     "start_time": "2022-02-05T15:50:41.368053Z"
    }
   },
   "outputs": [],
   "source": [
    "model = LinearRegression(fit_intercept=True)\n",
    "model.fit(x_train, y_train);"
   ]
  },
  {
   "cell_type": "code",
   "execution_count": null,
   "id": "44ea3d97",
   "metadata": {},
   "outputs": [],
   "source": []
  },
  {
   "cell_type": "markdown",
   "id": "07f0354b",
   "metadata": {},
   "source": [
    "* explore fitted model parameters"
   ]
  },
  {
   "cell_type": "code",
   "execution_count": null,
   "id": "f515c8ed",
   "metadata": {
    "ExecuteTime": {
     "end_time": "2022-02-05T15:50:41.410999Z",
     "start_time": "2022-02-05T15:50:41.398344Z"
    }
   },
   "outputs": [],
   "source": [
    "model_intercept = model.intercept_\n",
    "model_coef = model.coef_\n",
    "print(f'model_intercept: {model_intercept}')\n",
    "print(f'model_coef: {model_coef}')"
   ]
  },
  {
   "cell_type": "markdown",
   "id": "0e3853fb",
   "metadata": {},
   "source": [
    "* how to interpret these model parameters?"
   ]
  },
  {
   "cell_type": "code",
   "execution_count": null,
   "id": "56a0c707",
   "metadata": {},
   "outputs": [],
   "source": []
  },
  {
   "cell_type": "markdown",
   "id": "6b5df951",
   "metadata": {},
   "source": [
    "* use fitted model to get predictions for test set"
   ]
  },
  {
   "cell_type": "code",
   "execution_count": null,
   "id": "7e86ab5b",
   "metadata": {
    "ExecuteTime": {
     "end_time": "2022-02-05T15:50:41.442057Z",
     "start_time": "2022-02-05T15:50:41.414459Z"
    }
   },
   "outputs": [],
   "source": [
    "model_preds = model.predict(x_test)\n",
    "model_preds"
   ]
  },
  {
   "cell_type": "code",
   "execution_count": null,
   "id": "4c048fc9",
   "metadata": {},
   "outputs": [],
   "source": []
  },
  {
   "cell_type": "markdown",
   "id": "782ef4c3",
   "metadata": {},
   "source": [
    "* explore model quality on test set."
   ]
  },
  {
   "cell_type": "code",
   "execution_count": null,
   "id": "c3ffdc83",
   "metadata": {
    "ExecuteTime": {
     "end_time": "2022-02-05T15:50:41.472214Z",
     "start_time": "2022-02-05T15:50:41.445054Z"
    }
   },
   "outputs": [],
   "source": [
    "print('model metrics on test set')\n",
    "metrics_test_2 = get_metrics(y_true=y_test, y_pred=model_preds)\n",
    "metrics_test_2"
   ]
  },
  {
   "cell_type": "code",
   "execution_count": null,
   "id": "393a5a65",
   "metadata": {},
   "outputs": [],
   "source": []
  },
  {
   "cell_type": "markdown",
   "id": "c8d275ee",
   "metadata": {},
   "source": [
    "* Let's compare `metrics_test_2` against `metrics_test_1`"
   ]
  },
  {
   "cell_type": "code",
   "execution_count": null,
   "id": "a740f433",
   "metadata": {
    "ExecuteTime": {
     "end_time": "2022-02-05T15:50:41.503739Z",
     "start_time": "2022-02-05T15:50:41.475213Z"
    }
   },
   "outputs": [],
   "source": [
    "# combine 2 series in 1 dataframe\n",
    "metrics_comparison = metrics_test_1.to_frame('LR_1v').join(metrics_test_2.rename('LR_mv')).T\n",
    "metrics_comparison"
   ]
  },
  {
   "cell_type": "code",
   "execution_count": null,
   "id": "51191845",
   "metadata": {
    "ExecuteTime": {
     "end_time": "2022-02-05T15:50:42.536930Z",
     "start_time": "2022-02-05T15:50:41.507803Z"
    }
   },
   "outputs": [],
   "source": [
    "fig, ax = plt.subplots(figsize=(14, 5))  # specify figure size\n",
    "metrics_comparison.plot(\n",
    "    kind='bar', layout=(1,4), subplots=True, \n",
    "    title='change in metrics', legend=False, ax=ax\n",
    ");\n",
    "fig.tight_layout();  # prettify subplots. read more in documentation if interested"
   ]
  },
  {
   "cell_type": "markdown",
   "id": "c58e9fea",
   "metadata": {},
   "source": [
    "* did our Linear regression model improve after we've added more features?"
   ]
  },
  {
   "cell_type": "code",
   "execution_count": null,
   "id": "da42688b",
   "metadata": {},
   "outputs": [],
   "source": []
  },
  {
   "cell_type": "code",
   "execution_count": null,
   "id": "1bc8bba6",
   "metadata": {},
   "outputs": [],
   "source": []
  },
  {
   "cell_type": "markdown",
   "id": "78cddb01",
   "metadata": {},
   "source": [
    "### Task 9. Implement Linear regression model with multiple variables yourself (5 points)\n",
    "\n",
    "Okay, we've fitted Linear regression model using `sklearn` library. Now let's do the math ourselves!"
   ]
  },
  {
   "cell_type": "markdown",
   "id": "48d65890",
   "metadata": {},
   "source": [
    "### Prerequisites\n",
    "\n",
    "For this task you will need to:\n",
    "* have basic understanding of Linear algebra (operations with vectors and matrices)\n",
    "* know how to perform matrix multiplication, transposition and inversion using `numpy` \n",
    "  (these functions can be found in NumPy documentation)\n",
    "* carefully read the theory below and refer to wiki / textbooks / other sources if required\n",
    "\n",
    "---\n",
    "\n",
    "### Theory and notation\n",
    "\n",
    "When we extend Linear regression model on case with $m$ variables we get the following formula:\n",
    "\n",
    "* $ \\hat{y}\n",
    "= 1 \\cdot w_0 + x_1 \\cdot w_1 + x_2 \\cdot w_2 + ... + x_m \\cdot w_m\n",
    "= \\sum_{i=0}^{m} x_i w_i\n",
    "$,\n",
    "\n",
    "where:\n",
    "* $x = (1, x_1, ..., x_m)$ is an _(m+1)_-element feature vector. \n",
    "    * $x_0 = 1$ is a special term introduced in the beginning of feature vector \n",
    "      to add intercept to Linear regression model\n",
    "    * $x_i, i=\\overline{1,m}$ is an _i_-th feature value.\n",
    "* $w = (w_0, w_1, ..., w_m)$ is an _(m+1)_-element parameter vector\n",
    "    * $w_0$ - the first value of parameter vector - is referred to as **intercept**\n",
    "* $\\hat{y}$ is a predicted value\n",
    "\n",
    "----\n",
    "\n",
    "The formula above is used to calculate predictions for 1 sample.\n",
    "i.e. we predict 1 scalar $\\hat{y}$ from 1 feature vector $x$.\n",
    "\n",
    "If we have a dataset of $n$ samples $(x, y)$ - we get a system of linear equations:\n",
    "\n",
    "$\n",
    "\\begin{cases}\n",
    " \\hat{y}^{(0)} = \\sum_{i=0}^{m} x_i^{(0)} w_i \\\\\n",
    " \\hat{y}^{(1)} = \\sum_{i=0}^{m} x_i^{(1)} w_i \\\\\n",
    " ... \\\\\\\n",
    " \\hat{y}^{(n-1)} = \\sum_{i=0}^{m} x_i^{(n-1)} w_i\n",
    "\\end{cases}\n",
    "$\n",
    "\n",
    "Such system can be rewritten in a succinct matrix form (a way that we write equations in Linear algebra):\n",
    "\n",
    "* $ \\hat{y} = X \\cdot w $\n",
    "\n",
    "And the task of minimizing Residual sum of squares (RSS) now looks:\n",
    "* $ RSS(w, x, y) = \\|y - \\hat{y}\\|_2^2 = \\|y - X \\cdot w \\|_2^2 \\rightarrow min $\n",
    "\n",
    "Here:\n",
    "* $y = (y^{(0)}, y^{(1)}, ..., y^{(n-1)})$ now denotes a **vector of target values** we want to predict<br>\n",
    "  $y^{(j)}$ is a target value for _j_-th sample in a dataset.\n",
    "* $\\hat{y} = (\\hat{y}^{(0)}, ..., \\hat{y}^{(n-1)})$ \n",
    "  now denotes a **vector of predictions** <br>\n",
    "  $\\hat{y}^{(j)}$ denotes a predicted value for _j_-th sample in a dataset\n",
    "* $X$ is a **feature matrix** of shape $n \\times (m+1)$. <br>\n",
    "  _n_ rows correspond to _n_ data samples and _m+1_ columns correspond to _m+1_ features that describe each sample.\n",
    "* $w = (w_0, w_1, ..., w_m)$ is still a **model parameter vector**\n",
    "* $X \\cdot w$ denotes a **matrix-by-vector** multiplication\n",
    "* $\\|\\cdot\\|_2$ denotes an $L_2$-norm and is basically a square root of sum of squares of vector elements:<br>\n",
    "  $\\|a\\|_2 = \\sqrt{a_0^2 + a_1^2 + ... + a_{n-1}^2}$ for an _n_-component vector _a_.\n",
    "  Thus, RSS means the same as before:<br>\n",
    "  $ RSS(w, x, y) = \\|y - \\hat{y}\\|_2^2 = \n",
    "  (y^{(0)} - \\hat{y}^{(0)})^2 + (y^{(1)} - \\hat{y}^{(1)})^2 + ... + (y^{(n-1)} - \\hat{y}^{(n-1)})^2 = \n",
    "  \\sum_{j=0}^{n-1} (y^{(j)} - \\hat{y}^{(j)})^2\n",
    "  $\n",
    "\n",
    "Note:\n",
    "* we now use **superscripts** $\\hat{y}^{(i)}$ instead of **subscripts** $\\hat{y}_i$ as before\n",
    "  to denote _i_-th sample in a dataset\n",
    "* it is done to be able to refer both to sample index (denoted by superscript)\n",
    "  and feature index (denoted by subscript) in a single equation. \n",
    "  \n",
    "  Thus:\n",
    "  * $x^{(j)} = (1, x^{(j)}_1, x^{(j)}_2, ..., x^{(j)}_{m})$  now denotes \n",
    "    _j_-th feature vector in a dataset with _m+1_ features\n",
    "  * $x_i^{(j)}$ denotes an _i_-th feature value of _j_-th feature vector\n",
    "  * $X = \n",
    "  \\begin{bmatrix}\n",
    "      1 & x^{(0)}_1 & x^{(0)}_2 & ... & x^{(0)}_{m} \\\\\n",
    "      1 & x^{(1)}_1 & x^{(1)}_2 & ... & x^{(1)}_{m} \\\\\n",
    "      ... \\\\\n",
    "      1 & x^{(n-1)}_1 & x^{(n-1)}_2 & ... & x^{(n-1)}_{m}\n",
    "    \\end{bmatrix}\n",
    "    $ is an $n \\times (m+1)$ feature matrix. <br><br>\n",
    "    $X$ can also be written as a column-vector of feature vectors:<br><br>\n",
    "    $ X = \\begin{bmatrix}x^{(0)} \\\\ x^{(1)} \\\\ ... \\\\ x^{(n-1)}\\end{bmatrix} $\n",
    "\n",
    "---\n",
    "\n",
    "### Fit \n",
    "\n",
    "**<TL;DR\\>** Enough notation! How can we fit this model?\n",
    "\n",
    "By minimizin Residual sum of squares (RSS) for a Linear regression equation in a matrix form\n",
    "we now get a **single** formula to find **all model parameters**!\n",
    "* $ w = (X^T X)^{-1} X^T y $\n",
    "\n",
    "Beautiful, isn't it? <br>\n",
    "Recall, how we got individual formulas for $w_0, w_1$ in case of Linear regression with 1 predictor.<br>\n",
    "Now we can find the whole parameter vector _w_ at once!\n",
    "\n",
    "In the formula above:\n",
    "* $X$ is an $n \\times (m+1)$ dimensional feature matrix\n",
    "\n",
    "\n",
    "* $X^T$ is a **transposed** feature matrix.<br>\n",
    "  Transposition is a mathematical operation of \"swapping\" matrix dimensions.<br>\n",
    "  So $X^T$ is an $(m+1) \\times n$ dimensional matrix  \n",
    "\n",
    "\n",
    "* $ (X^T X)^{-1} $ is the inverse matrix of $ X^T X $\n",
    "\n",
    "Notes:\n",
    "* Because of inversion operation performed on $X^T X$ matrix \n",
    "  there are difficulties in fitting Linear regression model in some cases.\n",
    "  \n",
    "  We will talk more on that later in the assignment.\n",
    "\n",
    "---\n",
    "    \n",
    "If you want to learn more you can refer to \n",
    "[Linear least squares](https://en.wikipedia.org/wiki/Linear_least_squares)\n",
    "wiki-page."
   ]
  },
  {
   "cell_type": "code",
   "execution_count": null,
   "id": "68ce76c6",
   "metadata": {},
   "outputs": [],
   "source": []
  },
  {
   "cell_type": "markdown",
   "id": "9ba996dc",
   "metadata": {},
   "source": [
    "### Implementation"
   ]
  },
  {
   "cell_type": "markdown",
   "id": "82abd2cd",
   "metadata": {},
   "source": [
    "* implement `LRMatrixForm` class and `add_ones_column` function.<br>\n",
    "  docstrings describe what each function/method should do - so read the docstrings.\n",
    "  \n",
    "  \n",
    "* [what is a docstring?](https://www.python.org/dev/peps/pep-0257/#what-is-a-docstring)\n",
    "\n",
    "\n",
    "Note:\n",
    "* `LRMatrixForm` class must support 2 modes: **with** fitting intercept parameter and **without**.<br>\n",
    "  The behavior is controlled by `fit_intercept` parameter passed to class constructor."
   ]
  },
  {
   "cell_type": "code",
   "execution_count": null,
   "id": "f775f913",
   "metadata": {
    "ExecuteTime": {
     "end_time": "2022-02-05T15:50:42.552627Z",
     "start_time": "2022-02-05T15:50:42.543552Z"
    }
   },
   "outputs": [],
   "source": [
    "from sklearn.exceptions import NotFittedError"
   ]
  },
  {
   "cell_type": "code",
   "execution_count": null,
   "id": "1a03a77c",
   "metadata": {
    "ExecuteTime": {
     "end_time": "2022-02-05T15:50:42.614912Z",
     "start_time": "2022-02-05T15:50:42.555773Z"
    }
   },
   "outputs": [],
   "source": [
    "def add_ones_column(x):\n",
    "    \"\"\" \n",
    "    Add column consisting of ones to the beginning of matrix `x`. \n",
    "    Used when fitting `LRMatrixForm` with `fit_intercept` param set to True.\n",
    "    \"\"\"\n",
    "    # HINTS: \n",
    "    # * create a vector that consists of ones: (1, 1, ..., 1)\n",
    "    # * then use either `np.column_stack` or `np.hstack` function to add this vector to a matrix\n",
    "    rows = np.shape(x)[0]\n",
    "    ones = np.ones((rows,1))\n",
    "    return np.hstack((ones,x))\n",
    "\n",
    "class LRMatrixForm:\n",
    "    \"\"\"\n",
    "    Class that encapsulates Linear regression model with multiplie variables.\n",
    "    Calculations are performed using matrix formula.\n",
    "    \n",
    "    Use `fit()` method to fit the model on data.\n",
    "    Use `predict()` method to calculate predictions when the model is fitted.\n",
    "    \"\"\"\n",
    "    def __init__(self, fit_intercept: bool = True):\n",
    "        \"\"\"\n",
    "        fit_intercept: \n",
    "        Whether to calculate the intercept for this model. \n",
    "        If set to False, no intercept will be used in calculations \n",
    "        (i.e. data is expected to be centered).\n",
    "        \"\"\"\n",
    "        self.fit_intercept = fit_intercept\n",
    "        self.w_ = None  # vector with all model parameters (intercept and weights)\n",
    "    \n",
    "    def fit(self, x_train: pd.DataFrame, y_train: pd.Series):\n",
    "        X = x_train.to_numpy()  # convert pd.DataFrame to numpy matrix\n",
    "        \n",
    "        if self.fit_intercept is True:\n",
    "            # when creating a model with intercept term we need to extend feature matrix\n",
    "            # with a column consisting of ones (1, 1, ..., 1).\n",
    "            X = add_ones_column(X)\n",
    "            \n",
    "        # # your code here to calculate model parameters:\n",
    "        XTX = np.dot(X.T,X)\n",
    "        XTX_1 = np.linalg.inv(XTX)\n",
    "        XTX_1_X = np.dot(XTX_1,X.T)\n",
    "        self.w_ = np.matmul(XTX_1_X,y_train)\n",
    "        \n",
    "    @property\n",
    "    def coef_(self):\n",
    "        \"\"\" Property that returns model parameters without the intercept term. \"\"\"\n",
    "        if self.w_ is None:\n",
    "            raise NotFittedError()\n",
    "        # your code here:\n",
    "        return self.w_[1:]\n",
    "    \n",
    "    @property\n",
    "    def intercept_(self):\n",
    "        \"\"\" Property that returns intercept term from model parameters. \"\"\"\n",
    "        if self.fit_intercept is not True:\n",
    "            return 0.0  # for compatibility with sklearn\n",
    "        if self.w_ is None:\n",
    "            raise NotFittedError()\n",
    "        return self.w_[0]\n",
    "    \n",
    "    def predict(self, x_test: pd.DataFrame):\n",
    "        \"\"\" Generate predictions using fitted model parameters. \"\"\"\n",
    "        if self.w_ is None:\n",
    "            raise NotFittedError()\n",
    "        \n",
    "        X = x_test.to_numpy()  # convert pd.DataFrame to numpy matrix\n",
    "        \n",
    "        if self.fit_intercept is True:\n",
    "            X = add_ones_column(X)\n",
    "            \n",
    "        # your code here to calculate predictions\n",
    "        return X.dot(self.w_)"
   ]
  },
  {
   "cell_type": "code",
   "execution_count": null,
   "id": "0a4efa65",
   "metadata": {},
   "outputs": [],
   "source": []
  },
  {
   "cell_type": "markdown",
   "id": "a1681d76",
   "metadata": {},
   "source": [
    "### Validate your implementation is identical to library version"
   ]
  },
  {
   "cell_type": "code",
   "execution_count": null,
   "id": "9bdcb929",
   "metadata": {
    "ExecuteTime": {
     "end_time": "2022-02-05T15:50:42.690735Z",
     "start_time": "2022-02-05T15:50:42.649536Z"
    }
   },
   "outputs": [],
   "source": [
    "lr_matrix_form = LRMatrixForm(fit_intercept=True)\n",
    "fit_and_evaluate(lr_matrix_form, x_train, y_train, x_test, y_test)"
   ]
  },
  {
   "cell_type": "code",
   "execution_count": null,
   "id": "cfb7471a",
   "metadata": {
    "ExecuteTime": {
     "end_time": "2022-02-05T15:50:42.706335Z",
     "start_time": "2022-02-05T15:50:42.694620Z"
    }
   },
   "outputs": [],
   "source": [
    "print(f'intercept: {lr_matrix_form.intercept_}')\n",
    "print(f'coef: {lr_matrix_form.coef_}')"
   ]
  },
  {
   "cell_type": "code",
   "execution_count": null,
   "id": "a48ca91b",
   "metadata": {
    "ExecuteTime": {
     "end_time": "2022-02-05T15:50:42.721626Z",
     "start_time": "2022-02-05T15:50:42.709232Z"
    }
   },
   "outputs": [],
   "source": [
    "assert np.allclose(model.predict(x_test), lr_matrix_form.predict(x_test))\n",
    "assert round(model.intercept_, 9) == round(lr_matrix_form.intercept_, 9)\n",
    "assert np.allclose(model.coef_, lr_matrix_form.coef_)"
   ]
  },
  {
   "cell_type": "code",
   "execution_count": null,
   "id": "f8cac9be",
   "metadata": {},
   "outputs": [],
   "source": []
  },
  {
   "cell_type": "markdown",
   "id": "51c30499",
   "metadata": {},
   "source": [
    "* let's take a look at difference between model predictions and target values:"
   ]
  },
  {
   "cell_type": "code",
   "execution_count": null,
   "id": "7bf9b608",
   "metadata": {
    "ExecuteTime": {
     "end_time": "2022-02-05T15:50:42.752837Z",
     "start_time": "2022-02-05T15:50:42.724242Z"
    }
   },
   "outputs": [],
   "source": [
    "(model.predict(x_test) - y_test).describe()"
   ]
  },
  {
   "cell_type": "code",
   "execution_count": null,
   "id": "560f1295",
   "metadata": {},
   "outputs": [],
   "source": []
  },
  {
   "cell_type": "code",
   "execution_count": null,
   "id": "eab69472",
   "metadata": {},
   "outputs": [],
   "source": []
  },
  {
   "cell_type": "markdown",
   "id": "6bc5a656",
   "metadata": {},
   "source": [
    "### Now let's compare `sklearn` model and yours with `fit_intercept=False`"
   ]
  },
  {
   "cell_type": "code",
   "execution_count": null,
   "id": "3d9f8ca7",
   "metadata": {
    "ExecuteTime": {
     "end_time": "2022-02-05T15:50:42.800245Z",
     "start_time": "2022-02-05T15:50:42.756837Z"
    }
   },
   "outputs": [],
   "source": [
    "model = LinearRegression(fit_intercept=False)\n",
    "fit_and_evaluate(model, x_train, y_train, x_test, y_test)"
   ]
  },
  {
   "cell_type": "code",
   "execution_count": null,
   "id": "dc0ecf04",
   "metadata": {
    "ExecuteTime": {
     "end_time": "2022-02-05T15:50:42.832215Z",
     "start_time": "2022-02-05T15:50:42.803391Z"
    }
   },
   "outputs": [],
   "source": [
    "lr_matrix_form = LRMatrixForm(fit_intercept=False)\n",
    "fit_and_evaluate(lr_matrix_form, x_train, y_train, x_test, y_test)"
   ]
  },
  {
   "cell_type": "markdown",
   "id": "62a89e61",
   "metadata": {},
   "source": [
    "* Compare the metrics on a test set of a model fitted **with** intercept parameter \n",
    "  vs model fitted **without** intercept.\n",
    "* Which model has a better performance? Can you explain why?"
   ]
  },
  {
   "cell_type": "code",
   "execution_count": null,
   "id": "3ec4462e",
   "metadata": {
    "ExecuteTime": {
     "end_time": "2022-02-05T15:50:42.847828Z",
     "start_time": "2022-02-05T15:50:42.835364Z"
    }
   },
   "outputs": [],
   "source": [
    "print(f'intercept: {lr_matrix_form.intercept_}')\n",
    "print(f'coef: {lr_matrix_form.coef_}')"
   ]
  },
  {
   "cell_type": "code",
   "execution_count": null,
   "id": "2e5c392d",
   "metadata": {
    "ExecuteTime": {
     "end_time": "2022-02-05T15:50:42.863579Z",
     "start_time": "2022-02-05T15:50:42.850971Z"
    }
   },
   "outputs": [],
   "source": [
    "assert np.allclose(model.predict(x_test), lr_matrix_form.predict(x_test))\n",
    "assert round(model.intercept_, 9) == round(lr_matrix_form.intercept_, 9)\n",
    "assert np.allclose(model.coef_[1:], lr_matrix_form.coef_)"
   ]
  },
  {
   "cell_type": "code",
   "execution_count": null,
   "id": "4e91c4cd",
   "metadata": {},
   "outputs": [],
   "source": []
  },
  {
   "cell_type": "markdown",
   "id": "4b916b4f",
   "metadata": {},
   "source": [
    "* let's take a look at difference between model predictions and target values again:"
   ]
  },
  {
   "cell_type": "code",
   "execution_count": null,
   "id": "75639630",
   "metadata": {
    "ExecuteTime": {
     "end_time": "2022-02-05T15:50:42.894776Z",
     "start_time": "2022-02-05T15:50:42.867045Z"
    }
   },
   "outputs": [],
   "source": [
    "(model.predict(x_test) - y_test).describe()"
   ]
  },
  {
   "cell_type": "markdown",
   "id": "56521d58",
   "metadata": {},
   "source": [
    "* compare this to the same statistics obtained with model fitted **with intercept**\n",
    "* notice how the _mean_ value of difference changed"
   ]
  },
  {
   "cell_type": "code",
   "execution_count": null,
   "id": "50918df6",
   "metadata": {},
   "outputs": [],
   "source": []
  },
  {
   "cell_type": "code",
   "execution_count": null,
   "id": "7cd55589",
   "metadata": {},
   "outputs": [],
   "source": []
  },
  {
   "cell_type": "markdown",
   "id": "38901be9",
   "metadata": {},
   "source": [
    "## Limitations of Linear regression\n",
    "\n",
    "Recall the formula to find Linear regression parameters in case of multiple variables:\n",
    "* $ w = (X^T X)^{-1} X^T y $\n",
    "\n",
    "As noted above, there might be difficulties with fitting Linear regression model\n",
    "because of inverting $X^T X$ matrix.\n",
    "\n",
    "Not every matrix can be inverted.\n",
    "\n",
    "An example of such case is when 2 or more features have strong linear relationship between them.<br>\n",
    "It means that one of variables can be **linearly predicted from the others with a substantial degree of accuracy**.<br>\n",
    "Such situation is named **collinearitry** (in case of 2 related variables)\n",
    "or **multicollinearity** (>2 related features).<br>\n",
    "\n",
    "Collinearity is associated with high value of correlation coefficient between 2 related features.\n",
    "\n",
    "You can refer to [multicollinearity](https://en.wikipedia.org/wiki/Multicollinearity) \n",
    "wiki page to read more.\n",
    "\n",
    "The intuition why multicollinearity is bad is that Linear Regression tries to capture \n",
    "a contribution of each individual feature to target independently of other features.\n",
    "This is not possible with the data that has collinear features, \n",
    "as change in one such variable is always associated with change in other/others.\n",
    "\n",
    "There are a whole bunch of really interesting thoughts that can help you \n",
    "to capture the intuition behind the concept of multicollinearity.<br>\n",
    "You can find some of them \n",
    "[here](https://stats.stackexchange.com/questions/1149/is-there-an-intuitive-explanation-why-multicollinearity-is-a-problem-in-linear-r)."
   ]
  },
  {
   "cell_type": "code",
   "execution_count": null,
   "id": "64079dbd",
   "metadata": {},
   "outputs": [],
   "source": []
  },
  {
   "cell_type": "markdown",
   "id": "e721083f",
   "metadata": {},
   "source": [
    "### Collinearity\n",
    "\n",
    "* Let's construct and add a new feature to our dataset that is going to be _collinear_ with another one:"
   ]
  },
  {
   "cell_type": "code",
   "execution_count": null,
   "id": "b20fecd4",
   "metadata": {
    "ExecuteTime": {
     "end_time": "2022-02-05T15:50:42.909912Z",
     "start_time": "2022-02-05T15:50:42.897985Z"
    }
   },
   "outputs": [],
   "source": [
    "# select features as usual\n",
    "target = 'dribbling'\n",
    "features = ['ball_control', 'short_passing', 'strength', 'sprint_speed']\n",
    "x_train, y_train, x_test, y_test = get_train_test_data(features, target)"
   ]
  },
  {
   "cell_type": "code",
   "execution_count": null,
   "id": "f493217b",
   "metadata": {
    "ExecuteTime": {
     "end_time": "2022-02-05T15:50:42.940438Z",
     "start_time": "2022-02-05T15:50:42.913437Z"
    }
   },
   "outputs": [],
   "source": [
    "def add_collinear_column(_df: pd.DataFrame, orig_col: str, new_col: str):    \n",
    "    \"\"\" \n",
    "    Construct new column as a linear transform of another one + tiny noise.\n",
    "    y = f(x) = a1 * x + a2 + noise.\n",
    "    \n",
    "    Alternatively, we could apply no linear transform at all (set a1=1, a2=0)\n",
    "    And only add some noise to existing column. Results would be the same.\n",
    "    \"\"\"\n",
    "    # linear transform\n",
    "    _df[new_col] = 2 * _df[orig_col] + 3\n",
    "    # add tiny normal noise\n",
    "    _df[new_col] += np.random.normal(loc=0, scale=0.0001, size=_df.shape[0])\n",
    "\n",
    "orig_col = 'sprint_speed'\n",
    "new_col = 'sprint_speed_2'\n",
    "add_collinear_column(x_train, orig_col, new_col)\n",
    "add_collinear_column(x_test, orig_col, new_col)\n",
    "features.append(new_col)"
   ]
  },
  {
   "cell_type": "code",
   "execution_count": null,
   "id": "852985d6",
   "metadata": {
    "ExecuteTime": {
     "end_time": "2022-02-05T15:50:42.956152Z",
     "start_time": "2022-02-05T15:50:42.943901Z"
    }
   },
   "outputs": [],
   "source": [
    "corr_coef = np.corrcoef(x_train[orig_col], x_train[new_col])[0, 1]\n",
    "print(f'correlation between {orig_col} and {new_col}: {corr_coef}')"
   ]
  },
  {
   "cell_type": "markdown",
   "id": "515bbaa6",
   "metadata": {},
   "source": [
    "* As expected, correlation coefficient between collinear features \n",
    "  (`sprint_speed` and `sprint_speed_2`) is close to 1.<br>\n",
    "  Thus they are highly correlated."
   ]
  },
  {
   "cell_type": "code",
   "execution_count": null,
   "id": "7e7cd781",
   "metadata": {
    "ExecuteTime": {
     "end_time": "2022-02-05T15:50:42.987635Z",
     "start_time": "2022-02-05T15:50:42.964593Z"
    }
   },
   "outputs": [],
   "source": [
    "# visualize sample of train data\n",
    "check = x_train.sample(5).copy()\n",
    "# add helper column to see how much noise was added\n",
    "check['sprint_speed_2_wo_noise'] = 2 * check['sprint_speed'] + 3\n",
    "check"
   ]
  },
  {
   "cell_type": "markdown",
   "id": "b6576093",
   "metadata": {},
   "source": [
    "### let's fit a Linear Regression model on this feature set:"
   ]
  },
  {
   "cell_type": "code",
   "execution_count": null,
   "id": "f57456c9",
   "metadata": {
    "ExecuteTime": {
     "end_time": "2022-02-05T15:50:43.034810Z",
     "start_time": "2022-02-05T15:50:42.990938Z"
    }
   },
   "outputs": [],
   "source": [
    "model = LinearRegression(fit_intercept=True)\n",
    "fit_and_evaluate(model, x_train, y_train, x_test, y_test)"
   ]
  },
  {
   "cell_type": "markdown",
   "id": "c56e433e",
   "metadata": {},
   "source": [
    "* Both train and test metrics look reasonable\n",
    "* Now let's explore model params:"
   ]
  },
  {
   "cell_type": "code",
   "execution_count": null,
   "id": "0df62784",
   "metadata": {
    "ExecuteTime": {
     "end_time": "2022-02-05T15:50:43.050054Z",
     "start_time": "2022-02-05T15:50:43.038334Z"
    }
   },
   "outputs": [],
   "source": [
    "print(f'intercept: {model.intercept_}')\n",
    "print(f'coef: {model.coef_.tolist()}')"
   ]
  },
  {
   "cell_type": "markdown",
   "id": "ad05ce9c",
   "metadata": {},
   "source": [
    "* Weights that correspond to `sprint_speed` and `sprint_speed_2` columns should have gone insanely high!\n",
    "\n",
    "\n",
    "* That is not ok. Large weights and weights instability are the sign of \n",
    "    [**overfitting**](https://en.wikipedia.org/wiki/Overfitting).\n",
    "\n",
    "    According to the definition, overfitting is:<br>\n",
    "    \"_the production of an analysis that corresponds too closely \n",
    "    or exactly to a particular set of data,<br>\n",
    "    and may therefore fail to fit additional data \n",
    "    or predict future observations reliably_\".\n",
    "    \n",
    "    \n",
    "* But what does that mean? Let's try to generate predictions with our model."
   ]
  },
  {
   "cell_type": "markdown",
   "id": "27f2c1a2",
   "metadata": {},
   "source": [
    "### generate predictions using our fitted model"
   ]
  },
  {
   "cell_type": "code",
   "execution_count": null,
   "id": "ce37f029",
   "metadata": {
    "ExecuteTime": {
     "end_time": "2022-02-05T15:50:43.080517Z",
     "start_time": "2022-02-05T15:50:43.052815Z"
    }
   },
   "outputs": [],
   "source": [
    "check = x_test.head(2).copy()\n",
    "check[target] = y_test.head(2)\n",
    "check['preds'] = model.predict(check[features])\n",
    "check"
   ]
  },
  {
   "cell_type": "code",
   "execution_count": null,
   "id": "f76ad35f",
   "metadata": {
    "ExecuteTime": {
     "end_time": "2022-02-05T15:50:43.111095Z",
     "start_time": "2022-02-05T15:50:43.084033Z"
    }
   },
   "outputs": [],
   "source": [
    "get_metrics(y_true=check[target], y_pred=check['preds'])"
   ]
  },
  {
   "cell_type": "markdown",
   "id": "d1f81390",
   "metadata": {
    "ExecuteTime": {
     "end_time": "2022-02-04T12:22:55.993894Z",
     "start_time": "2022-02-04T12:22:55.983089Z"
    }
   },
   "source": [
    "* predictions look good, right? "
   ]
  },
  {
   "cell_type": "markdown",
   "id": "e9edbe54",
   "metadata": {
    "ExecuteTime": {
     "end_time": "2022-02-04T12:22:55.993894Z",
     "start_time": "2022-02-04T12:22:55.983089Z"
    }
   },
   "source": [
    "### but what if we change `sprint_speed` values a bit? let's add some small `delta`"
   ]
  },
  {
   "cell_type": "code",
   "execution_count": null,
   "id": "a00e6e92",
   "metadata": {
    "ExecuteTime": {
     "end_time": "2022-02-05T15:50:43.157969Z",
     "start_time": "2022-02-05T15:50:43.114463Z"
    }
   },
   "outputs": [],
   "source": [
    "delta = 1  # some small value\n",
    "check['sprint_speed'] += delta\n",
    "check['preds_2'] = model.predict(check[features])\n",
    "check"
   ]
  },
  {
   "cell_type": "code",
   "execution_count": null,
   "id": "16d52262",
   "metadata": {
    "ExecuteTime": {
     "end_time": "2022-02-05T15:50:43.190117Z",
     "start_time": "2022-02-05T15:50:43.161045Z"
    }
   },
   "outputs": [],
   "source": [
    "get_metrics(y_true=check[target], y_pred=check['preds_2'])"
   ]
  },
  {
   "cell_type": "markdown",
   "id": "5157da8e",
   "metadata": {},
   "source": [
    "* Wow, new predictions doesn't look even close to the target!<br>\n",
    "  Our model doesn't look like a good model anymore.\n",
    "  \n",
    "\n",
    "* That is exactly what overfitting is. <br>\n",
    "  **We fail to obtain reasonable predictions when we apply our model on new data**."
   ]
  },
  {
   "cell_type": "markdown",
   "id": "f4845200",
   "metadata": {},
   "source": [
    "### One might notice that we have changed only 1 of 2 collinear features\n",
    "* Indeed, giant model weights that correspond to these 2 features, should cancel each one out<br>\n",
    "  if relation between feature values stays the same.  "
   ]
  },
  {
   "cell_type": "markdown",
   "id": "5e896312",
   "metadata": {},
   "source": [
    "* Let's check this out.<br>\n",
    "  We have performed following transform:<br>\n",
    "  `sprint_speed_changed = sprint_speed + delta`<br>\n",
    "  \n",
    "\n",
    "* How should we change `sprint_speed_2` to match the same data distribution from train data?<br>\n",
    "  \n",
    "  Let's calculate (we will ignore the noise added):  \n",
    "  `sprint_speed_2_changed - sprint_speed_2 = f(sprint_speed_changed) - f(sprint_speed) =`<br>\n",
    "  `= a1 * sprint_speed_changed + a2 - (a1 * sprint_speed + a2) = a1 * delta`"
   ]
  },
  {
   "cell_type": "code",
   "execution_count": null,
   "id": "2b518c01",
   "metadata": {
    "ExecuteTime": {
     "end_time": "2022-02-05T15:50:43.236719Z",
     "start_time": "2022-02-05T15:50:43.193445Z"
    }
   },
   "outputs": [],
   "source": [
    "# here we change the second of collinear features \n",
    "# using the same coefficient \n",
    "# that was used in linear transform in `add_collinear_column()` function.\n",
    "# we don't need to add intercept coefficient as it cancels it out (you can do the math yourself).\n",
    "check['sprint_speed_2'] += 2 * delta\n",
    "check['preds_3'] = model.predict(check[features])\n",
    "check"
   ]
  },
  {
   "cell_type": "markdown",
   "id": "111fb101",
   "metadata": {
    "ExecuteTime": {
     "end_time": "2022-02-05T09:31:30.281700Z",
     "start_time": "2022-02-05T09:31:30.265131Z"
    }
   },
   "source": [
    "* In the last example we see that new predictions (`preds_3`) now look similar to the first ones <br>\n",
    "  (`preds` - calculated before changing `sprint_speed` value)\n",
    "\n",
    "\n",
    "* So, if values of collinear features change accordingly - we are safe, right? <br>\n",
    "  How do your think, can we always rely on this assumtion?"
   ]
  },
  {
   "cell_type": "code",
   "execution_count": null,
   "id": "5d69e75e",
   "metadata": {},
   "outputs": [],
   "source": []
  },
  {
   "cell_type": "markdown",
   "id": "668e5765",
   "metadata": {},
   "source": [
    "### What just happened\n",
    "\n",
    "* The answer to the question above is: **no, we can't**.\n",
    "  \n",
    "  \n",
    "* Yes, we have checked that if collinear features values are changed accordingly \n",
    "  (i.e. their **initial relation is preserved**), <br>\n",
    "  model predictions look reasonable and accurate.\n",
    "  \n",
    "  But this will not always be the case on the real data.\n",
    "  \n",
    "  We can't be sure that the data \n",
    "  that we apply our fitted model on (`x_test`, for example)<br>\n",
    "  preserves **exactly the same data distribution** as the data that model was trained on (`x_train`).\n",
    "  \n",
    "  \n",
    "\n",
    "**Why this happened?**\n",
    "\n",
    "* When feature matrix contains collinear or multicollinear features (the problem of **multicollinearity**),\n",
    "  inversion of such a matrix is numerically unstable.<br>\n",
    "  This leads to large values and imprecise estimates of model parameters.\n",
    "\n",
    "**How to detect multicollinearity**\n",
    "* You should monitor your model weights. For example using $L_2$ norm:<br>\n",
    "  $ L_2(w) = \\|w\\|_2 = \\sqrt{w_1^2 + w_2^2 + ... + w_n^2} = \\sqrt{\\sum_{i=1}^{n} w_i^2} $<br>\n",
    "  If any of model weights are huge - $L_2$ norm will also have large value.\n",
    "  \n",
    "  \n",
    "* Monitor model performance on validation data. \n",
    "  If the metrics are poor and prediction look huge,<br>\n",
    "  you should check if collinear features are present in train data.\n",
    "\n",
    "**How to fix the issue**\n",
    "\n",
    "* For each set of collinear features, keep only 1 of them and remove the rest.<br>\n",
    "  The best regression models are those in which the predictor variables each correlate highly \n",
    "  with the target variable,<br>\n",
    "  but correlate at most only minimally with each other.\n",
    "  \n",
    "\n",
    "* Combine collinear features into new ones\n",
    "\n",
    "  \n",
    "* Use regularization (will be covered later in the course)."
   ]
  },
  {
   "cell_type": "code",
   "execution_count": null,
   "id": "d7e48904",
   "metadata": {},
   "outputs": [],
   "source": []
  },
  {
   "cell_type": "markdown",
   "id": "446877ee",
   "metadata": {},
   "source": [
    "### Task 10. Implement function to calculate $L_2$-norm. (1 point)\n",
    "* Use formula above to implement $L_2$ norm"
   ]
  },
  {
   "cell_type": "code",
   "execution_count": 61,
   "id": "32710cd3",
   "metadata": {
    "ExecuteTime": {
     "end_time": "2022-02-05T15:50:43.252641Z",
     "start_time": "2022-02-05T15:50:43.239359Z"
    }
   },
   "outputs": [],
   "source": [
    "def l2_norm(arr: Iterable):\n",
    "    # your code here\n",
    "    sum = 0\n",
    "    for x in arr:\n",
    "        sum += x**2\n",
    "    return np.sqrt(sum)"
   ]
  },
  {
   "cell_type": "code",
   "execution_count": null,
   "id": "90b43edb",
   "metadata": {},
   "outputs": [],
   "source": []
  },
  {
   "cell_type": "markdown",
   "id": "e313206b",
   "metadata": {},
   "source": [
    "### Calculate $L_2$-norm value for current model\n",
    "* you should get high value that represents large values of some model parameters"
   ]
  },
  {
   "cell_type": "code",
   "execution_count": null,
   "id": "43a1844c",
   "metadata": {
    "ExecuteTime": {
     "end_time": "2022-02-05T15:50:43.283426Z",
     "start_time": "2022-02-05T15:50:43.271895Z"
    }
   },
   "outputs": [],
   "source": [
    "l2_norm(model.coef_)"
   ]
  },
  {
   "cell_type": "code",
   "execution_count": null,
   "id": "3c2c313a",
   "metadata": {},
   "outputs": [],
   "source": []
  },
  {
   "cell_type": "markdown",
   "id": "31e6829b",
   "metadata": {},
   "source": [
    "### Multicollinearity\n",
    "  \n",
    "* It's important to notice that in case of multicollinearity,\n",
    "  correlation coefficient between each pair of related variables\n",
    "  could be **not so high**.\n",
    "  \n",
    "  So **it may be hard to find multicollinear features in your data**.\n",
    "  \n",
    "\n",
    "* Let's visualize it in practice.\n",
    "\n",
    "  We will build a new feature that has a strong linear relationship with 2 other features:\n",
    "  $x_1 = a_0 + a_2 x_2 + a_3 x_3 + noise$\n",
    "\n",
    "  We want to show that Linear regression model will still suffer from multicollinearity,<br>\n",
    "  but correlation coefficients betweent each pair of multicollinear features will be **less close to 1**\n",
    "  than it was in case of collinearity."
   ]
  },
  {
   "cell_type": "code",
   "execution_count": null,
   "id": "4ff091a8",
   "metadata": {
    "ExecuteTime": {
     "end_time": "2022-02-05T15:50:43.345601Z",
     "start_time": "2022-02-05T15:50:43.287206Z"
    }
   },
   "outputs": [],
   "source": [
    "target = 'dribbling'\n",
    "features = ['ball_control', 'short_passing', 'strength', 'sprint_speed']\n",
    "x_train, y_train, x_test, y_test = get_train_test_data(features, target)\n",
    "\n",
    "def add_collinear_column(_df: pd.DataFrame, col1: str, col2: str, new_col: str):    \n",
    "    _df[new_col] = _df[col1] + _df[col2] + 5\n",
    "    _df[new_col] += np.random.normal(loc=0, scale=0.0001, size=_df.shape[0])\n",
    "\n",
    "add_collinear_column(x_train, col1='sprint_speed', col2='strength', new_col='foo')\n",
    "add_collinear_column(x_test, col1='sprint_speed', col2='strength', new_col='foo')\n",
    "features.append(new_col)\n",
    "\n",
    "model = LinearRegression(fit_intercept=True)\n",
    "m = fit_and_evaluate(model, x_train, y_train, x_test, y_test)\n",
    "display(m)\n",
    "print(f'intercept: {model.intercept_}')\n",
    "print(f'coef: {model.coef_.tolist()}')"
   ]
  },
  {
   "cell_type": "markdown",
   "id": "7a3529a8",
   "metadata": {},
   "source": [
    "* As before, model parameters for multicollinear features should be large\n",
    "\n",
    "* Let's calculate $L_2$-norm value - it should also be large"
   ]
  },
  {
   "cell_type": "code",
   "execution_count": null,
   "id": "cc949bfc",
   "metadata": {
    "ExecuteTime": {
     "end_time": "2022-02-05T15:50:43.361054Z",
     "start_time": "2022-02-05T15:50:43.348627Z"
    }
   },
   "outputs": [],
   "source": [
    "l2_norm(model.coef_)"
   ]
  },
  {
   "cell_type": "code",
   "execution_count": null,
   "id": "03fc5b9a",
   "metadata": {},
   "outputs": [],
   "source": []
  },
  {
   "cell_type": "markdown",
   "id": "a8d76f80",
   "metadata": {},
   "source": [
    "#### Task 11. Visualize correlation matrix for `x_train`  (1 point)\n",
    "* Build annotated heatmap (use `annot` param to add values to plot, select diverging `cmap` and center it at 0)\n",
    "* You should see that `foo` feature is correlated with ones it was created from,<br>\n",
    "  but each of these correlation coefficients **is not so close to 1**"
   ]
  },
  {
   "cell_type": "code",
   "execution_count": 56,
   "id": "0357d435",
   "metadata": {
    "ExecuteTime": {
     "end_time": "2022-02-05T15:50:43.376553Z",
     "start_time": "2022-02-05T15:50:43.364300Z"
    }
   },
   "outputs": [
    {
     "data": {
      "text/html": [
       "<div>\n",
       "<style scoped>\n",
       "    .dataframe tbody tr th:only-of-type {\n",
       "        vertical-align: middle;\n",
       "    }\n",
       "\n",
       "    .dataframe tbody tr th {\n",
       "        vertical-align: top;\n",
       "    }\n",
       "\n",
       "    .dataframe thead th {\n",
       "        text-align: right;\n",
       "    }\n",
       "</style>\n",
       "<table border=\"1\" class=\"dataframe\">\n",
       "  <thead>\n",
       "    <tr style=\"text-align: right;\">\n",
       "      <th></th>\n",
       "      <th>ball_control</th>\n",
       "      <th>short_passing</th>\n",
       "      <th>strength</th>\n",
       "      <th>sprint_speed</th>\n",
       "    </tr>\n",
       "  </thead>\n",
       "  <tbody>\n",
       "    <tr>\n",
       "      <th>ball_control</th>\n",
       "      <td>1.000000</td>\n",
       "      <td>0.904834</td>\n",
       "      <td>-0.024198</td>\n",
       "      <td>0.572565</td>\n",
       "    </tr>\n",
       "    <tr>\n",
       "      <th>short_passing</th>\n",
       "      <td>0.904834</td>\n",
       "      <td>1.000000</td>\n",
       "      <td>0.039360</td>\n",
       "      <td>0.450669</td>\n",
       "    </tr>\n",
       "    <tr>\n",
       "      <th>strength</th>\n",
       "      <td>-0.024198</td>\n",
       "      <td>0.039360</td>\n",
       "      <td>1.000000</td>\n",
       "      <td>-0.203371</td>\n",
       "    </tr>\n",
       "    <tr>\n",
       "      <th>sprint_speed</th>\n",
       "      <td>0.572565</td>\n",
       "      <td>0.450669</td>\n",
       "      <td>-0.203371</td>\n",
       "      <td>1.000000</td>\n",
       "    </tr>\n",
       "  </tbody>\n",
       "</table>\n",
       "</div>"
      ],
      "text/plain": [
       "               ball_control  short_passing  strength  sprint_speed\n",
       "ball_control       1.000000       0.904834 -0.024198      0.572565\n",
       "short_passing      0.904834       1.000000  0.039360      0.450669\n",
       "strength          -0.024198       0.039360  1.000000     -0.203371\n",
       "sprint_speed       0.572565       0.450669 -0.203371      1.000000"
      ]
     },
     "metadata": {},
     "output_type": "display_data"
    },
    {
     "data": {
      "image/png": "[encoded data removed]",
      "text/plain": [
       "<Figure size 504x432 with 2 Axes>"
      ]
     },
     "metadata": {},
     "output_type": "display_data"
    }
   ],
   "source": [
    "# your code here\n",
    "correlation_matrix = pd.DataFrame.corr(x_train)\n",
    "display(correlation_matrix)\n",
    "ax = sns.heatmap(center=0, data=correlation_matrix, cmap='PiYG', annot=True)"
   ]
  },
  {
   "cell_type": "code",
   "execution_count": null,
   "id": "d4312104",
   "metadata": {},
   "outputs": [],
   "source": []
  },
  {
   "cell_type": "code",
   "execution_count": null,
   "id": "cf7efe14",
   "metadata": {},
   "outputs": [],
   "source": []
  },
  {
   "cell_type": "markdown",
   "id": "dd16a084",
   "metadata": {},
   "source": [
    "### Regularization\n",
    "\n",
    "* The concept of regularization (that was mentioned above) is simple.\n",
    "\n",
    "  We modify Loss function (RSS in case of Linear regression) in such a way<br>\n",
    "  to penalize for large values of model parameters.\n",
    "  \n",
    "  \n",
    "* $L_2$ regularization, also named as \n",
    "  [Tikhonov regularization](https://en.wikipedia.org/wiki/Tikhonov_regularization), \n",
    "  adds $L_2$ term to loss function:\n",
    "\n",
    "  $L(w,x,y) = RSS(w,y) + \\alpha L_2(w) = \\|y - \\hat{y}\\|_2^2 + \\alpha \\|w\\|_2^2 \n",
    "  = \\|y - X \\cdot w \\|_2^2 + \\alpha \\|w\\|_2^2$\n",
    "  \n",
    "  parameter $ \\alpha \\ge 0 $ controls the ammount of regularization applied\n",
    "  \n",
    "\n",
    "* Linear regression implemented with $L_2$ regularization is named a **Ridge regression**.\n",
    "\n",
    "\n",
    "* Ridge regression is implemented in `Ridge` class in `sklearn` library\n",
    "\n",
    "---\n",
    "\n",
    "Let's see how applying regularization changes our model."
   ]
  },
  {
   "cell_type": "code",
   "execution_count": 57,
   "id": "6b822aca",
   "metadata": {
    "ExecuteTime": {
     "end_time": "2022-02-05T15:50:43.937621Z",
     "start_time": "2022-02-05T15:50:43.926206Z"
    }
   },
   "outputs": [],
   "source": [
    "from sklearn.linear_model import Ridge"
   ]
  },
  {
   "cell_type": "markdown",
   "id": "54959d90",
   "metadata": {},
   "source": [
    "* at first fit `Ridge` without any regularization to ensure we get similar results \n",
    "  to using `LinearRegression`"
   ]
  },
  {
   "cell_type": "code",
   "execution_count": 58,
   "id": "80b5faea",
   "metadata": {
    "ExecuteTime": {
     "end_time": "2022-02-05T15:50:44.001329Z",
     "start_time": "2022-02-05T15:50:43.942367Z"
    }
   },
   "outputs": [
    {
     "data": {
      "text/html": [
       "<div>\n",
       "<style scoped>\n",
       "    .dataframe tbody tr th:only-of-type {\n",
       "        vertical-align: middle;\n",
       "    }\n",
       "\n",
       "    .dataframe tbody tr th {\n",
       "        vertical-align: top;\n",
       "    }\n",
       "\n",
       "    .dataframe thead th {\n",
       "        text-align: right;\n",
       "    }\n",
       "</style>\n",
       "<table border=\"1\" class=\"dataframe\">\n",
       "  <thead>\n",
       "    <tr style=\"text-align: right;\">\n",
       "      <th></th>\n",
       "      <th>mse</th>\n",
       "      <th>mae</th>\n",
       "      <th>mape</th>\n",
       "      <th>r2</th>\n",
       "    </tr>\n",
       "  </thead>\n",
       "  <tbody>\n",
       "    <tr>\n",
       "      <th>train</th>\n",
       "      <td>37.752637</td>\n",
       "      <td>4.424324</td>\n",
       "      <td>0.109948</td>\n",
       "      <td>0.879081</td>\n",
       "    </tr>\n",
       "    <tr>\n",
       "      <th>test</th>\n",
       "      <td>38.195978</td>\n",
       "      <td>4.459449</td>\n",
       "      <td>0.112409</td>\n",
       "      <td>0.887414</td>\n",
       "    </tr>\n",
       "  </tbody>\n",
       "</table>\n",
       "</div>"
      ],
      "text/plain": [
       "             mse       mae      mape        r2\n",
       "train  37.752637  4.424324  0.109948  0.879081\n",
       "test   38.195978  4.459449  0.112409  0.887414"
      ]
     },
     "execution_count": 58,
     "metadata": {},
     "output_type": "execute_result"
    }
   ],
   "source": [
    "# `solver` parameters determines the algorithm used to solve regression task.\n",
    "# we fix it to be `svd` to achieve desired results.\n",
    "model_r = Ridge(alpha=0, fit_intercept=True, solver='svd')\n",
    "fit_and_evaluate(model_r, x_train, y_train, x_test, y_test)"
   ]
  },
  {
   "cell_type": "code",
   "execution_count": 62,
   "id": "752bc47e",
   "metadata": {
    "ExecuteTime": {
     "end_time": "2022-02-05T15:50:44.016893Z",
     "start_time": "2022-02-05T15:50:44.004264Z"
    }
   },
   "outputs": [
    {
     "name": "stdout",
     "output_type": "stream",
     "text": [
      "intercept: -4.415094834106142\n",
      "coef: [0.982286258682531, -0.03941820554953662, -0.14430049588718558, 0.20774540691241938]\n",
      "l2 norm: 1.015096486119307\n"
     ]
    }
   ],
   "source": [
    "print(f'intercept: {model_r.intercept_}')\n",
    "print(f'coef: {model_r.coef_.tolist()}')\n",
    "print(f'l2 norm: {l2_norm(model_r.coef_)}')"
   ]
  },
  {
   "cell_type": "markdown",
   "id": "a78c49ee",
   "metadata": {},
   "source": [
    "* some model parameters should be large, as well as the $L_2$-norm value\n",
    "* now, let's add some regularization"
   ]
  },
  {
   "cell_type": "code",
   "execution_count": 63,
   "id": "4cb06351",
   "metadata": {
    "ExecuteTime": {
     "end_time": "2022-02-05T15:50:44.063416Z",
     "start_time": "2022-02-05T15:50:44.020333Z"
    }
   },
   "outputs": [
    {
     "data": {
      "text/html": [
       "<div>\n",
       "<style scoped>\n",
       "    .dataframe tbody tr th:only-of-type {\n",
       "        vertical-align: middle;\n",
       "    }\n",
       "\n",
       "    .dataframe tbody tr th {\n",
       "        vertical-align: top;\n",
       "    }\n",
       "\n",
       "    .dataframe thead th {\n",
       "        text-align: right;\n",
       "    }\n",
       "</style>\n",
       "<table border=\"1\" class=\"dataframe\">\n",
       "  <thead>\n",
       "    <tr style=\"text-align: right;\">\n",
       "      <th></th>\n",
       "      <th>mse</th>\n",
       "      <th>mae</th>\n",
       "      <th>mape</th>\n",
       "      <th>r2</th>\n",
       "    </tr>\n",
       "  </thead>\n",
       "  <tbody>\n",
       "    <tr>\n",
       "      <th>train</th>\n",
       "      <td>37.752637</td>\n",
       "      <td>4.424324</td>\n",
       "      <td>0.109948</td>\n",
       "      <td>0.879081</td>\n",
       "    </tr>\n",
       "    <tr>\n",
       "      <th>test</th>\n",
       "      <td>38.195978</td>\n",
       "      <td>4.459449</td>\n",
       "      <td>0.112409</td>\n",
       "      <td>0.887414</td>\n",
       "    </tr>\n",
       "  </tbody>\n",
       "</table>\n",
       "</div>"
      ],
      "text/plain": [
       "             mse       mae      mape        r2\n",
       "train  37.752637  4.424324  0.109948  0.879081\n",
       "test   38.195978  4.459449  0.112409  0.887414"
      ]
     },
     "execution_count": 63,
     "metadata": {},
     "output_type": "execute_result"
    }
   ],
   "source": [
    "model_r = Ridge(alpha=0.01, fit_intercept=True, solver='svd')\n",
    "fit_and_evaluate(model_r, x_train, y_train, x_test, y_test)"
   ]
  },
  {
   "cell_type": "code",
   "execution_count": 64,
   "id": "2fa549ec",
   "metadata": {
    "ExecuteTime": {
     "end_time": "2022-02-05T15:50:44.078980Z",
     "start_time": "2022-02-05T15:50:44.066065Z"
    }
   },
   "outputs": [
    {
     "name": "stdout",
     "output_type": "stream",
     "text": [
      "intercept: -4.415094834106142\n",
      "coef: [0.982286258682531, -0.03941820554953662, -0.14430049588718558, 0.20774540691241938]\n",
      "l2 norm: 1.015096486119307\n"
     ]
    }
   ],
   "source": [
    "print(f'intercept: {model_r.intercept_}')\n",
    "print(f'coef: {model_r.coef_.tolist()}')\n",
    "print(f'l2 norm: {l2_norm(model_r.coef_)}')"
   ]
  },
  {
   "cell_type": "markdown",
   "id": "246453e3",
   "metadata": {},
   "source": [
    "* notice how parameter values changed\n",
    "* also notice how $L_2$-norm values decreased"
   ]
  },
  {
   "cell_type": "code",
   "execution_count": null,
   "id": "1df0b007",
   "metadata": {},
   "outputs": [],
   "source": []
  },
  {
   "cell_type": "markdown",
   "id": "3ce0180e",
   "metadata": {},
   "source": [
    "## Task 12. Putting all together. (up to 10 points)\n",
    "\n",
    "In the final task we'll try to recap all that we have learnt so far.\n",
    "\n",
    "Your task is to build a Linear regression model with multiple variables to predict `agility` variable.<br>\n",
    "Only `LinearRegression` class is allowed to be used for modeling.<br>\n",
    "\n",
    "Steps you need to follow:\n",
    "\n",
    "* Make a new train/test split with new proportion: 70% on train and 30% on test data **(1 point)**\n",
    "\n",
    "\n",
    "* Fit a model **(up to 6 points)**\n",
    "    \n",
    "    * Choose >= 10 features from training set as initial set of features\n",
    "      Explain your choice. **(1 point)**\n",
    "      \n",
    "    * Visualize correlation matrix for selected features **(1 point)**\n",
    "    \n",
    "    * Analyze if collinear/multicollinear features are present in your feature set.<br>\n",
    "      Process collinear/multicollinear features if they are present:<br>\n",
    "      remove redundant features, combine features into new ones, etc **(up to 3 points)**\n",
    "     \n",
    "    * Fit the model and calculate metrics on train and test sets<br>\n",
    "      **(1 point max. -0.25 points per each metric that was not implemented in the beginning of the assignment)**\n",
    "    \n",
    "\n",
    "* Analyze fitted model performance **(up to 2 points)**:\n",
    "    * Print fitted model parameters and calculate their $L_2$-norm value **(1 point)**\n",
    "    * Make conclusion whether your model overfitted or not. Provide your arguments. **(1 point)**\n",
    "\n",
    "\n",
    "* Write a short report about the work done **(1 point)**<br>\n",
    "  Can you find a logical explanation for high correlation of some of your features?<br>\n",
    "  Are you satisfied with the quality of predictions?<br>\n",
    "  How could you pottentially improve the model?<br>\n",
    "  Any other thoughts.\n",
    "\n",
    "\n",
    "**Penalties:**\n",
    "- **0 points are assigned for the whole task** if used a model different from:\n",
    "    - `sklearn.linear_model.LinearRegression`\n",
    "    - or `LRMatrixForm`"
   ]
  },
  {
   "cell_type": "code",
   "execution_count": null,
   "id": "e2ad74a4",
   "metadata": {},
   "outputs": [],
   "source": []
  },
  {
   "cell_type": "code",
   "execution_count": null,
   "id": "52ec77c7",
   "metadata": {},
   "outputs": [],
   "source": []
  }
 ],
 "metadata": {
  "kernelspec": {
   "display_name": "Python 3 (ipykernel)",
   "language": "python",
   "name": "python3"
  },
  "language_info": {
   "codemirror_mode": {
    "name": "ipython",
    "version": 3
   },
   "file_extension": ".py",
   "mimetype": "text/x-python",
   "name": "python",
   "nbconvert_exporter": "python",
   "pygments_lexer": "ipython3",
   "version": "3.9.7"
  },
  "toc": {
   "base_numbering": 1,
   "nav_menu": {},
   "number_sections": true,
   "sideBar": true,
   "skip_h1_title": false,
   "title_cell": "Table of Contents",
   "title_sidebar": "Contents",
   "toc_cell": false,
   "toc_position": {
    "height": "calc(100% - 180px)",
    "left": "10px",
    "top": "150px",
    "width": "248px"
   },
   "toc_section_display": true,
   "toc_window_display": true
  }
 },
 "nbformat": 4,
 "nbformat_minor": 5
}
